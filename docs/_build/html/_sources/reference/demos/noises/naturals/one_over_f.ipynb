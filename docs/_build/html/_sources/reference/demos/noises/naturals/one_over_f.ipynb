{
 "cells": [
  {
   "cell_type": "markdown",
   "id": "f6225c09",
   "metadata": {},
   "source": [
    "```{attention}\n",
    "To run locally, the code for these interactive demos requires\n",
    "a [Jupyter Notebook](https://jupyter.org/) environment,\n",
    "and the [Panel extension](https://panel.holoviz.org/).\n",
    "```\n",
    "\n",
    "# One over f\n",
    "{py:func}`stimupy.noises.naturals.one_over_f`\n",
    "\n",
    "```{pyodide}\n",
    ":skip-embed:\n",
    "\n",
    "import param\n",
    "\n",
    "class OneOverFParams(param.Parameterized):\n",
    "    # Image size parameters\n",
    "    height = param.Integer(default=10, bounds=(1, 20), doc=\"Height in degrees\")\n",
    "    width = param.Integer(default=10, bounds=(1, 20), doc=\"Width in degrees\")\n",
    "    ppd = param.Integer(default=20, bounds=(1, 40), doc=\"Pixels per degree\")\n",
    "\n",
    "    exponent = param.Number(default=1., bounds=(0., 5), step=0.1, doc=\"\")\n",
    "    intensity_min = param.Number(default=0., bounds=(0, 1), step=0.01, doc=\"\")\n",
    "    intensity_max = param.Number(default=1., bounds=(0, 1), step=0.01, doc=\"\")\n",
    "    pseudo_noise = param.Boolean(default=False, doc=\"\")\n",
    "\n",
    "    def get_stimulus_params(self):\n",
    "        return {\n",
    "            \"visual_size\": (self.height, self.width),\n",
    "            \"ppd\": self.ppd,\n",
    "            \"exponent\": self.exponent,\n",
    "            \"intensity_range\": (self.intensity_min, self.intensity_max),\n",
    "            \"pseudo_noise\": self.pseudo_noise,\n",
    "        }\n",
    "```\n",
    "\n",
    "```{pyodide}\n",
    ":skip-embed:\n",
    "\n",
    "from stimupy.noises.naturals import one_over_f\n",
    "from stimupy._docs.display_stimulus import InteractiveStimDisplay\n",
    "\n",
    "# Create and display the interactive one_over_f\n",
    "one_over_f_params = OneOverFParams()\n",
    "disp = InteractiveStimDisplay(one_over_f, one_over_f_params)\n",
    "disp.layout\n",
    "```"
   ]
  }
 ],
 "metadata": {
  "jupytext": {
   "formats": "md:myst",
   "text_representation": {
    "extension": ".md",
    "format_name": "myst",
    "format_version": 0.13,
    "jupytext_version": "1.14.5"
   }
  },
  "kernelspec": {
   "display_name": "Python 3 (ipykernel)",
   "language": "python",
   "name": "python3"
  },
  "language_info": {
   "codemirror_mode": {
    "name": "ipython",
    "version": 3
   },
   "file_extension": ".py",
   "mimetype": "text/x-python",
   "name": "python",
   "nbconvert_exporter": "python",
   "pygments_lexer": "ipython3",
   "version": "3.13.7"
  },
  "source_map": [
   13
  ]
 },
 "nbformat": 4,
 "nbformat_minor": 5
}