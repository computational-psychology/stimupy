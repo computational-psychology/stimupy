{
 "cells": [
  {
   "cell_type": "markdown",
   "id": "0b3a49a9",
   "metadata": {},
   "source": [
    "```{attention}\n",
    "To run locally, the code for these interactive demos requires\n",
    "a [Jupyter Notebook](https://jupyter.org/) environment,\n",
    "and the [Panel extension](https://panel.holoviz.org/).\n",
    "```\n",
    "\n",
    "# Corrugated Mondrian\n",
    "{py:func}`stimupy.stimuli.mondrians.corrugated_mondrian`\n",
    "\n",
    "```{pyodide}\n",
    ":skip-embed:\n",
    "\n",
    "import param\n",
    "\n",
    "class CorrugatedMondrianParams(param.Parameterized):\n",
    "    # Image size parameters\n",
    "    height = param.Number(default=10, bounds=(1, 20), doc=\"Height of image in degrees\")\n",
    "    width = param.Number(default=10, bounds=(1, 20), doc=\"Width of image in degrees\")\n",
    "    ppd = param.Number(default=32, bounds=(1, 60), doc=\"Pixels per degree\")\n",
    "    \n",
    "    # Grid parameters\n",
    "    nrows = param.Integer(default=4, bounds=(1, 8), doc=\"Number of rows\", allow_None=True)\n",
    "    ncols = param.Integer(default=4, bounds=(1, 8), doc=\"Number of columns\", allow_None=True)\n",
    "    \n",
    "    # Depth parameters\n",
    "    depth1 = param.Number(default=1, bounds=(-2, 2), doc=\"Depth of row 1\")\n",
    "    depth2 = param.Number(default=0, bounds=(-2, 2), doc=\"Depth of row 2\") \n",
    "    depth3 = param.Number(default=-1, bounds=(-2, 2), doc=\"Depth of row 3\")\n",
    "    depth4 = param.Number(default=0, bounds=(-2, 2), doc=\"Depth of row 4\")\n",
    "    \n",
    "    # Target parameters\n",
    "    target_idx1 = param.Integer(default=1, bounds=(0, 3), doc=\"Target row index 1\")\n",
    "    target_idx2 = param.Integer(default=1, bounds=(0, 3), doc=\"Target column index 1\")\n",
    "    target_idx3 = param.Integer(default=3, bounds=(0, 3), doc=\"Target row index 2\")\n",
    "    target_idx4 = param.Integer(default=1, bounds=(0, 3), doc=\"Target column index 2\")\n",
    "    intensity_target = param.Number(default=0.5, bounds=(0, 1), doc=\"Target intensity\", allow_None=True)\n",
    "    \n",
    "    # Background intensity\n",
    "    intensity_background = param.Number(default=0.5, bounds=(0, 1), doc=\"Background intensity\")\n",
    "    \n",
    "    def get_stimulus_params(self):\n",
    "        import numpy as np\n",
    "        return {\n",
    "            \"visual_size\": (self.height, self.width),\n",
    "            \"ppd\": self.ppd,\n",
    "            \"nrows\": self.nrows,\n",
    "            \"ncols\": self.ncols,\n",
    "            \"depths\": (self.depth1, self.depth2, self.depth3, self.depth4),\n",
    "            \"intensities\": np.random.rand(4, 4),\n",
    "            \"target_indices\": ((self.target_idx1, self.target_idx2), (self.target_idx3, self.target_idx4)),\n",
    "            \"intensity_background\": self.intensity_background,\n",
    "            \"intensity_target\": self.intensity_target,\n",
    "        }\n",
    "```\n",
    "\n",
    "```{pyodide}\n",
    ":skip-embed:\n",
    "\n",
    "from stimupy.stimuli.mondrians import corrugated_mondrian\n",
    "from display_stimulus import InteractiveStimDisplay\n",
    "\n",
    "# Create and display the interactive corrugated_mondrian\n",
    "corrugated_mondrian_params = CorrugatedMondrianParams()\n",
    "disp = InteractiveStimDisplay(corrugated_mondrian, corrugated_mondrian_params)\n",
    "disp.layout\n",
    "```"
   ]
  }
 ],
 "metadata": {
  "jupytext": {
   "formats": "md:myst",
   "text_representation": {
    "extension": ".md",
    "format_name": "myst",
    "format_version": 0.13,
    "jupytext_version": "1.14.5"
   }
  },
  "kernelspec": {
   "display_name": "Python 3 (ipykernel)",
   "language": "python",
   "name": "python3"
  },
  "language_info": {
   "codemirror_mode": {
    "name": "ipython",
    "version": 3
   },
   "file_extension": ".py",
   "mimetype": "text/x-python",
   "name": "python",
   "nbconvert_exporter": "python",
   "pygments_lexer": "ipython3",
   "version": "3.13.7"
  },
  "source_map": [
   13
  ]
 },
 "nbformat": 4,
 "nbformat_minor": 5
}