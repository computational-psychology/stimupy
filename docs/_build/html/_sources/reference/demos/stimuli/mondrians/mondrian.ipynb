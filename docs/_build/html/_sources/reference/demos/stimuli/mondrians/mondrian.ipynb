{
 "cells": [
  {
   "cell_type": "markdown",
   "id": "0f7be9a4",
   "metadata": {},
   "source": [
    "```{attention}\n",
    "To run locally, the code for these interactive demos requires\n",
    "a [Jupyter Notebook](https://jupyter.org/) environment,\n",
    "and the [Panel extension](https://panel.holoviz.org/).\n",
    "```\n",
    "\n",
    "# Mondrian\n",
    "{py:func}`stimupy.stimuli.mondrians.mondrian`\n",
    "\n",
    "```{pyodide}\n",
    ":skip-embed:\n",
    "\n",
    "import param\n",
    "\n",
    "class MondrianParams(param.Parameterized):\n",
    "    # Image size parameters\n",
    "    height = param.Number(default=10, bounds=(1, 20), doc=\"Height of image in degrees\")\n",
    "    width = param.Number(default=10, bounds=(1, 20), doc=\"Width of image in degrees\") \n",
    "    ppd = param.Number(default=32, bounds=(1, 60), doc=\"Pixels per degree\")\n",
    "    \n",
    "    # Mondrian positions (y, x coordinates)\n",
    "    pos1_y = param.Number(default=0, bounds=(0, 10), doc=\"Y position of mondrian 1\")\n",
    "    pos1_x = param.Number(default=0, bounds=(0, 10), doc=\"X position of mondrian 1\")\n",
    "    pos2_y = param.Number(default=8, bounds=(0, 10), doc=\"Y position of mondrian 2\")\n",
    "    pos2_x = param.Number(default=4, bounds=(0, 10), doc=\"X position of mondrian 2\")\n",
    "    pos3_y = param.Number(default=1, bounds=(0, 10), doc=\"Y position of mondrian 3\")\n",
    "    pos3_x = param.Number(default=6, bounds=(0, 10), doc=\"X position of mondrian 3\")\n",
    "    \n",
    "    # Mondrian sizes (height, width, depth)\n",
    "    size1_h = param.Number(default=3, bounds=(0.5, 8), doc=\"Height of mondrian 1\")\n",
    "    size1_w = param.Number(default=4, bounds=(0.5, 8), doc=\"Width of mondrian 1\")\n",
    "    size1_d = param.Number(default=1, bounds=(-2, 2), doc=\"Depth of mondrian 1\")\n",
    "    size2_h = param.Number(default=2, bounds=(0.5, 8), doc=\"Height of mondrian 2\")\n",
    "    size2_w = param.Number(default=2, bounds=(0.5, 8), doc=\"Width of mondrian 2\")\n",
    "    size2_d = param.Number(default=0, bounds=(-2, 2), doc=\"Depth of mondrian 2\")\n",
    "    size3_h = param.Number(default=5, bounds=(0.5, 8), doc=\"Height of mondrian 3\")\n",
    "    size3_w = param.Number(default=4, bounds=(0.5, 8), doc=\"Width of mondrian 3\")\n",
    "    size3_d = param.Number(default=-1, bounds=(-2, 2), doc=\"Depth of mondrian 3\")\n",
    "    \n",
    "    # Intensities\n",
    "    intensity1 = param.Number(default=0.2, bounds=(0, 1), doc=\"Intensity of mondrian 1\")\n",
    "    intensity2 = param.Number(default=0.6, bounds=(0, 1), doc=\"Intensity of mondrian 2\") \n",
    "    intensity3 = param.Number(default=0.9, bounds=(0, 1), doc=\"Intensity of mondrian 3\")\n",
    "    intensity_background = param.Number(default=0.5, bounds=(0, 1), doc=\"Background intensity\")\n",
    "    \n",
    "    def get_stimulus_params(self):\n",
    "        return {\n",
    "            \"visual_size\": (self.height, self.width),\n",
    "            \"ppd\": self.ppd,\n",
    "            \"positions\": ((self.pos1_y, self.pos1_x), (self.pos2_y, self.pos2_x), (self.pos3_y, self.pos3_x)),\n",
    "            \"sizes\": ((self.size1_h, self.size1_w, self.size1_d), (self.size2_h, self.size2_w, self.size2_d), (self.size3_h, self.size3_w, self.size3_d)),\n",
    "            \"intensities\": (self.intensity1, self.intensity2, self.intensity3),\n",
    "            \"intensity_background\": self.intensity_background,\n",
    "        }\n",
    "```\n",
    "\n",
    "```{pyodide}\n",
    ":skip-embed:\n",
    "\n",
    "from stimupy.stimuli.mondrians import mondrian\n",
    "from stimupy._docs.display_stimulus import InteractiveStimDisplay\n",
    "\n",
    "# Create and display the interactive mondrian\n",
    "mondrian_params = MondrianParams()\n",
    "disp = InteractiveStimDisplay(mondrian, mondrian_params)\n",
    "disp.layout\n",
    "```"
   ]
  }
 ],
 "metadata": {
  "jupytext": {
   "formats": "md:myst",
   "text_representation": {
    "extension": ".md",
    "format_name": "myst",
    "format_version": 0.13,
    "jupytext_version": "1.14.5"
   }
  },
  "kernelspec": {
   "display_name": "Python 3 (ipykernel)",
   "language": "python",
   "name": "python3"
  },
  "language_info": {
   "codemirror_mode": {
    "name": "ipython",
    "version": 3
   },
   "file_extension": ".py",
   "mimetype": "text/x-python",
   "name": "python",
   "nbconvert_exporter": "python",
   "pygments_lexer": "ipython3",
   "version": "3.13.7"
  },
  "source_map": [
   13
  ]
 },
 "nbformat": 4,
 "nbformat_minor": 5
}