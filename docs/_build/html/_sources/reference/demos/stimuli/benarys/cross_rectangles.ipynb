{
 "cells": [
  {
   "cell_type": "markdown",
   "id": "e3df26b5",
   "metadata": {},
   "source": [
    "```{attention}\n",
    "To run locally, the code for these interactive demos requires\n",
    "a [Jupyter Notebook](https://jupyter.org/) environment,\n",
    "and the [Panel extension](https://panel.holoviz.org/).\n",
    "```\n",
    "\n",
    "# Cross, rectangles\n",
    "{py:func}`stimupy.stimuli.benarys.cross_rectangles`\n",
    "\n",
    "```{pyodide}\n",
    ":skip-embed:\n",
    "\n",
    "import param\n",
    "\n",
    "class CrossRectanglesParams(param.Parameterized):\n",
    "    # Image size parameters\n",
    "    height = param.Integer(default=10, bounds=(1, 20), doc=\"Height in degrees\")\n",
    "    width = param.Integer(default=10, bounds=(1, 20), doc=\"Width in degrees\")\n",
    "    ppd = param.Integer(default=20, bounds=(1, 40), doc=\"Pixels per degree\")\n",
    "\n",
    "    cross_thickness = param.Number(default=2, bounds=(1, 10), step=0.1, doc=\"\")\n",
    "    target_height = param.Number(default=2, bounds=(1, 4), step=0.1, doc=\"\")\n",
    "    target_width = param.Number(default=2, bounds=(1, 4), step=0.1, doc=\"\")\n",
    "    intensity_target = param.Number(default=0.5, bounds=(0, 1), step=0.01, doc=\"\")\n",
    "    intensity_cross = param.Number(default=1.0, bounds=(0, 1), step=0.01, doc=\"\")\n",
    "    intensity_background = param.Number(default=0.0, bounds=(0, 1), step=0.01, doc=\"\")\n",
    "\n",
    "    def get_stimulus_params(self):\n",
    "        return {\n",
    "            \"visual_size\": (self.height, self.width),\n",
    "            \"ppd\": self.ppd,\n",
    "            \"cross_thickness\": self.cross_thickness,\n",
    "            \"target_size\": (self.target_height, self.target_width),\n",
    "            \"intensity_target\": self.intensity_target,\n",
    "            \"intensity_cross\": self.intensity_cross,\n",
    "            \"intensity_background\": self.intensity_background,\n",
    "        }\n",
    "```\n",
    "\n",
    "```{pyodide}\n",
    ":skip-embed:\n",
    "\n",
    "from stimupy.stimuli.benarys import cross_rectangles\n",
    "from display_stimulus import InteractiveStimDisplay\n",
    "\n",
    "# Create and display the interactive cross_rectangles\n",
    "cross_rectangles_params = CrossRectanglesParams()\n",
    "disp = InteractiveStimDisplay(cross_rectangles, cross_rectangles_params)\n",
    "disp.layout\n",
    "```"
   ]
  }
 ],
 "metadata": {
  "jupytext": {
   "formats": "md:myst",
   "text_representation": {
    "extension": ".md",
    "format_name": "myst",
    "format_version": 0.13,
    "jupytext_version": "1.14.5"
   }
  },
  "kernelspec": {
   "display_name": "Python 3 (ipykernel)",
   "language": "python",
   "name": "python3"
  },
  "language_info": {
   "codemirror_mode": {
    "name": "ipython",
    "version": 3
   },
   "file_extension": ".py",
   "mimetype": "text/x-python",
   "name": "python",
   "nbconvert_exporter": "python",
   "pygments_lexer": "ipython3",
   "version": "3.13.7"
  },
  "source_map": [
   13
  ]
 },
 "nbformat": 4,
 "nbformat_minor": 5
}