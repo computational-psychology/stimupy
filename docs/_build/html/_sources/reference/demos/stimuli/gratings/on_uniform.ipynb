{
 "cells": [
  {
   "cell_type": "markdown",
   "id": "606b8d89",
   "metadata": {},
   "source": [
    "```{attention}\n",
    "To run locally, the code for these interactive demos requires\n",
    "a [Jupyter Notebook](https://jupyter.org/) environment,\n",
    "and the [Panel extension](https://panel.holoviz.org/).\n",
    "```\n",
    "\n",
    "# On uniform background\n",
    "{py:func}`stimupy.stimuli.gratings.on_uniform`\n",
    "\n",
    "```{pyodide}\n",
    ":skip-embed:\n",
    "\n",
    "import param\n",
    "\n",
    "class OnUniformParams(param.Parameterized):\n",
    "    # Image size parameters\n",
    "    height = param.Integer(default=10, bounds=(1, 20), doc=\"Height in degrees\")\n",
    "    width = param.Integer(default=10, bounds=(1, 20), doc=\"Width in degrees\")\n",
    "    ppd = param.Integer(default=20, bounds=(1, 40), doc=\"Pixels per degree\")\n",
    "\n",
    "    grating_height = param.Number(default=5, bounds=(1, 10), step=0.1, doc=\"Grating height\")\n",
    "    grating_width = param.Number(default=5, bounds=(1, 10), step=0.1, doc=\"Grating width\")\n",
    "    frequency = param.Number(default=1, bounds=(0.1, 2), step=0.1, doc=\"Frequency in cpd\")\n",
    "    phase_shift = param.Number(default=0, bounds=(0, 360), step=1, doc=\"Phase shift in degrees\")\n",
    "    rotation = param.Number(default=0, bounds=(0, 360), step=1, doc=\"Rotation in degrees\")\n",
    "    intensity1 = param.Number(default=0.0, bounds=(0, 1), step=0.01, doc=\"Intensity 1\")\n",
    "    intensity2 = param.Number(default=1.0, bounds=(0, 1), step=0.01, doc=\"Intensity 2\")\n",
    "    intensity_background = param.Number(default=0.5, bounds=(0, 1), step=0.01, doc=\"Background intensity\")\n",
    "    intensity_target = param.Number(default=0.5, bounds=(0, 1), step=0.01, doc=\"Target intensity\")\n",
    "    target_idx = param.Integer(default=5, bounds=(1, 10), doc=\"Target index\")\n",
    "\n",
    "    def get_stimulus_params(self):\n",
    "        return {\n",
    "            \"visual_size\": (self.height, self.width),\n",
    "            \"ppd\": self.ppd,\n",
    "            \"grating_size\": (self.grating_height, self.grating_width),\n",
    "            \"frequency\": self.frequency,\n",
    "            \"phase_shift\": self.phase_shift,\n",
    "            \"rotation\": self.rotation,\n",
    "            \"intensity_bars\": (self.intensity1, self.intensity2),\n",
    "            \"intensity_background\": self.intensity_background,\n",
    "            \"target_indices\": (self.target_idx,),\n",
    "            \"intensity_target\": self.intensity_target,\n",
    "        }\n",
    "```\n",
    "\n",
    "```{pyodide}\n",
    ":skip-embed:\n",
    "\n",
    "from stimupy.stimuli.gratings import on_uniform\n",
    "from display_stimulus import InteractiveStimDisplay\n",
    "\n",
    "# Create and display the interactive on_uniform\n",
    "on_uniform_params = OnUniformParams()\n",
    "disp = InteractiveStimDisplay(on_uniform, on_uniform_params)\n",
    "disp.layout\n",
    "```"
   ]
  }
 ],
 "metadata": {
  "jupytext": {
   "formats": "md:myst",
   "text_representation": {
    "extension": ".md",
    "format_name": "myst",
    "format_version": 0.13,
    "jupytext_version": "1.14.5"
   }
  },
  "kernelspec": {
   "display_name": "Python 3 (ipykernel)",
   "language": "python",
   "name": "python3"
  },
  "language_info": {
   "codemirror_mode": {
    "name": "ipython",
    "version": 3
   },
   "file_extension": ".py",
   "mimetype": "text/x-python",
   "name": "python",
   "nbconvert_exporter": "python",
   "pygments_lexer": "ipython3",
   "version": "3.13.7"
  },
  "source_map": [
   13
  ]
 },
 "nbformat": 4,
 "nbformat_minor": 5
}