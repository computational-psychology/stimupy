{
 "cells": [
  {
   "cell_type": "markdown",
   "id": "1a1bc834",
   "metadata": {},
   "source": [
    "```{attention}\n",
    "To run locally, the code for these interactive demos requires\n",
    "a [Jupyter Notebook](https://jupyter.org/) environment,\n",
    "and the [Panel extension](https://panel.holoviz.org/).\n",
    "```\n",
    "\n",
    "# Square, angular\n",
    "{py:func}`stimupy.stimuli.waves.square_angular`\n",
    "\n",
    "```{pyodide}\n",
    ":skip-embed:\n",
    "\n",
    "import param\n",
    "\n",
    "class SquareAngularParams(param.Parameterized):\n",
    "    # Image size parameters\n",
    "    height = param.Integer(default=10, bounds=(1, 20), doc=\"Height in degrees\")\n",
    "    width = param.Integer(default=10, bounds=(1, 20), doc=\"Width in degrees\")\n",
    "    ppd = param.Integer(default=20, bounds=(1, 40), doc=\"Pixels per degree\")\n",
    "\n",
    "    frequency = param.Number(default=8, bounds=(4, 20), step=1, doc=\"Frequency\")\n",
    "    phase_shift = param.Number(default=0, bounds=(0, 360), step=1, doc=\"Phase shift in degrees\")\n",
    "    rotation = param.Number(default=0, bounds=(0, 360), step=1, doc=\"Rotation in degrees\")\n",
    "    intensity_segments_low = param.Number(default=0, bounds=(0, 1), step=0.01, doc=\"Low segment intensity\")\n",
    "    intensity_segments_high = param.Number(default=1, bounds=(0, 1), step=0.01, doc=\"High segment intensity\")\n",
    "    origin = param.Selector(default=\"mean\", objects=[\"mean\", \"corner\", \"center\"], doc=\"Origin\")\n",
    "\n",
    "    def get_stimulus_params(self):\n",
    "        return {\n",
    "            \"visual_size\": (self.height, self.width),\n",
    "            \"ppd\": self.ppd,\n",
    "            \"frequency\": self.frequency,\n",
    "            \"phase_shift\": self.phase_shift,\n",
    "            \"rotation\": self.rotation,\n",
    "            \"intensity_segments\": (self.intensity_segments_low, self.intensity_segments_high),\n",
    "            \"origin\": self.origin,\n",
    "        }\n",
    "```\n",
    "\n",
    "```{pyodide}\n",
    ":skip-embed:\n",
    "\n",
    "from stimupy.stimuli.waves import square_angular\n",
    "from display_stimulus import InteractiveStimDisplay\n",
    "\n",
    "# Create and display the interactive square_angular\n",
    "square_angular_params = SquareAngularParams()\n",
    "disp = InteractiveStimDisplay(square_angular, square_angular_params)\n",
    "disp.layout\n",
    "```"
   ]
  }
 ],
 "metadata": {
  "jupytext": {
   "formats": "md:myst",
   "text_representation": {
    "extension": ".md",
    "format_name": "myst",
    "format_version": 0.13,
    "jupytext_version": "1.14.5"
   }
  },
  "kernelspec": {
   "display_name": "Python 3 (ipykernel)",
   "language": "python",
   "name": "python3"
  },
  "language_info": {
   "codemirror_mode": {
    "name": "ipython",
    "version": 3
   },
   "file_extension": ".py",
   "mimetype": "text/x-python",
   "name": "python",
   "nbconvert_exporter": "python",
   "pygments_lexer": "ipython3",
   "version": "3.13.7"
  },
  "source_map": [
   13
  ]
 },
 "nbformat": 4,
 "nbformat_minor": 5
}