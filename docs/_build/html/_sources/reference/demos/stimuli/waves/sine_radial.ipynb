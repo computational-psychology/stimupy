{
 "cells": [
  {
   "cell_type": "markdown",
   "id": "317de55f",
   "metadata": {},
   "source": [
    "```{attention}\n",
    "To run locally, the code for these interactive demos requires\n",
    "a [Jupyter Notebook](https://jupyter.org/) environment,\n",
    "and the [Panel extension](https://panel.holoviz.org/).\n",
    "```\n",
    "\n",
    "# Sine, radial\n",
    "{py:func}`stimupy.stimuli.waves.sine_radial`\n",
    "\n",
    "```{pyodide}\n",
    ":skip-embed:\n",
    "\n",
    "import param\n",
    "\n",
    "class SineRadialParams(param.Parameterized):\n",
    "    # Image size parameters\n",
    "    height = param.Integer(default=10, bounds=(1, 20), doc=\"Height in degrees\")\n",
    "    width = param.Integer(default=10, bounds=(1, 20), doc=\"Width in degrees\")\n",
    "    ppd = param.Integer(default=20, bounds=(1, 40), doc=\"Pixels per degree\")\n",
    "\n",
    "    frequency = param.Number(default=1, bounds=(0, 2), step=0.1, doc=\"Frequency in cpd\")\n",
    "    phase_shift = param.Number(default=0, bounds=(0, 360), step=1, doc=\"Phase shift in degrees\")\n",
    "    rotation = param.Number(default=0, bounds=(0, 360), step=1, doc=\"Rotation in degrees\")\n",
    "    intensities_low = param.Number(default=0, bounds=(0, 1), step=0.01, doc=\"Low intensity\")\n",
    "    intensities_high = param.Number(default=1, bounds=(0, 1), step=0.01, doc=\"High intensity\")\n",
    "    clip = param.Boolean(default=False, doc=\"Clip stimulus\")\n",
    "    intensity_background = param.Number(default=0.5, bounds=(0, 1), step=0.01, doc=\"Background intensity\")\n",
    "    origin = param.Selector(default=\"mean\", objects=[\"mean\", \"corner\", \"center\"], doc=\"Origin\")\n",
    "\n",
    "    def get_stimulus_params(self):\n",
    "        return {\n",
    "            \"visual_size\": (self.height, self.width),\n",
    "            \"ppd\": self.ppd,\n",
    "            \"frequency\": self.frequency,\n",
    "            \"phase_shift\": self.phase_shift,\n",
    "            \"rotation\": self.rotation,\n",
    "            \"intensities\": (self.intensities_low, self.intensities_high),\n",
    "            \"clip\": self.clip,\n",
    "            \"intensity_background\": self.intensity_background,\n",
    "            \"origin\": self.origin,\n",
    "        }\n",
    "```\n",
    "\n",
    "```{pyodide}\n",
    ":skip-embed:\n",
    "\n",
    "from stimupy.stimuli.waves import sine_radial\n",
    "from display_stimulus import InteractiveStimDisplay\n",
    "\n",
    "# Create and display the interactive sine_radial\n",
    "sine_radial_params = SineRadialParams()\n",
    "disp = InteractiveStimDisplay(sine_radial, sine_radial_params)\n",
    "disp.layout\n",
    "```"
   ]
  }
 ],
 "metadata": {
  "jupytext": {
   "formats": "md:myst",
   "text_representation": {
    "extension": ".md",
    "format_name": "myst",
    "format_version": 0.13,
    "jupytext_version": "1.14.5"
   }
  },
  "kernelspec": {
   "display_name": "Python 3 (ipykernel)",
   "language": "python",
   "name": "python3"
  },
  "language_info": {
   "codemirror_mode": {
    "name": "ipython",
    "version": 3
   },
   "file_extension": ".py",
   "mimetype": "text/x-python",
   "name": "python",
   "nbconvert_exporter": "python",
   "pygments_lexer": "ipython3",
   "version": "3.13.7"
  },
  "source_map": [
   13
  ]
 },
 "nbformat": 4,
 "nbformat_minor": 5
}