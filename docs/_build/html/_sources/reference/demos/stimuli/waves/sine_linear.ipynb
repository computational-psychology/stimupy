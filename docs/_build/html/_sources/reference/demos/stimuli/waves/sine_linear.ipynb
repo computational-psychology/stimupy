{
 "cells": [
  {
   "cell_type": "markdown",
   "id": "68e7fcee",
   "metadata": {},
   "source": [
    "```{attention}\n",
    "To run locally, the code for these interactive demos requires\n",
    "a [Jupyter Notebook](https://jupyter.org/) environment,\n",
    "and the [Panel extension](https://panel.holoviz.org/).\n",
    "```\n",
    "\n",
    "# Sine, linear\n",
    "{py:func}`stimupy.stimuli.waves.sine_linear`\n",
    "\n",
    "```{pyodide}\n",
    ":skip-embed:\n",
    "\n",
    "import param\n",
    "\n",
    "class SineLinearParams(param.Parameterized):\n",
    "    # Image size parameters\n",
    "    height = param.Integer(default=10, bounds=(1, 20), doc=\"Height in degrees\")\n",
    "    width = param.Integer(default=10, bounds=(1, 20), doc=\"Width in degrees\")\n",
    "    ppd = param.Integer(default=20, bounds=(1, 40), doc=\"Pixels per degree\")\n",
    "\n",
    "    frequency = param.Number(default=1, bounds=(0, 2), step=0.1, doc=\"Frequency in cpd\")\n",
    "    phase_shift = param.Number(default=0, bounds=(0, 360), step=1, doc=\"Phase shift in degrees\")\n",
    "    rotation = param.Number(default=0, bounds=(0, 360), step=1, doc=\"Rotation in degrees\")\n",
    "    intensities_low = param.Number(default=0, bounds=(0, 1), step=0.01, doc=\"Low intensity\")\n",
    "    intensities_high = param.Number(default=1, bounds=(0, 1), step=0.01, doc=\"High intensity\")\n",
    "    origin = param.Selector(default=\"corner\", objects=[\"mean\", \"corner\", \"center\"], doc=\"Origin\")\n",
    "    period = param.Selector(default=\"ignore\", objects=[\"ignore\", \"even\", \"odd\", \"either\"], doc=\"Period\")\n",
    "\n",
    "    def get_stimulus_params(self):\n",
    "        return {\n",
    "            \"visual_size\": (self.height, self.width),\n",
    "            \"ppd\": self.ppd,\n",
    "            \"frequency\": self.frequency,\n",
    "            \"phase_shift\": self.phase_shift,\n",
    "            \"rotation\": self.rotation,\n",
    "            \"intensities\": (self.intensities_low, self.intensities_high),\n",
    "            \"origin\": self.origin,\n",
    "            \"period\": self.period,\n",
    "        }\n",
    "```\n",
    "\n",
    "```{pyodide}\n",
    ":skip-embed:\n",
    "\n",
    "from stimupy.stimuli.waves import sine_linear\n",
    "from stimupy._docs.display_stimulus import InteractiveStimDisplay\n",
    "\n",
    "# Create and display the interactive sine_linear\n",
    "sine_linear_params = SineLinearParams()\n",
    "disp = InteractiveStimDisplay(sine_linear, sine_linear_params)\n",
    "disp.layout\n",
    "```"
   ]
  }
 ],
 "metadata": {
  "jupytext": {
   "formats": "md:myst",
   "text_representation": {
    "extension": ".md",
    "format_name": "myst",
    "format_version": 0.13,
    "jupytext_version": "1.14.5"
   }
  },
  "kernelspec": {
   "display_name": "Python 3 (ipykernel)",
   "language": "python",
   "name": "python3"
  },
  "language_info": {
   "codemirror_mode": {
    "name": "ipython",
    "version": 3
   },
   "file_extension": ".py",
   "mimetype": "text/x-python",
   "name": "python",
   "nbconvert_exporter": "python",
   "pygments_lexer": "ipython3",
   "version": "3.13.7"
  },
  "source_map": [
   13
  ]
 },
 "nbformat": 4,
 "nbformat_minor": 5
}