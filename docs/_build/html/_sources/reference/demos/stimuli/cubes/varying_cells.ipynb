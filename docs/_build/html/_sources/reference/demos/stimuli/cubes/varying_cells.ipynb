{
 "cells": [
  {
   "cell_type": "markdown",
   "id": "da276d7a",
   "metadata": {},
   "source": [
    "```{attention}\n",
    "To run locally, the code for these interactive demos requires\n",
    "a [Jupyter Notebook](https://jupyter.org/) environment,\n",
    "and the [Panel extension](https://panel.holoviz.org/).\n",
    "```\n",
    "\n",
    "# Varying cells\n",
    "{py:func}`stimupy.stimuli.cubes.varying_cells`\n",
    "\n",
    "```{pyodide}\n",
    ":skip-embed:\n",
    "\n",
    "import param\n",
    "\n",
    "class VaryingCellsParams(param.Parameterized):\n",
    "    # Image parameters\n",
    "    ppd = param.Integer(default=20, bounds=(1, 40), doc=\"Pixels per degree\")\n",
    "\n",
    "    cell_length1 = param.Number(default=2, bounds=(0, 4), step=0.1, doc=\"\")\n",
    "    cell_length2 = param.Number(default=2, bounds=(0, 4), step=0.1, doc=\"\")\n",
    "    cell_length3 = param.Number(default=2, bounds=(0, 4), step=0.1, doc=\"\")\n",
    "    cell_length4 = param.Number(default=2, bounds=(0, 4), step=0.1, doc=\"\")\n",
    "    cell_thickness = param.Number(default=2, bounds=(0, 4), step=0.1, doc=\"\")\n",
    "    cell_spacing = param.Number(default=2, bounds=(0, 4), step=0.1, doc=\"\")\n",
    "    intensity_cells = param.Number(default=1.0, bounds=(0, 1), step=0.01, doc=\"\")\n",
    "    intensity_background = param.Number(default=0.0, bounds=(0, 1), step=0.01, doc=\"\")\n",
    "\n",
    "    def get_stimulus_params(self):\n",
    "        return {\n",
    "            \"ppd\": self.ppd,\n",
    "            \"cell_lengths\": [self.cell_length1, self.cell_length2, self.cell_length3, self.cell_length4],\n",
    "            \"cell_thickness\": self.cell_thickness,\n",
    "            \"cell_spacing\": self.cell_spacing,\n",
    "            \"intensity_cells\": self.intensity_cells,\n",
    "            \"intensity_background\": self.intensity_background,\n",
    "        }\n",
    "```\n",
    "\n",
    "```{pyodide}\n",
    ":skip-embed:\n",
    "\n",
    "from stimupy.stimuli.cubes import varying_cells\n",
    "from stimupy._docs.display_stimulus import InteractiveStimDisplay\n",
    "\n",
    "# Create and display the interactive varying_cells\n",
    "varying_cells_params = VaryingCellsParams()\n",
    "disp = InteractiveStimDisplay(varying_cells, varying_cells_params)\n",
    "disp.layout\n",
    "```"
   ]
  }
 ],
 "metadata": {
  "jupytext": {
   "formats": "md:myst",
   "text_representation": {
    "extension": ".md",
    "format_name": "myst",
    "format_version": 0.13,
    "jupytext_version": "1.14.5"
   }
  },
  "kernelspec": {
   "display_name": "Python 3 (ipykernel)",
   "language": "python",
   "name": "python3"
  },
  "language_info": {
   "codemirror_mode": {
    "name": "ipython",
    "version": 3
   },
   "file_extension": ".py",
   "mimetype": "text/x-python",
   "name": "python",
   "nbconvert_exporter": "python",
   "pygments_lexer": "ipython3",
   "version": "3.13.7"
  },
  "source_map": [
   13
  ]
 },
 "nbformat": 4,
 "nbformat_minor": 5
}