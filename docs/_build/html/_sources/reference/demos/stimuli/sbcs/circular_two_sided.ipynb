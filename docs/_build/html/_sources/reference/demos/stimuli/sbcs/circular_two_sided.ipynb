{
 "cells": [
  {
   "cell_type": "markdown",
   "id": "285e0ad7",
   "metadata": {},
   "source": [
    "```{attention}\n",
    "To run locally, the code for these interactive demos requires\n",
    "a [Jupyter Notebook](https://jupyter.org/) environment,\n",
    "and the [Panel extension](https://panel.holoviz.org/).\n",
    "```\n",
    "\n",
    "# Circular, Two sided\n",
    "{py:func}`stimupy.stimuli.sbcs.circular_two_sided`\n",
    "\n",
    "```{pyodide}\n",
    ":skip-embed:\n",
    "\n",
    "import param\n",
    "\n",
    "class CircularTwoSidedParams(param.Parameterized):\n",
    "    # Image size parameters\n",
    "    height = param.Integer(default=10, bounds=(1, 20), doc=\"Height in degrees\")\n",
    "    width = param.Integer(default=10, bounds=(1, 20), doc=\"Width in degrees\")\n",
    "    ppd = param.Integer(default=20, bounds=(1, 40), doc=\"Pixels per degree\")\n",
    "\n",
    "    target_radius_left = param.Number(default=1.0, bounds=(0.1, 3), step=0.1, doc=\"Left target radius\")\n",
    "    target_radius_right = param.Number(default=1.0, bounds=(0.1, 3), step=0.1, doc=\"Right target radius\")\n",
    "    surround_radius_left = param.Number(default=2.0, bounds=(1, 4), step=0.1, doc=\"Left surround radius\")\n",
    "    surround_radius_right = param.Number(default=2.0, bounds=(1, 4), step=0.1, doc=\"Right surround radius\")\n",
    "    intensity_target_left = param.Number(default=0.5, bounds=(0, 1), step=0.01, doc=\"Left target intensity\")\n",
    "    intensity_target_right = param.Number(default=0.5, bounds=(0, 1), step=0.01, doc=\"Right target intensity\")\n",
    "    intensity_surround_left = param.Number(default=0.0, bounds=(0, 1), step=0.01, doc=\"Left surround intensity\")\n",
    "    intensity_surround_right = param.Number(default=1.0, bounds=(0, 1), step=0.01, doc=\"Right surround intensity\")\n",
    "    intensity_background = param.Number(default=0.5, bounds=(0, 1), step=0.01, doc=\"Background intensity\")\n",
    "\n",
    "    def get_stimulus_params(self):\n",
    "        return {\n",
    "            \"visual_size\": (self.height, self.width),\n",
    "            \"ppd\": self.ppd,\n",
    "            \"target_radius\": (self.target_radius_left, self.target_radius_right),\n",
    "            \"surround_radius\": (self.surround_radius_left, self.surround_radius_right),\n",
    "            \"intensity_target\": (self.intensity_target_left, self.intensity_target_right),\n",
    "            \"intensity_surround\": (self.intensity_surround_left, self.intensity_surround_right),\n",
    "            \"intensity_background\": self.intensity_background,\n",
    "        }\n",
    "```\n",
    "\n",
    "```{pyodide}\n",
    ":skip-embed:\n",
    "\n",
    "from stimupy.stimuli.sbcs import circular_two_sided\n",
    "from stimupy._docs.display_stimulus import InteractiveStimDisplay\n",
    "\n",
    "# Create and display the interactive circular_two_sided\n",
    "circular_two_sided_params = CircularTwoSidedParams()\n",
    "disp = InteractiveStimDisplay(circular_two_sided, circular_two_sided_params)\n",
    "disp.layout\n",
    "```"
   ]
  }
 ],
 "metadata": {
  "jupytext": {
   "formats": "md:myst",
   "text_representation": {
    "extension": ".md",
    "format_name": "myst",
    "format_version": 0.13,
    "jupytext_version": "1.14.5"
   }
  },
  "kernelspec": {
   "display_name": "Python 3 (ipykernel)",
   "language": "python",
   "name": "python3"
  },
  "language_info": {
   "codemirror_mode": {
    "name": "ipython",
    "version": 3
   },
   "file_extension": ".py",
   "mimetype": "text/x-python",
   "name": "python",
   "nbconvert_exporter": "python",
   "pygments_lexer": "ipython3",
   "version": "3.13.7"
  },
  "source_map": [
   13
  ]
 },
 "nbformat": 4,
 "nbformat_minor": 5
}