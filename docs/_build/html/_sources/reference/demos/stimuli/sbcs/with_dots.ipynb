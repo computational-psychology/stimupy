{
 "cells": [
  {
   "cell_type": "markdown",
   "id": "b77a97fa",
   "metadata": {},
   "source": [
    "```{attention}\n",
    "To run locally, the code for these interactive demos requires\n",
    "a [Jupyter Notebook](https://jupyter.org/) environment,\n",
    "and the [Panel extension](https://panel.holoviz.org/).\n",
    "```\n",
    "\n",
    "# With dots\n",
    "{py:func}`stimupy.stimuli.sbcs.with_dots`\n",
    "\n",
    "```{pyodide}\n",
    ":skip-embed:\n",
    "\n",
    "import param\n",
    "\n",
    "class WithDotsParams(param.Parameterized):\n",
    "    # Image size parameters\n",
    "    height = param.Integer(default=15, bounds=(10, 20), doc=\"Height in degrees\")\n",
    "    width = param.Integer(default=15, bounds=(10, 20), doc=\"Width in degrees\")\n",
    "    ppd = param.Integer(default=20, bounds=(1, 40), doc=\"Pixels per degree\")\n",
    "\n",
    "    target_height = param.Number(default=3.0, bounds=(1, 6), step=0.1, doc=\"Target height\")\n",
    "    target_width = param.Number(default=3.0, bounds=(1, 6), step=0.1, doc=\"Target width\")\n",
    "    n_dots_y = param.Integer(default=5, bounds=(2, 10), doc=\"Number of dots Y\")\n",
    "    n_dots_x = param.Integer(default=5, bounds=(2, 10), doc=\"Number of dots X\")\n",
    "    dot_radius = param.Number(default=0.5, bounds=(0.1, 2), step=0.1, doc=\"Dot radius\")\n",
    "    distance = param.Number(default=0.25, bounds=(0.1, 1), step=0.05, doc=\"Distance between dots\")\n",
    "    intensity_background = param.Number(default=0.0, bounds=(0, 1), step=0.01, doc=\"Background intensity\")\n",
    "    intensity_dots = param.Number(default=1.0, bounds=(0, 1), step=0.01, doc=\"Dots intensity\")\n",
    "    intensity_target = param.Number(default=0.5, bounds=(0, 1), step=0.01, doc=\"Target intensity\")\n",
    "\n",
    "    def get_stimulus_params(self):\n",
    "        return {\n",
    "            \"visual_size\": (self.height, self.width),\n",
    "            \"ppd\": self.ppd,\n",
    "            \"target_size\": (self.target_height, self.target_width),\n",
    "            \"n_dots\": (self.n_dots_y, self.n_dots_x),\n",
    "            \"dot_radius\": self.dot_radius,\n",
    "            \"distance\": self.distance,\n",
    "            \"intensity_background\": self.intensity_background,\n",
    "            \"intensity_dots\": self.intensity_dots,\n",
    "            \"intensity_target\": self.intensity_target,\n",
    "        }\n",
    "```\n",
    "\n",
    "```{pyodide}\n",
    ":skip-embed:\n",
    "\n",
    "from stimupy.stimuli.sbcs import with_dots\n",
    "from display_stimulus import InteractiveStimDisplay\n",
    "\n",
    "# Create and display the interactive with_dots\n",
    "with_dots_params = WithDotsParams()\n",
    "disp = InteractiveStimDisplay(with_dots, with_dots_params)\n",
    "disp.layout\n",
    "```"
   ]
  }
 ],
 "metadata": {
  "jupytext": {
   "formats": "md:myst",
   "text_representation": {
    "extension": ".md",
    "format_name": "myst",
    "format_version": 0.13,
    "jupytext_version": "1.14.5"
   }
  },
  "kernelspec": {
   "display_name": "Python 3 (ipykernel)",
   "language": "python",
   "name": "python3"
  },
  "language_info": {
   "codemirror_mode": {
    "name": "ipython",
    "version": 3
   },
   "file_extension": ".py",
   "mimetype": "text/x-python",
   "name": "python",
   "nbconvert_exporter": "python",
   "pygments_lexer": "ipython3",
   "version": "3.13.7"
  },
  "source_map": [
   13
  ]
 },
 "nbformat": 4,
 "nbformat_minor": 5
}