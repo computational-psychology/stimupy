{
 "cells": [
  {
   "cell_type": "markdown",
   "id": "a494a6d6",
   "metadata": {},
   "source": [
    "```{attention}\n",
    "To run locally, the code for these interactive demos requires\n",
    "a [Jupyter Notebook](https://jupyter.org/) environment,\n",
    "and the [Panel extension](https://panel.holoviz.org/).\n",
    "```\n",
    "\n",
    "# Basic, Two sided\n",
    "{py:func}`stimupy.stimuli.sbcs.basic_two_sided`\n",
    "\n",
    "```{pyodide}\n",
    ":skip-embed:\n",
    "\n",
    "import param\n",
    "\n",
    "class BasicTwoSidedParams(param.Parameterized):\n",
    "    # Image size parameters\n",
    "    height = param.Integer(default=10, bounds=(1, 20), doc=\"Height in degrees\")\n",
    "    width = param.Integer(default=10, bounds=(1, 20), doc=\"Width in degrees\")\n",
    "    ppd = param.Integer(default=20, bounds=(1, 40), doc=\"Pixels per degree\")\n",
    "\n",
    "    target_height = param.Number(default=3.0, bounds=(1, 6), step=0.1, doc=\"Target height\")\n",
    "    target_width = param.Number(default=3.0, bounds=(1, 6), step=0.1, doc=\"Target width\")\n",
    "    intensity_target_left = param.Number(default=0.5, bounds=(0, 1), step=0.01, doc=\"Left target intensity\")\n",
    "    intensity_target_right = param.Number(default=0.5, bounds=(0, 1), step=0.01, doc=\"Right target intensity\")\n",
    "    intensity_background_left = param.Number(default=0.0, bounds=(0, 1), step=0.01, doc=\"Left background intensity\")\n",
    "    intensity_background_right = param.Number(default=1.0, bounds=(0, 1), step=0.01, doc=\"Right background intensity\")\n",
    "\n",
    "    def get_stimulus_params(self):\n",
    "        return {\n",
    "            \"visual_size\": (self.height, self.width),\n",
    "            \"ppd\": self.ppd,\n",
    "            \"target_size\": (self.target_height, self.target_width),\n",
    "            \"intensity_target\": (self.intensity_target_left, self.intensity_target_right),\n",
    "            \"intensity_background\": (self.intensity_background_left, self.intensity_background_right),\n",
    "        }\n",
    "```\n",
    "\n",
    "```{pyodide}\n",
    ":skip-embed:\n",
    "\n",
    "from stimupy.stimuli.sbcs import basic_two_sided\n",
    "from stimupy._docs.display_stimulus import InteractiveStimDisplay\n",
    "\n",
    "# Create and display the interactive basic_two_sided\n",
    "basic_two_sided_params = BasicTwoSidedParams()\n",
    "disp = InteractiveStimDisplay(basic_two_sided, basic_two_sided_params)\n",
    "disp.layout\n",
    "```"
   ]
  }
 ],
 "metadata": {
  "jupytext": {
   "formats": "md:myst",
   "text_representation": {
    "extension": ".md",
    "format_name": "myst",
    "format_version": 0.13,
    "jupytext_version": "1.14.5"
   }
  },
  "kernelspec": {
   "display_name": "Python 3 (ipykernel)",
   "language": "python",
   "name": "python3"
  },
  "language_info": {
   "codemirror_mode": {
    "name": "ipython",
    "version": 3
   },
   "file_extension": ".py",
   "mimetype": "text/x-python",
   "name": "python",
   "nbconvert_exporter": "python",
   "pygments_lexer": "ipython3",
   "version": "3.13.7"
  },
  "source_map": [
   13
  ]
 },
 "nbformat": 4,
 "nbformat_minor": 5
}