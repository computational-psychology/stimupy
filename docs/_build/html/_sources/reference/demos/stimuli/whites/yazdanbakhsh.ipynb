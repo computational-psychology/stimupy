{
 "cells": [
  {
   "cell_type": "markdown",
   "id": "c48399e8",
   "metadata": {},
   "source": [
    "```{attention}\n",
    "To run locally, the code for these interactive demos requires\n",
    "a [Jupyter Notebook](https://jupyter.org/) environment,\n",
    "and the [Panel extension](https://panel.holoviz.org/).\n",
    "```\n",
    "\n",
    "# Yazdanbakhsh\n",
    "{py:func}`stimupy.stimuli.whites.yazdanbakhsh`\n",
    "\n",
    "```{pyodide}\n",
    ":skip-embed:\n",
    "\n",
    "import param\n",
    "\n",
    "class YazdanbakhshParams(param.Parameterized):\n",
    "    # Image size parameters\n",
    "    height = param.Integer(default=10, bounds=(1, 20), doc=\"Height in degrees\")\n",
    "    width = param.Integer(default=10, bounds=(1, 20), doc=\"Width in degrees\")\n",
    "    ppd = param.Integer(default=20, bounds=(1, 40), doc=\"Pixels per degree\")\n",
    "\n",
    "    frequency = param.Number(default=1, bounds=(0, 2), step=0.1, doc=\"Frequency in cpd\")\n",
    "    n_bars = param.Integer(default=10, bounds=(4, 20), doc=\"Number of bars\")\n",
    "    target_indices_top = param.List(default=[2], doc=\"Top target indices\")\n",
    "    target_indices_bottom = param.List(default=[-3], doc=\"Bottom target indices\")\n",
    "    target_center_offset = param.Number(default=2.0, bounds=(0, 5), step=0.1, doc=\"Target center offset\")\n",
    "    target_heights = param.Number(default=2.0, bounds=(1, 5), step=0.1, doc=\"Target heights\")\n",
    "    gap_size = param.Number(default=0.5, bounds=(0, 2), step=0.1, doc=\"Gap size\")\n",
    "    intensity_bars_low = param.Number(default=0, bounds=(0, 1), step=0.01, doc=\"Low bar intensity\")\n",
    "    intensity_bars_high = param.Number(default=1, bounds=(0, 1), step=0.01, doc=\"High bar intensity\")\n",
    "    intensity_target = param.Number(default=0.5, bounds=(0, 1), step=0.01, doc=\"Target intensity\")\n",
    "\n",
    "    def get_stimulus_params(self):\n",
    "        return {\n",
    "            \"visual_size\": (self.height, self.width),\n",
    "            \"ppd\": self.ppd,\n",
    "            \"frequency\": self.frequency,\n",
    "            \"n_bars\": self.n_bars,\n",
    "            \"target_indices_top\": self.target_indices_top,\n",
    "            \"target_indices_bottom\": self.target_indices_bottom,\n",
    "            \"target_center_offset\": self.target_center_offset,\n",
    "            \"target_heights\": self.target_heights,\n",
    "            \"gap_size\": self.gap_size,\n",
    "            \"intensity_bars\": (self.intensity_bars_low, self.intensity_bars_high),\n",
    "            \"intensity_target\": self.intensity_target,\n",
    "        }\n",
    "```\n",
    "\n",
    "```{pyodide}\n",
    ":skip-embed:\n",
    "\n",
    "from stimupy.stimuli.whites import yazdanbakhsh\n",
    "from display_stimulus import InteractiveStimDisplay\n",
    "\n",
    "# Create and display the interactive yazdanbakhsh\n",
    "yazdanbakhsh_params = YazdanbakhshParams()\n",
    "disp = InteractiveStimDisplay(yazdanbakhsh, yazdanbakhsh_params)\n",
    "disp.layout\n",
    "```"
   ]
  }
 ],
 "metadata": {
  "jupytext": {
   "formats": "md:myst",
   "text_representation": {
    "extension": ".md",
    "format_name": "myst",
    "format_version": 0.13,
    "jupytext_version": "1.14.5"
   }
  },
  "kernelspec": {
   "display_name": "Python 3 (ipykernel)",
   "language": "python",
   "name": "python3"
  },
  "language_info": {
   "codemirror_mode": {
    "name": "ipython",
    "version": 3
   },
   "file_extension": ".py",
   "mimetype": "text/x-python",
   "name": "python",
   "nbconvert_exporter": "python",
   "pygments_lexer": "ipython3",
   "version": "3.13.7"
  },
  "source_map": [
   13
  ]
 },
 "nbformat": 4,
 "nbformat_minor": 5
}