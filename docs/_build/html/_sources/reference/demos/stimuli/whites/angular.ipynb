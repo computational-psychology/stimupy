{
 "cells": [
  {
   "cell_type": "markdown",
   "id": "3906cd03",
   "metadata": {},
   "source": [
    "```{attention}\n",
    "To run locally, the code for these interactive demos requires\n",
    "a [Jupyter Notebook](https://jupyter.org/) environment,\n",
    "and the [Panel extension](https://panel.holoviz.org/).\n",
    "```\n",
    "\n",
    "# Angular\n",
    "{py:func}`stimupy.stimuli.whites.angular`\n",
    "\n",
    "```{pyodide}\n",
    ":skip-embed:\n",
    "\n",
    "import param\n",
    "\n",
    "class AngularParams(param.Parameterized):\n",
    "    # Image size parameters\n",
    "    height = param.Integer(default=10, bounds=(1, 20), doc=\"Height in degrees\")\n",
    "    width = param.Integer(default=10, bounds=(1, 20), doc=\"Width in degrees\")\n",
    "    ppd = param.Integer(default=32, bounds=(1, 40), doc=\"Pixels per degree\")\n",
    "\n",
    "    frequency = param.Number(default=16, bounds=(4, 20), step=1, doc=\"Angular frequency\")\n",
    "    rotation = param.Number(default=0, bounds=(0, 360), step=1, doc=\"Rotation in degrees\")\n",
    "    intensity_segments_low = param.Number(default=0, bounds=(0, 1), step=0.01, doc=\"Low segment intensity\")\n",
    "    intensity_segments_high = param.Number(default=1, bounds=(0, 1), step=0.01, doc=\"High segment intensity\")\n",
    "    target_indices = param.List(default=[2], doc=\"Target indices\")\n",
    "    intensity_target = param.Number(default=0.5, bounds=(0, 1), step=0.01, doc=\"Target intensity\")\n",
    "    intensity_background = param.Number(default=0.5, bounds=(0, 1), step=0.01, doc=\"Background intensity\")\n",
    "    target_width = param.Number(default=1.0, bounds=(0, 90), step=1, doc=\"Target width in degrees\", allow_None=True)\n",
    "    target_center = param.Number(default=3, bounds=(0, 10), step=0.1, doc=\"Target center radius\", allow_None=True)\n",
    "\n",
    "    def get_stimulus_params(self):\n",
    "        return {\n",
    "            \"visual_size\": (self.height, self.width),\n",
    "            \"ppd\": self.ppd,\n",
    "            \"frequency\": self.frequency,\n",
    "            \"rotation\": self.rotation,\n",
    "            \"intensity_segments\": (self.intensity_segments_low, self.intensity_segments_high),\n",
    "            \"target_indices\": self.target_indices,\n",
    "            \"intensity_target\": self.intensity_target,\n",
    "            \"intensity_background\": self.intensity_background,\n",
    "            \"target_width\": self.target_width,\n",
    "            \"target_center\": self.target_center,\n",
    "        }\n",
    "```\n",
    "\n",
    "```{pyodide}\n",
    ":skip-embed:\n",
    "\n",
    "from stimupy.stimuli.whites import angular\n",
    "from display_stimulus import InteractiveStimDisplay\n",
    "\n",
    "# Create and display the interactive angular\n",
    "angular_params = AngularParams()\n",
    "disp = InteractiveStimDisplay(angular, angular_params)\n",
    "disp.layout\n",
    "```"
   ]
  }
 ],
 "metadata": {
  "jupytext": {
   "formats": "md:myst",
   "text_representation": {
    "extension": ".md",
    "format_name": "myst",
    "format_version": 0.13,
    "jupytext_version": "1.14.5"
   }
  },
  "kernelspec": {
   "display_name": "Python 3 (ipykernel)",
   "language": "python",
   "name": "python3"
  },
  "language_info": {
   "codemirror_mode": {
    "name": "ipython",
    "version": 3
   },
   "file_extension": ".py",
   "mimetype": "text/x-python",
   "name": "python",
   "nbconvert_exporter": "python",
   "pygments_lexer": "ipython3",
   "version": "3.13.7"
  },
  "source_map": [
   13
  ]
 },
 "nbformat": 4,
 "nbformat_minor": 5
}