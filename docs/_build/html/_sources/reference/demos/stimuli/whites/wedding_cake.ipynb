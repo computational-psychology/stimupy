{
 "cells": [
  {
   "cell_type": "markdown",
   "id": "2753135c",
   "metadata": {},
   "source": [
    "```{attention}\n",
    "To run locally, the code for these interactive demos requires\n",
    "a [Jupyter Notebook](https://jupyter.org/) environment,\n",
    "and the [Panel extension](https://panel.holoviz.org/).\n",
    "```\n",
    "\n",
    "# Wedding-cake\n",
    "{py:func}`stimupy.stimuli.whites.wedding_cake`\n",
    "\n",
    "```{pyodide}\n",
    ":skip-embed:\n",
    "\n",
    "import param\n",
    "\n",
    "class WeddingCakeParams(param.Parameterized):\n",
    "    # Image size parameters\n",
    "    height = param.Integer(default=10, bounds=(1, 20), doc=\"Height in degrees\")\n",
    "    width = param.Integer(default=10, bounds=(1, 20), doc=\"Width in degrees\")\n",
    "    ppd = param.Integer(default=20, bounds=(1, 40), doc=\"Pixels per degree\")\n",
    "\n",
    "    L_size_height = param.Number(default=4, bounds=(1, 8), step=0.1, doc=\"L height\")\n",
    "    L_size_width = param.Number(default=3, bounds=(1, 6), step=0.1, doc=\"L width\")\n",
    "    L_size_thickness = param.Number(default=1, bounds=(0.5, 3), step=0.1, doc=\"L thickness\")\n",
    "    target_height = param.Number(default=1.0, bounds=(0.5, 3), step=0.1, doc=\"Target height\")\n",
    "    target_indices1_y1 = param.Integer(default=2, bounds=(0, 5), doc=\"Target 1 Y1 index\")\n",
    "    target_indices1_x1 = param.Integer(default=2, bounds=(0, 5), doc=\"Target 1 X1 index\")\n",
    "    target_indices1_y2 = param.Integer(default=2, bounds=(0, 5), doc=\"Target 1 Y2 index\")\n",
    "    target_indices1_x2 = param.Integer(default=1, bounds=(0, 5), doc=\"Target 1 X2 index\")\n",
    "    target_indices2_y1 = param.Integer(default=2, bounds=(0, 5), doc=\"Target 2 Y1 index\")\n",
    "    target_indices2_x1 = param.Integer(default=-1, bounds=(-5, 5), doc=\"Target 2 X1 index\")\n",
    "    target_indices2_y2 = param.Integer(default=2, bounds=(0, 5), doc=\"Target 2 Y2 index\")\n",
    "    target_indices2_x2 = param.Integer(default=0, bounds=(-5, 5), doc=\"Target 2 X2 index\")\n",
    "    intensity_bars_low = param.Number(default=0, bounds=(0, 1), step=0.01, doc=\"Low bar intensity\")\n",
    "    intensity_bars_high = param.Number(default=1, bounds=(0, 1), step=0.01, doc=\"High bar intensity\")\n",
    "    intensity_target = param.Number(default=0.5, bounds=(0, 1), step=0.01, doc=\"Target intensity\")\n",
    "\n",
    "    def get_stimulus_params(self):\n",
    "        return {\n",
    "            \"visual_size\": (self.height, self.width),\n",
    "            \"ppd\": self.ppd,\n",
    "            \"L_size\": (self.L_size_height, self.L_size_width, self.L_size_thickness),\n",
    "            \"target_height\": self.target_height,\n",
    "            \"target_indices1\": ((self.target_indices1_y1, self.target_indices1_x1), (self.target_indices1_y2, self.target_indices1_x2)),\n",
    "            \"target_indices2\": ((self.target_indices2_y1, self.target_indices2_x1), (self.target_indices2_y2, self.target_indices2_x2)),\n",
    "            \"intensity_bars\": (self.intensity_bars_low, self.intensity_bars_high),\n",
    "            \"intensity_target\": self.intensity_target,\n",
    "        }\n",
    "```\n",
    "\n",
    "```{pyodide}\n",
    ":skip-embed:\n",
    "\n",
    "from stimupy.stimuli.whites import wedding_cake\n",
    "from stimupy._docs.display_stimulus import InteractiveStimDisplay\n",
    "\n",
    "# Create and display the interactive wedding_cake\n",
    "wedding_cake_params = WeddingCakeParams()\n",
    "disp = InteractiveStimDisplay(wedding_cake, wedding_cake_params)\n",
    "disp.layout\n",
    "```"
   ]
  }
 ],
 "metadata": {
  "jupytext": {
   "formats": "md:myst",
   "text_representation": {
    "extension": ".md",
    "format_name": "myst",
    "format_version": 0.13,
    "jupytext_version": "1.14.5"
   }
  },
  "kernelspec": {
   "display_name": "Python 3 (ipykernel)",
   "language": "python",
   "name": "python3"
  },
  "language_info": {
   "codemirror_mode": {
    "name": "ipython",
    "version": 3
   },
   "file_extension": ".py",
   "mimetype": "text/x-python",
   "name": "python",
   "nbconvert_exporter": "python",
   "pygments_lexer": "ipython3",
   "version": "3.13.7"
  },
  "source_map": [
   13
  ]
 },
 "nbformat": 4,
 "nbformat_minor": 5
}