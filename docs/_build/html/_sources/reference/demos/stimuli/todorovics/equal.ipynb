{
 "cells": [
  {
   "cell_type": "markdown",
   "id": "9d8b96cf",
   "metadata": {},
   "source": [
    "```{attention}\n",
    "To run locally, the code for these interactive demos requires\n",
    "a [Jupyter Notebook](https://jupyter.org/) environment,\n",
    "and the [Panel extension](https://panel.holoviz.org/).\n",
    "```\n",
    "\n",
    "# Equal\n",
    "{py:func}`stimupy.stimuli.todorovics.equal`\n",
    "\n",
    "```{pyodide}\n",
    ":skip-embed:\n",
    "\n",
    "import param\n",
    "\n",
    "class EqualParams(param.Parameterized):\n",
    "    # Image size parameters\n",
    "    height = param.Integer(default=10, bounds=(1, 20), doc=\"Height in degrees\")\n",
    "    width = param.Integer(default=10, bounds=(1, 20), doc=\"Width in degrees\")\n",
    "    ppd = param.Integer(default=20, bounds=(1, 40), doc=\"Pixels per degree\")\n",
    "\n",
    "    cross_size = param.Number(default=4.0, bounds=(2, 8), step=0.1, doc=\"Cross size\", allow_None=True)\n",
    "    cross_thickness = param.Number(default=1.0, bounds=(0.5, 3), step=0.1, doc=\"Cross thickness\", allow_None=True)\n",
    "    cover_size = param.Number(default=1.5, bounds=(0.1, 2), step=0.1, doc=\"Cover size\", allow_None=True)\n",
    "    intensity_background = param.Number(default=0.0, bounds=(0, 1), step=0.01, doc=\"Background intensity\")\n",
    "    intensity_target = param.Number(default=0.5, bounds=(0, 1), step=0.01, doc=\"Target intensity\")\n",
    "    intensity_covers = param.Number(default=1.0, bounds=(0, 1), step=0.01, doc=\"Covers intensity\")\n",
    "\n",
    "    def get_stimulus_params(self):\n",
    "        return {\n",
    "            \"visual_size\": (self.height, self.width),\n",
    "            \"ppd\": self.ppd,\n",
    "            \"cross_size\": self.cross_size,\n",
    "            \"cross_thickness\": self.cross_thickness,\n",
    "            \"cover_size\": self.cover_size,\n",
    "            \"intensity_background\": self.intensity_background,\n",
    "            \"intensity_target\": self.intensity_target,\n",
    "            \"intensity_covers\": self.intensity_covers,\n",
    "        }\n",
    "```\n",
    "\n",
    "```{pyodide}\n",
    ":skip-embed:\n",
    "\n",
    "from stimupy.stimuli.todorovics import equal\n",
    "from stimupy._docs.display_stimulus import InteractiveStimDisplay\n",
    "\n",
    "# Create and display the interactive equal\n",
    "equal_params = EqualParams()\n",
    "disp = InteractiveStimDisplay(equal, equal_params)\n",
    "disp.layout\n",
    "```"
   ]
  }
 ],
 "metadata": {
  "jupytext": {
   "formats": "md:myst",
   "text_representation": {
    "extension": ".md",
    "format_name": "myst",
    "format_version": 0.13,
    "jupytext_version": "1.14.5"
   }
  },
  "kernelspec": {
   "display_name": "Python 3 (ipykernel)",
   "language": "python",
   "name": "python3"
  },
  "language_info": {
   "codemirror_mode": {
    "name": "ipython",
    "version": 3
   },
   "file_extension": ".py",
   "mimetype": "text/x-python",
   "name": "python",
   "nbconvert_exporter": "python",
   "pygments_lexer": "ipython3",
   "version": "3.13.7"
  },
  "source_map": [
   13
  ]
 },
 "nbformat": 4,
 "nbformat_minor": 5
}