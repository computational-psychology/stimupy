{
 "cells": [
  {
   "cell_type": "markdown",
   "id": "51793d63",
   "metadata": {},
   "source": [
    "```{attention}\n",
    "To run locally, the code for these interactive demos requires\n",
    "a [Jupyter Notebook](https://jupyter.org/) environment,\n",
    "and the [Panel extension](https://panel.holoviz.org/).\n",
    "```\n",
    "\n",
    "# Cross generalized\n",
    "{py:func}`stimupy.stimuli.todorovics.cross_generalized`\n",
    "\n",
    "```{pyodide}\n",
    ":skip-embed:\n",
    "\n",
    "import param\n",
    "\n",
    "class CrossGeneralizedParams(param.Parameterized):\n",
    "    # Image size parameters\n",
    "    height = param.Integer(default=10, bounds=(1, 20), doc=\"Height in degrees\")\n",
    "    width = param.Integer(default=10, bounds=(1, 20), doc=\"Width in degrees\")\n",
    "    ppd = param.Integer(default=20, bounds=(1, 40), doc=\"Pixels per degree\")\n",
    "\n",
    "    cross_size_height = param.Number(default=4, bounds=(2, 8), step=0.1, doc=\"Cross height\")\n",
    "    cross_size_width = param.Number(default=4, bounds=(2, 8), step=0.1, doc=\"Cross width\")\n",
    "    cross_thickness = param.Number(default=0.5, bounds=(0.1, 2), step=0.1, doc=\"Cross thickness\")\n",
    "    covers_height = param.Number(default=2, bounds=(0, 4), step=0.1, doc=\"Covers height\")\n",
    "    covers_width = param.Number(default=2, bounds=(0, 4), step=0.1, doc=\"Covers width\")\n",
    "    cover_x1 = param.Number(default=2, bounds=(0, 8), step=0.1, doc=\"Cover 1 X position\")\n",
    "    cover_y1 = param.Number(default=4, bounds=(0, 8), step=0.1, doc=\"Cover 1 Y position\")\n",
    "    cover_x2 = param.Number(default=6, bounds=(0, 8), step=0.1, doc=\"Cover 2 X position\")\n",
    "    cover_y2 = param.Number(default=4, bounds=(0, 8), step=0.1, doc=\"Cover 2 Y position\")\n",
    "    intensity_background = param.Number(default=0.0, bounds=(0, 1), step=0.01, doc=\"Background intensity\")\n",
    "    intensity_target = param.Number(default=0.5, bounds=(0, 1), step=0.01, doc=\"Target intensity\")\n",
    "    intensity_covers = param.Number(default=1.0, bounds=(0, 1), step=0.01, doc=\"Covers intensity\")\n",
    "\n",
    "    def get_stimulus_params(self):\n",
    "        return {\n",
    "            \"visual_size\": (self.height, self.width),\n",
    "            \"ppd\": self.ppd,\n",
    "            \"cross_size\": (self.cross_size_height, self.cross_size_width),\n",
    "            \"cross_thickness\": self.cross_thickness,\n",
    "            \"covers_size\": (self.covers_height, self.covers_width),\n",
    "            \"covers_x\": (self.cover_x1, self.cover_x2),\n",
    "            \"covers_y\": (self.cover_y1, self.cover_y2),\n",
    "            \"intensity_background\": self.intensity_background,\n",
    "            \"intensity_target\": self.intensity_target,\n",
    "            \"intensity_covers\": self.intensity_covers,\n",
    "        }\n",
    "```\n",
    "\n",
    "```{pyodide}\n",
    ":skip-embed:\n",
    "\n",
    "from stimupy.stimuli.todorovics import cross_generalized\n",
    "from display_stimulus import InteractiveStimDisplay\n",
    "\n",
    "# Create and display the interactive cross_generalized\n",
    "cross_generalized_params = CrossGeneralizedParams()\n",
    "disp = InteractiveStimDisplay(cross_generalized, cross_generalized_params)\n",
    "disp.layout\n",
    "```"
   ]
  }
 ],
 "metadata": {
  "jupytext": {
   "formats": "md:myst",
   "text_representation": {
    "extension": ".md",
    "format_name": "myst",
    "format_version": 0.13,
    "jupytext_version": "1.14.5"
   }
  },
  "kernelspec": {
   "display_name": "Python 3 (ipykernel)",
   "language": "python",
   "name": "python3"
  },
  "language_info": {
   "codemirror_mode": {
    "name": "ipython",
    "version": 3
   },
   "file_extension": ".py",
   "mimetype": "text/x-python",
   "name": "python",
   "nbconvert_exporter": "python",
   "pygments_lexer": "ipython3",
   "version": "3.13.7"
  },
  "source_map": [
   13
  ]
 },
 "nbformat": 4,
 "nbformat_minor": 5
}