{
 "cells": [
  {
   "cell_type": "markdown",
   "id": "14f4590d",
   "metadata": {},
   "source": [
    "```{attention}\n",
    "To run locally, the code for these interactive demos requires\n",
    "a [Jupyter Notebook](https://jupyter.org/) environment,\n",
    "and the [Panel extension](https://panel.holoviz.org/).\n",
    "```\n",
    "\n",
    "# Wedding cake\n",
    "{py:func}`stimupy.stimuli.wedding_cakes.wedding_cake`\n",
    "\n",
    "```{pyodide}\n",
    ":skip-embed:\n",
    "\n",
    "import param\n",
    "\n",
    "class WeddingCakeParams(param.Parameterized):\n",
    "    # Image size parameters\n",
    "    height = param.Integer(default=10, bounds=(1, 20), doc=\"Height in degrees\")\n",
    "    width = param.Integer(default=10, bounds=(1, 20), doc=\"Width in degrees\")\n",
    "    ppd = param.Integer(default=20, bounds=(1, 40), doc=\"Pixels per degree\")\n",
    "\n",
    "    L_height = param.Number(default=2, bounds=(1, 5), step=0.1, doc=\"L height\")\n",
    "    L_width = param.Number(default=2, bounds=(1, 5), step=0.1, doc=\"L width\")\n",
    "    L_thickness = param.Number(default=0.5, bounds=(0.1, 2), step=0.1, doc=\"L thickness\")\n",
    "    target_height = param.Number(default=0.5, bounds=(0.1, 2), step=0.1, doc=\"Target height\")\n",
    "    intensity1 = param.Number(default=0.0, bounds=(0, 1), step=0.01, doc=\"Intensity 1\")\n",
    "    intensity2 = param.Number(default=1.0, bounds=(0, 1), step=0.01, doc=\"Intensity 2\")\n",
    "    intensity_target = param.Number(default=0.5, bounds=(0, 1), step=0.01, doc=\"Target intensity\")\n",
    "\n",
    "    def get_stimulus_params(self):\n",
    "        return {\n",
    "            \"visual_size\": (self.height, self.width),\n",
    "            \"ppd\": self.ppd,\n",
    "            \"L_size\": (self.L_height, self.L_width, self.L_thickness),\n",
    "            \"target_height\": self.target_height,\n",
    "            \"target_indices1\": ((0, 0),),\n",
    "            \"target_indices2\": ((0, 0),),\n",
    "            \"intensity_bars\": (self.intensity1, self.intensity2),\n",
    "            \"intensity_target\": self.intensity_target,\n",
    "        }\n",
    "```\n",
    "\n",
    "```{pyodide}\n",
    ":skip-embed:\n",
    "\n",
    "from stimupy.stimuli.wedding_cakes import wedding_cake\n",
    "from stimupy._docs.display_stimulus import InteractiveStimDisplay\n",
    "\n",
    "# Create and display the interactive wedding_cake\n",
    "wedding_cake_params = WeddingCakeParams()\n",
    "disp = InteractiveStimDisplay(wedding_cake, wedding_cake_params)\n",
    "disp.layout\n",
    "```"
   ]
  }
 ],
 "metadata": {
  "jupytext": {
   "formats": "md:myst",
   "text_representation": {
    "extension": ".md",
    "format_name": "myst",
    "format_version": 0.13,
    "jupytext_version": "1.14.5"
   }
  },
  "kernelspec": {
   "display_name": "Python 3 (ipykernel)",
   "language": "python",
   "name": "python3"
  },
  "language_info": {
   "codemirror_mode": {
    "name": "ipython",
    "version": 3
   },
   "file_extension": ".py",
   "mimetype": "text/x-python",
   "name": "python",
   "nbconvert_exporter": "python",
   "pygments_lexer": "ipython3",
   "version": "3.13.7"
  },
  "source_map": [
   13
  ]
 },
 "nbformat": 4,
 "nbformat_minor": 5
}