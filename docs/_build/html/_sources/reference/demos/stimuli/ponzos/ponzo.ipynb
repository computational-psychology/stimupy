{
 "cells": [
  {
   "cell_type": "markdown",
   "id": "1bd0bd77",
   "metadata": {},
   "source": [
    "```{attention}\n",
    "To run locally, the code for these interactive demos requires\n",
    "a [Jupyter Notebook](https://jupyter.org/) environment,\n",
    "and the [Panel extension](https://panel.holoviz.org/).\n",
    "```\n",
    "\n",
    "# Ponzo\n",
    "{py:func}`stimupy.stimuli.ponzos.ponzo`\n",
    "\n",
    "```{pyodide}\n",
    ":skip-embed:\n",
    "\n",
    "import param\n",
    "\n",
    "class PonzoParams(param.Parameterized):\n",
    "    # Image size parameters\n",
    "    height = param.Integer(default=10, bounds=(1, 20), doc=\"Height in degrees\")\n",
    "    width = param.Integer(default=10, bounds=(1, 20), doc=\"Width in degrees\")\n",
    "    ppd = param.Integer(default=20, bounds=(1, 40), doc=\"Pixels per degree\")\n",
    "\n",
    "    outer_lines_length = param.Number(default=4, bounds=(0.5, 8), step=0.1, doc=\"Outer lines length\")\n",
    "    outer_lines_width = param.Number(default=0, bounds=(0, 2), step=0.01, doc=\"Outer lines width\")\n",
    "    outer_lines_angle = param.Number(default=15, bounds=(-30, 30), step=1, doc=\"Outer lines angle\")\n",
    "    target_lines_length = param.Number(default=2, bounds=(0.5, 4), step=0.1, doc=\"Target lines length\")\n",
    "    target_lines_width = param.Number(default=0, bounds=(0, 2), step=0.01, doc=\"Target lines width\")\n",
    "    target_distance = param.Number(default=2, bounds=(0.5, 4), step=0.1, doc=\"Target distance\")\n",
    "    intensity_outer_lines = param.Number(default=1.0, bounds=(0, 1), step=0.01, doc=\"Outer lines intensity\")\n",
    "    intensity_target_lines = param.Number(default=0.5, bounds=(0, 1), step=0.01, doc=\"Target lines intensity\")\n",
    "    intensity_background = param.Number(default=0.0, bounds=(0, 1), step=0.01, doc=\"Background intensity\")\n",
    "\n",
    "    def get_stimulus_params(self):\n",
    "        return {\n",
    "            \"visual_size\": (self.height, self.width),\n",
    "            \"ppd\": self.ppd,\n",
    "            \"outer_lines_length\": self.outer_lines_length,\n",
    "            \"outer_lines_width\": self.outer_lines_width,\n",
    "            \"outer_lines_angle\": self.outer_lines_angle,\n",
    "            \"target_lines_length\": self.target_lines_length,\n",
    "            \"target_lines_width\": self.target_lines_width,\n",
    "            \"target_distance\": self.target_distance,\n",
    "            \"intensity_outer_lines\": self.intensity_outer_lines,\n",
    "            \"intensity_target_lines\": self.intensity_target_lines,\n",
    "            \"intensity_background\": self.intensity_background,\n",
    "        }\n",
    "```\n",
    "\n",
    "```{pyodide}\n",
    ":skip-embed:\n",
    "\n",
    "from stimupy.stimuli.ponzos import ponzo\n",
    "from display_stimulus import InteractiveStimDisplay\n",
    "\n",
    "# Create and display the interactive ponzo\n",
    "ponzo_params = PonzoParams()\n",
    "disp = InteractiveStimDisplay(ponzo, ponzo_params)\n",
    "disp.layout\n",
    "```"
   ]
  }
 ],
 "metadata": {
  "jupytext": {
   "formats": "md:myst",
   "text_representation": {
    "extension": ".md",
    "format_name": "myst",
    "format_version": 0.13,
    "jupytext_version": "1.14.5"
   }
  },
  "kernelspec": {
   "display_name": "Python 3 (ipykernel)",
   "language": "python",
   "name": "python3"
  },
  "language_info": {
   "codemirror_mode": {
    "name": "ipython",
    "version": 3
   },
   "file_extension": ".py",
   "mimetype": "text/x-python",
   "name": "python",
   "nbconvert_exporter": "python",
   "pygments_lexer": "ipython3",
   "version": "3.13.7"
  },
  "source_map": [
   13
  ]
 },
 "nbformat": 4,
 "nbformat_minor": 5
}