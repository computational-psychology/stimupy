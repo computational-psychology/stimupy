{
 "cells": [
  {
   "cell_type": "markdown",
   "id": "d4be6d70",
   "metadata": {},
   "source": [
    "```{attention}\n",
    "To run locally, the code for these interactive demos requires\n",
    "a [Jupyter Notebook](https://jupyter.org/) environment,\n",
    "and the [Panel extension](https://panel.holoviz.org/).\n",
    "```\n",
    "\n",
    "# Square waves\n",
    "{py:func}`stimupy.stimuli.plaids.square_waves`\n",
    "\n",
    "```{pyodide}\n",
    ":skip-embed:\n",
    "\n",
    "import param\n",
    "\n",
    "class SquareWavesParams(param.Parameterized):\n",
    "    # Image size parameters\n",
    "    height = param.Integer(default=10, bounds=(1, 20), doc=\"Height in degrees\")\n",
    "    width = param.Integer(default=10, bounds=(1, 20), doc=\"Width in degrees\")\n",
    "    ppd = param.Integer(default=20, bounds=(1, 40), doc=\"Pixels per degree\")\n",
    "\n",
    "    weight1 = param.Number(default=1, bounds=(0, 1), step=0.1, doc=\"Weight 1\")\n",
    "    weight2 = param.Number(default=1, bounds=(0, 1), step=0.1, doc=\"Weight 2\")\n",
    "\n",
    "    def get_stimulus_params(self):\n",
    "        grating_params1 = {\n",
    "            \"visual_size\": (self.height, self.width),\n",
    "            \"ppd\": self.ppd,\n",
    "            \"frequency\": 1.0,\n",
    "            \"rotation\": 0.0,\n",
    "        }\n",
    "        grating_params2 = {\n",
    "            \"visual_size\": (self.height, self.width),\n",
    "            \"ppd\": self.ppd,\n",
    "            \"frequency\": 1.0,\n",
    "            \"rotation\": 45.0,\n",
    "        }\n",
    "        return {\n",
    "            \"grating_parameters1\": grating_params1,\n",
    "            \"grating_parameters2\": grating_params2,\n",
    "            \"weight1\": self.weight1,\n",
    "            \"weight2\": self.weight2,\n",
    "        }\n",
    "```\n",
    "\n",
    "```{pyodide}\n",
    ":skip-embed:\n",
    "\n",
    "from stimupy.stimuli.plaids import square_waves\n",
    "from stimupy._docs.display_stimulus import InteractiveStimDisplay\n",
    "\n",
    "# Create and display the interactive square_waves\n",
    "square_waves_params = SquareWavesParams()\n",
    "disp = InteractiveStimDisplay(square_waves, square_waves_params)\n",
    "disp.layout"
   ]
  }
 ],
 "metadata": {
  "jupytext": {
   "formats": "md:myst",
   "text_representation": {
    "extension": ".md",
    "format_name": "myst",
    "format_version": 0.13,
    "jupytext_version": "1.14.5"
   }
  },
  "kernelspec": {
   "display_name": "Python 3 (ipykernel)",
   "language": "python",
   "name": "python3"
  },
  "language_info": {
   "codemirror_mode": {
    "name": "ipython",
    "version": 3
   },
   "file_extension": ".py",
   "mimetype": "text/x-python",
   "name": "python",
   "nbconvert_exporter": "python",
   "pygments_lexer": "ipython3",
   "version": "3.13.7"
  },
  "source_map": [
   13
  ]
 },
 "nbformat": 4,
 "nbformat_minor": 5
}