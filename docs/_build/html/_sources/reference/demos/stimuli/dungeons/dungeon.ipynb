{
 "cells": [
  {
   "cell_type": "markdown",
   "id": "571c65d4",
   "metadata": {},
   "source": [
    "```{attention}\n",
    "To run locally, the code for these interactive demos requires\n",
    "a [Jupyter Notebook](https://jupyter.org/) environment,\n",
    "and the [Panel extension](https://panel.holoviz.org/).\n",
    "```\n",
    "\n",
    "# Dungeon\n",
    "{py:func}`stimupy.stimuli.dungeons.dungeon`\n",
    "\n",
    "```{pyodide}\n",
    ":skip-embed:\n",
    "\n",
    "import param\n",
    "\n",
    "class DungeonParams(param.Parameterized):\n",
    "    # Image size parameters\n",
    "    height = param.Integer(default=10, bounds=(1, 20), doc=\"Height in degrees\")\n",
    "    width = param.Integer(default=10, bounds=(1, 20), doc=\"Width in degrees\")\n",
    "    ppd = param.Integer(default=20, bounds=(1, 40), doc=\"Pixels per degree\")\n",
    "    \n",
    "    # Grid geometry parameters\n",
    "    n_cells1 = param.Integer(default=5, bounds=(2, 10), doc=\"Number of cells 1\")\n",
    "    n_cells2 = param.Integer(default=5, bounds=(2, 10), doc=\"Number of cells 2\")\n",
    "    \n",
    "    # Intensity parameters\n",
    "    intensity_grid = param.Number(default=1, bounds=(0, 1), step=0.01, doc=\"Grid intensity\")\n",
    "    intensity_background = param.Number(default=0.0, bounds=(0, 1), step=0.01, doc=\"Background intensity\")\n",
    "    \n",
    "    # Target parameters\n",
    "    target_radius = param.Integer(default=1, bounds=(0, 3), doc=\"Target radius\")\n",
    "    intensity_target = param.Number(default=0.5, bounds=(0, 1), step=0.01, doc=\"Target intensity\")\n",
    "    \n",
    "    # Additional parameters\n",
    "    add_mask = param.Selector(default=None, objects=[None, \"target_mask\"], doc=\"Add mask\")\n",
    "\n",
    "    def get_stimulus_params(self):\n",
    "        return {\n",
    "            \"visual_size\": (self.height, self.width),\n",
    "            \"ppd\": self.ppd,\n",
    "            \"n_cells\": (self.n_cells1, self.n_cells2),\n",
    "            \"intensity_grid\": self.intensity_grid,\n",
    "            \"intensity_background\": self.intensity_background,\n",
    "            \"target_radius\": self.target_radius,\n",
    "            \"intensity_target\": self.intensity_target,\n",
    "        }\n",
    "```\n",
    "\n",
    "```{pyodide}\n",
    ":skip-embed:\n",
    "\n",
    "from stimupy.stimuli.dungeons import dungeon\n",
    "from stimupy._docs.display_stimulus import InteractiveStimDisplay\n",
    "\n",
    "# Create and display the interactive dungeon\n",
    "dungeon_params = DungeonParams()\n",
    "disp = InteractiveStimDisplay(dungeon, dungeon_params)\n",
    "disp.layout\n",
    "```"
   ]
  }
 ],
 "metadata": {
  "jupytext": {
   "formats": "md:myst",
   "text_representation": {
    "extension": ".md",
    "format_name": "myst",
    "format_version": 0.13,
    "jupytext_version": "1.14.5"
   }
  },
  "kernelspec": {
   "display_name": "Python 3 (ipykernel)",
   "language": "python",
   "name": "python3"
  },
  "language_info": {
   "codemirror_mode": {
    "name": "ipython",
    "version": 3
   },
   "file_extension": ".py",
   "mimetype": "text/x-python",
   "name": "python",
   "nbconvert_exporter": "python",
   "pygments_lexer": "ipython3",
   "version": "3.13.7"
  },
  "source_map": [
   13
  ]
 },
 "nbformat": 4,
 "nbformat_minor": 5
}