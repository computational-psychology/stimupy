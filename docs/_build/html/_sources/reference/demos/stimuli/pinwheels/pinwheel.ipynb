{
 "cells": [
  {
   "cell_type": "markdown",
   "id": "5d402895",
   "metadata": {},
   "source": [
    "```{attention}\n",
    "To run locally, the code for these interactive demos requires\n",
    "a [Jupyter Notebook](https://jupyter.org/) environment,\n",
    "and the [Panel extension](https://panel.holoviz.org/).\n",
    "```\n",
    "\n",
    "# Pinwheel\n",
    "{py:func}`stimupy.stimuli.pinwheels.pinwheel`\n",
    "\n",
    "```{pyodide}\n",
    ":skip-embed:\n",
    "\n",
    "import param\n",
    "\n",
    "class PinwheelParams(param.Parameterized):\n",
    "    # Image size parameters\n",
    "    height = param.Integer(default=10, bounds=(1, 20), doc=\"Height in degrees\")\n",
    "    width = param.Integer(default=10, bounds=(1, 20), doc=\"Width in degrees\")\n",
    "    ppd = param.Integer(default=20, bounds=(1, 40), doc=\"Pixels per degree\")\n",
    "\n",
    "    n_segments = param.Integer(default=6, bounds=(2, 12), doc=\"Number of segments\")\n",
    "    rotation = param.Number(default=0, bounds=(0, 360), step=1, doc=\"Rotation in degrees\")\n",
    "    intensity1 = param.Number(default=0.0, bounds=(0, 1), step=0.01, doc=\"Intensity 1\")\n",
    "    intensity2 = param.Number(default=1.0, bounds=(0, 1), step=0.01, doc=\"Intensity 2\")\n",
    "    intensity_background = param.Number(default=0.5, bounds=(0, 1), step=0.01, doc=\"Background intensity\")\n",
    "    target_idx = param.Integer(default=3, bounds=(0, 12), doc=\"Target index\")\n",
    "    target_width = param.Number(default=2.0, bounds=(0.1, 5), step=0.1, doc=\"Target width\")\n",
    "    target_center = param.Number(default=2.5, bounds=(0.5, 5), step=0.1, doc=\"Target center radius\")\n",
    "    intensity_target = param.Number(default=0.5, bounds=(0, 1), step=0.01, doc=\"Target intensity\")\n",
    "    origin = param.Selector(default=\"mean\", objects=[\"mean\", \"corner\", \"center\"], doc=\"Origin position\")\n",
    "\n",
    "    def get_stimulus_params(self):\n",
    "        return {\n",
    "            \"visual_size\": (self.height, self.width),\n",
    "            \"ppd\": self.ppd,\n",
    "            \"n_segments\": self.n_segments,\n",
    "            \"rotation\": self.rotation,\n",
    "            \"intensity_segments\": (self.intensity1, self.intensity2),\n",
    "            \"intensity_background\": self.intensity_background,\n",
    "            \"target_indices\": (self.target_idx,),\n",
    "            \"target_width\": self.target_width,\n",
    "            \"target_center\": self.target_center,\n",
    "            \"intensity_target\": self.intensity_target,\n",
    "            \"origin\": self.origin,\n",
    "        }\n",
    "```\n",
    "\n",
    "```{pyodide}\n",
    ":skip-embed:\n",
    "\n",
    "from stimupy.stimuli.pinwheels import pinwheel\n",
    "from display_stimulus import InteractiveStimDisplay\n",
    "\n",
    "# Create and display the interactive pinwheel\n",
    "pinwheel_params = PinwheelParams()\n",
    "disp = InteractiveStimDisplay(pinwheel, pinwheel_params)\n",
    "disp.layout\n",
    "```"
   ]
  }
 ],
 "metadata": {
  "jupytext": {
   "formats": "md:myst",
   "text_representation": {
    "extension": ".md",
    "format_name": "myst",
    "format_version": 0.13,
    "jupytext_version": "1.14.5"
   }
  },
  "kernelspec": {
   "display_name": "Python 3 (ipykernel)",
   "language": "python",
   "name": "python3"
  },
  "language_info": {
   "codemirror_mode": {
    "name": "ipython",
    "version": 3
   },
   "file_extension": ".py",
   "mimetype": "text/x-python",
   "name": "python",
   "nbconvert_exporter": "python",
   "pygments_lexer": "ipython3",
   "version": "3.13.7"
  },
  "source_map": [
   13
  ]
 },
 "nbformat": 4,
 "nbformat_minor": 5
}