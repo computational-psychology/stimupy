{
 "cells": [
  {
   "cell_type": "markdown",
   "id": "d5572a8b",
   "metadata": {},
   "source": [
    "```{attention}\n",
    "To run locally, the code for these interactive demos requires\n",
    "a [Jupyter Notebook](https://jupyter.org/) environment,\n",
    "and the [Panel extension](https://panel.holoviz.org/).\n",
    "```\n",
    "\n",
    "# Checkerboard\n",
    "{py:func}`stimupy.stimuli.checkerboards.checkerboard`\n",
    "\n",
    "```{pyodide}\n",
    ":skip-embed:\n",
    "\n",
    "import param\n",
    "\n",
    "class CheckerboardParams(param.Parameterized):\n",
    "    # Image size parameters\n",
    "    height = param.Integer(default=10, bounds=(1, 20), doc=\"Height in degrees\")\n",
    "    width = param.Integer(default=10, bounds=(1, 20), doc=\"Width in degrees\")\n",
    "    ppd = param.Integer(default=20, bounds=(1, 40), doc=\"Pixels per degree\")\n",
    "    \n",
    "    # Checkerboard geometry parameters\n",
    "    frequency1 = param.Number(default=1, bounds=(0, 3), step=0.1, doc=\"Frequency 1 in cycles per degree\")\n",
    "    frequency2 = param.Number(default=1, bounds=(0, 3), step=0.1, doc=\"Frequency 2 in cycles per degree\")\n",
    "    rotation = param.Integer(default=0, bounds=(0, 360), doc=\"Rotation in degrees\")\n",
    "    \n",
    "    # Intensity parameters\n",
    "    intensity1 = param.Number(default=1.0, bounds=(0, 1), step=0.01, doc=\"Intensity 1\")\n",
    "    intensity2 = param.Number(default=0.0, bounds=(0, 1), step=0.01, doc=\"Intensity 2\")\n",
    "    \n",
    "    # Target parameters\n",
    "    target_x = param.Integer(default=0, bounds=(0, 10), doc=\"Target x index\")\n",
    "    target_y = param.Integer(default=0, bounds=(0, 10), doc=\"Target y index\")\n",
    "    intensity_target = param.Number(default=0.5, bounds=(0, 1), step=0.01, doc=\"Target intensity\")\n",
    "    extend_targets = param.Boolean(default=False, doc=\"Extend targets\")\n",
    "    \n",
    "    # Additional parameters\n",
    "    period = param.Selector(default=\"ignore\", objects=[\"ignore\", \"even\", \"odd\", \"either\"], doc=\"Period\")\n",
    "    round_phase_width = param.Boolean(default=False, doc=\"Round check width\")\n",
    "    add_mask = param.Selector(default=None, objects=[None, \"target_mask\", \"checker_mask\", \"row_mask\", \"col_mask\"], doc=\"Add mask\")\n",
    "\n",
    "    def get_stimulus_params(self):\n",
    "        return {\n",
    "            \"visual_size\": (self.height, self.width),\n",
    "            \"ppd\": self.ppd,\n",
    "            \"frequency\": (self.frequency1, self.frequency2),\n",
    "            \"period\": self.period,\n",
    "            \"rotation\": self.rotation,\n",
    "            \"intensity_checks\": (self.intensity1, self.intensity2),\n",
    "            \"round_phase_width\": self.round_phase_width,\n",
    "            \"target_indices\": ((self.target_y, self.target_x),),\n",
    "            \"intensity_target\": self.intensity_target,\n",
    "            \"extend_targets\": self.extend_targets,\n",
    "        }\n",
    "```\n",
    "\n",
    "```{pyodide}\n",
    ":skip-embed:\n",
    "\n",
    "from stimupy.stimuli.checkerboards import checkerboard\n",
    "from display_stimulus import InteractiveStimDisplay\n",
    "\n",
    "# Create and display the interactive checkerboard\n",
    "checkerboard_params = CheckerboardParams()\n",
    "disp = InteractiveStimDisplay(checkerboard, checkerboard_params)\n",
    "disp.layout\n",
    "```"
   ]
  }
 ],
 "metadata": {
  "jupytext": {
   "formats": "md:myst",
   "text_representation": {
    "extension": ".md",
    "format_name": "myst",
    "format_version": 0.13,
    "jupytext_version": "1.14.5"
   }
  },
  "kernelspec": {
   "display_name": "Python 3 (ipykernel)",
   "language": "python",
   "name": "python3"
  },
  "language_info": {
   "codemirror_mode": {
    "name": "ipython",
    "version": 3
   },
   "file_extension": ".py",
   "mimetype": "text/x-python",
   "name": "python",
   "nbconvert_exporter": "python",
   "pygments_lexer": "ipython3",
   "version": "3.13.7"
  },
  "source_map": [
   13
  ]
 },
 "nbformat": 4,
 "nbformat_minor": 5
}