{
 "cells": [
  {
   "cell_type": "markdown",
   "id": "02719323",
   "metadata": {},
   "source": [
    "```{attention}\n",
    "To run locally, the code for these interactive demos requires\n",
    "a [Jupyter Notebook](https://jupyter.org/) environment,\n",
    "and the [Panel extension](https://panel.holoviz.org/).\n",
    "```\n",
    "\n",
    "# Grid\n",
    "{py:func}`stimupy.stimuli.hermanns.grid`\n",
    "\n",
    "```{pyodide}\n",
    ":skip-embed:\n",
    "\n",
    "import param\n",
    "\n",
    "class HermannParams(param.Parameterized):\n",
    "    # Image size parameters\n",
    "    height = param.Integer(default=10, bounds=(1, 20), doc=\"Height in degrees\")\n",
    "    width = param.Integer(default=10, bounds=(1, 20), doc=\"Width in degrees\")\n",
    "    ppd = param.Integer(default=20, bounds=(1, 40), doc=\"Pixels per degree\")\n",
    "    \n",
    "    # Element geometry parameters\n",
    "    element_height = param.Number(default=1, bounds=(0.1, 2), step=0.1, doc=\"Element height\")\n",
    "    element_width = param.Number(default=1, bounds=(0.1, 2), step=0.1, doc=\"Element width\")\n",
    "    element_thickness = param.Number(default=0.1, bounds=(0.1, 1), step=0.1, doc=\"Element thickness\")\n",
    "    \n",
    "    # Intensity parameters\n",
    "    intensity_grid = param.Number(default=1, bounds=(0, 1), step=0.01, doc=\"Grid intensity\")\n",
    "    intensity_background = param.Number(default=0, bounds=(0, 1), step=0.01, doc=\"Background intensity\")\n",
    "\n",
    "    def get_stimulus_params(self):\n",
    "        return {\n",
    "            \"visual_size\": (self.height, self.width),\n",
    "            \"ppd\": self.ppd,\n",
    "            \"element_size\": (self.element_height, self.element_width, self.element_thickness),\n",
    "            \"intensity_background\": self.intensity_background,\n",
    "            \"intensity_grid\": self.intensity_grid,\n",
    "        }\n",
    "```\n",
    "\n",
    "```{pyodide}\n",
    ":skip-embed:\n",
    "\n",
    "from stimupy.stimuli.hermanns import grid\n",
    "from stimupy._docs.display_stimulus import InteractiveStimDisplay\n",
    "\n",
    "# Create and display the interactive hermann grid\n",
    "hermann_params = HermannParams()\n",
    "disp = InteractiveStimDisplay(grid, hermann_params)\n",
    "disp.layout\n",
    "```"
   ]
  }
 ],
 "metadata": {
  "jupytext": {
   "formats": "md:myst",
   "text_representation": {
    "extension": ".md",
    "format_name": "myst",
    "format_version": 0.13,
    "jupytext_version": "1.14.5"
   }
  },
  "kernelspec": {
   "display_name": "Python 3 (ipykernel)",
   "language": "python",
   "name": "python3"
  },
  "language_info": {
   "codemirror_mode": {
    "name": "ipython",
    "version": 3
   },
   "file_extension": ".py",
   "mimetype": "text/x-python",
   "name": "python",
   "nbconvert_exporter": "python",
   "pygments_lexer": "ipython3",
   "version": "3.13.7"
  },
  "source_map": [
   13
  ]
 },
 "nbformat": 4,
 "nbformat_minor": 5
}