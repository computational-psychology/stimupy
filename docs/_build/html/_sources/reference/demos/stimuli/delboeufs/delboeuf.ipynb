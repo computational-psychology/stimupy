{
 "cells": [
  {
   "cell_type": "markdown",
   "id": "b3505a7b",
   "metadata": {},
   "source": [
    "```{attention}\n",
    "To run locally, the code for these interactive demos requires\n",
    "a [Jupyter Notebook](https://jupyter.org/) environment,\n",
    "and the [Panel extension](https://panel.holoviz.org/).\n",
    "```\n",
    "\n",
    "# Delboeuf\n",
    "{py:func}`stimupy.stimuli.delboeufs.delboeuf`\n",
    "\n",
    "```{pyodide}\n",
    ":skip-embed:\n",
    "\n",
    "import param\n",
    "\n",
    "class DelboeufParams(param.Parameterized):\n",
    "    # Image size parameters\n",
    "    height = param.Integer(default=10, bounds=(1, 20), doc=\"Height in degrees\")\n",
    "    width = param.Integer(default=10, bounds=(1, 20), doc=\"Width in degrees\")\n",
    "    ppd = param.Integer(default=20, bounds=(1, 40), doc=\"Pixels per degree\")\n",
    "\n",
    "    outer_radius = param.Number(default=4, bounds=(0.5, 8), step=0.1, doc=\"\")\n",
    "    outer_line_width = param.Number(default=0, bounds=(0, 2), step=0.1, doc=\"\")\n",
    "    intensity_outer_line = param.Number(default=0.0, bounds=(0, 1), step=0.01, doc=\"\")\n",
    "    intensity_background = param.Number(default=1.0, bounds=(0, 1), step=0.01, doc=\"\")\n",
    "    target_radius = param.Number(default=2.5, bounds=(0, 5), step=0.1, doc=\"\")\n",
    "    intensity_target = param.Number(default=0.5, bounds=(0, 1), step=0.01, doc=\"\")\n",
    "\n",
    "    def get_stimulus_params(self):\n",
    "        return {\n",
    "            \"visual_size\": (self.height, self.width),\n",
    "            \"ppd\": self.ppd,\n",
    "            \"outer_radius\": self.outer_radius,\n",
    "            \"outer_line_width\": self.outer_line_width,\n",
    "            \"intensity_outer_line\": self.intensity_outer_line,\n",
    "            \"intensity_background\": self.intensity_background,\n",
    "            \"target_radius\": self.target_radius,\n",
    "            \"intensity_target\": self.intensity_target,\n",
    "        }\n",
    "```\n",
    "\n",
    "```{pyodide}\n",
    ":skip-embed:\n",
    "\n",
    "from stimupy.stimuli.delboeufs import delboeuf\n",
    "from display_stimulus import InteractiveStimDisplay\n",
    "\n",
    "# Create and display the interactive delboeuf\n",
    "delboeuf_params = DelboeufParams()\n",
    "disp = InteractiveStimDisplay(delboeuf, delboeuf_params)\n",
    "disp.layout\n",
    "```"
   ]
  }
 ],
 "metadata": {
  "jupytext": {
   "formats": "md:myst",
   "text_representation": {
    "extension": ".md",
    "format_name": "myst",
    "format_version": 0.13,
    "jupytext_version": "1.14.5"
   }
  },
  "kernelspec": {
   "display_name": "Python 3 (ipykernel)",
   "language": "python",
   "name": "python3"
  },
  "language_info": {
   "codemirror_mode": {
    "name": "ipython",
    "version": 3
   },
   "file_extension": ".py",
   "mimetype": "text/x-python",
   "name": "python",
   "nbconvert_exporter": "python",
   "pygments_lexer": "ipython3",
   "version": "3.13.7"
  },
  "source_map": [
   13
  ]
 },
 "nbformat": 4,
 "nbformat_minor": 5
}