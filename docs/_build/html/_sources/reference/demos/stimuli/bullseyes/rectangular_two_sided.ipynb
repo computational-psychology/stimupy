{
 "cells": [
  {
   "cell_type": "markdown",
   "id": "c63a0952",
   "metadata": {},
   "source": [
    "```{attention}\n",
    "To run locally, the code for these interactive demos requires\n",
    "a [Jupyter Notebook](https://jupyter.org/) environment,\n",
    "and the [Panel extension](https://panel.holoviz.org/).\n",
    "```\n",
    "\n",
    "# Rectangular, Two-sided\n",
    "{py:func}`stimupy.stimuli.bullseyes.rectangular_two_sided`\n",
    "\n",
    "```{pyodide}\n",
    ":skip-embed:\n",
    "\n",
    "import param\n",
    "\n",
    "class RectangularTwoSidedParams(param.Parameterized):\n",
    "    # Image size parameters\n",
    "    height = param.Integer(default=10, bounds=(1, 20), doc=\"Height in degrees\")\n",
    "    width = param.Integer(default=20, bounds=(1, 40), doc=\"Width in degrees\")\n",
    "    ppd = param.Integer(default=20, bounds=(1, 40), doc=\"Pixels per degree\")\n",
    "\n",
    "    frequency = param.Number(default=1, bounds=(0, 2), step=0.1, doc=\"\")\n",
    "    phase_shift = param.Number(default=0, bounds=(0, 360), step=1, doc=\"\")\n",
    "    intensity_frame1 = param.Number(default=1.0, bounds=(0, 1), step=0.01, doc=\"\")\n",
    "    intensity_frame2 = param.Number(default=0.0, bounds=(0, 1), step=0.01, doc=\"\")\n",
    "    intensity_background = param.Number(default=0.5, bounds=(0, 1), step=0.01, doc=\"\")\n",
    "    rotation = param.Number(default=0.0, bounds=(0, 360), step=1, doc=\"\")\n",
    "    intensity_target_left = param.Number(default=0.5, bounds=(0, 1), step=0.01, doc=\"\")\n",
    "    intensity_target_right = param.Number(default=0.5, bounds=(0, 1), step=0.01, doc=\"\")\n",
    "\n",
    "    def get_stimulus_params(self):\n",
    "        return {\n",
    "            \"visual_size\": (self.height, self.width),\n",
    "            \"ppd\": self.ppd,\n",
    "            \"frequency\": self.frequency,\n",
    "            \"phase_shift\": self.phase_shift,\n",
    "            \"intensity_frames\": ((self.intensity_frame1, self.intensity_frame2), (self.intensity_frame2, self.intensity_frame1)),\n",
    "            \"intensity_background\": self.intensity_background,\n",
    "            \"rotation\": self.rotation,\n",
    "            \"intensity_target\": (self.intensity_target_left, self.intensity_target_right),\n",
    "        }\n",
    "```\n",
    "\n",
    "```{pyodide}\n",
    ":skip-embed:\n",
    "\n",
    "from stimupy.stimuli.bullseyes import rectangular_two_sided\n",
    "from display_stimulus import InteractiveStimDisplay\n",
    "\n",
    "# Create and display the interactive rectangular_two_sided\n",
    "rectangular_two_sided_params = RectangularTwoSidedParams()\n",
    "disp = InteractiveStimDisplay(rectangular_two_sided, rectangular_two_sided_params)\n",
    "disp.layout\n",
    "```"
   ]
  }
 ],
 "metadata": {
  "jupytext": {
   "formats": "md:myst",
   "text_representation": {
    "extension": ".md",
    "format_name": "myst",
    "format_version": 0.13,
    "jupytext_version": "1.14.5"
   }
  },
  "kernelspec": {
   "display_name": "Python 3 (ipykernel)",
   "language": "python",
   "name": "python3"
  },
  "language_info": {
   "codemirror_mode": {
    "name": "ipython",
    "version": 3
   },
   "file_extension": ".py",
   "mimetype": "text/x-python",
   "name": "python",
   "nbconvert_exporter": "python",
   "pygments_lexer": "ipython3",
   "version": "3.13.7"
  },
  "source_map": [
   13
  ]
 },
 "nbformat": 4,
 "nbformat_minor": 5
}