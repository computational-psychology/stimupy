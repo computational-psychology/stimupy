{
 "cells": [
  {
   "cell_type": "markdown",
   "id": "4d50f1e1",
   "metadata": {},
   "source": [
    "```{attention}\n",
    "To run locally, the code for these interactive demos requires\n",
    "a [Jupyter Notebook](https://jupyter.org/) environment,\n",
    "and the [Panel extension](https://panel.holoviz.org/).\n",
    "```\n",
    "\n",
    "# Rectangular-generalized\n",
    "{py:func}`stimupy.stimuli.bullseyes.rectangular_generalized`\n",
    "\n",
    "```{pyodide}\n",
    ":skip-embed:\n",
    "\n",
    "import param\n",
    "\n",
    "class RectangularGeneralizedParams(param.Parameterized):\n",
    "    # Image size parameters\n",
    "    height = param.Integer(default=10, bounds=(1, 20), doc=\"Height in degrees\")\n",
    "    width = param.Integer(default=10, bounds=(1, 20), doc=\"Width in degrees\")\n",
    "    ppd = param.Integer(default=20, bounds=(1, 40), doc=\"Pixels per degree\")\n",
    "\n",
    "    radius1 = param.Number(default=1, bounds=(0, 2), step=0.1, doc=\"\")\n",
    "    radius2 = param.Number(default=2, bounds=(1, 3), step=0.1, doc=\"\")\n",
    "    radius3 = param.Number(default=3, bounds=(2, 4), step=0.1, doc=\"\")\n",
    "    intensity_frame1 = param.Number(default=1.0, bounds=(0, 1), step=0.01, doc=\"\")\n",
    "    intensity_frame2 = param.Number(default=0.3, bounds=(0, 1), step=0.01, doc=\"\")\n",
    "    intensity_frame3 = param.Number(default=0.8, bounds=(0, 1), step=0.01, doc=\"\")\n",
    "    intensity_background = param.Number(default=0.0, bounds=(0, 1), step=0.01, doc=\"\")\n",
    "    origin = param.Selector(default=\"center\", objects=['mean', 'corner', 'center'], doc=\"\")\n",
    "    rotation = param.Number(default=0.0, bounds=(0, 360), step=1, doc=\"\")\n",
    "    intensity_target = param.Number(default=0.5, bounds=(0, 1), step=0.01, doc=\"\")\n",
    "\n",
    "    def get_stimulus_params(self):\n",
    "        return {\n",
    "            \"visual_size\": (self.height, self.width),\n",
    "            \"ppd\": self.ppd,\n",
    "            \"radii\": [self.radius1, self.radius2, self.radius3],\n",
    "            \"intensity_frames\": [self.intensity_frame1, self.intensity_frame2, self.intensity_frame3],\n",
    "            \"intensity_background\": self.intensity_background,\n",
    "            \"origin\": self.origin,\n",
    "            \"rotation\": self.rotation,\n",
    "            \"intensity_target\": self.intensity_target,\n",
    "        }\n",
    "```\n",
    "\n",
    "```{pyodide}\n",
    ":skip-embed:\n",
    "\n",
    "from stimupy.stimuli.bullseyes import rectangular_generalized\n",
    "from stimupy._docs.display_stimulus import InteractiveStimDisplay\n",
    "\n",
    "# Create and display the interactive rectangular_generalized\n",
    "rectangular_generalized_params = RectangularGeneralizedParams()\n",
    "disp = InteractiveStimDisplay(rectangular_generalized, rectangular_generalized_params)\n",
    "disp.layout\n",
    "```"
   ]
  }
 ],
 "metadata": {
  "jupytext": {
   "formats": "md:myst",
   "text_representation": {
    "extension": ".md",
    "format_name": "myst",
    "format_version": 0.13,
    "jupytext_version": "1.14.5"
   }
  },
  "kernelspec": {
   "display_name": "Python 3 (ipykernel)",
   "language": "python",
   "name": "python3"
  },
  "language_info": {
   "codemirror_mode": {
    "name": "ipython",
    "version": 3
   },
   "file_extension": ".py",
   "mimetype": "text/x-python",
   "name": "python",
   "nbconvert_exporter": "python",
   "pygments_lexer": "ipython3",
   "version": "3.13.7"
  },
  "source_map": [
   13
  ]
 },
 "nbformat": 4,
 "nbformat_minor": 5
}