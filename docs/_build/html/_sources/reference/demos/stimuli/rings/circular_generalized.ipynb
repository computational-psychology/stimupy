{
 "cells": [
  {
   "cell_type": "markdown",
   "id": "8e6e5e9d",
   "metadata": {},
   "source": [
    "```{attention}\n",
    "To run locally, the code for these interactive demos requires\n",
    "a [Jupyter Notebook](https://jupyter.org/) environment,\n",
    "and the [Panel extension](https://panel.holoviz.org/).\n",
    "```\n",
    "\n",
    "# Circular, generalized\n",
    "{py:func}`stimupy.stimuli.rings.circular_generalized`\n",
    "\n",
    "```{pyodide}\n",
    ":skip-embed:\n",
    "\n",
    "import param\n",
    "\n",
    "class CircularGeneralizedParams(param.Parameterized):\n",
    "    # Image size parameters\n",
    "    height = param.Integer(default=10, bounds=(1, 20), doc=\"Height in degrees\")\n",
    "    width = param.Integer(default=10, bounds=(1, 20), doc=\"Width in degrees\")\n",
    "    ppd = param.Integer(default=20, bounds=(1, 40), doc=\"Pixels per degree\")\n",
    "\n",
    "    radius1 = param.Number(default=1.0, bounds=(0.1, 5), step=0.1, doc=\"Radius 1\")\n",
    "    radius2 = param.Number(default=2.0, bounds=(0.1, 5), step=0.1, doc=\"Radius 2\")\n",
    "    radius3 = param.Number(default=3.0, bounds=(0.1, 5), step=0.1, doc=\"Radius 3\")\n",
    "    intensity1 = param.Number(default=1.0, bounds=(0, 1), step=0.01, doc=\"Intensity 1\")\n",
    "    intensity2 = param.Number(default=0.3, bounds=(0, 1), step=0.01, doc=\"Intensity 2\")\n",
    "    intensity3 = param.Number(default=0.8, bounds=(0, 1), step=0.01, doc=\"Intensity 3\")\n",
    "    intensity_background = param.Number(default=0.0, bounds=(0, 1), step=0.01, doc=\"Background intensity\")\n",
    "    target_idx = param.Integer(default=1, bounds=(1, 4), doc=\"Target index\")\n",
    "    intensity_target = param.Number(default=0.5, bounds=(0, 1), step=0.01, doc=\"Target intensity\")\n",
    "    origin = param.Selector(default=\"center\", objects=[\"mean\", \"corner\", \"center\"], doc=\"Origin position\")\n",
    "\n",
    "    def get_stimulus_params(self):\n",
    "        return {\n",
    "            \"visual_size\": (self.height, self.width),\n",
    "            \"ppd\": self.ppd,\n",
    "            \"radii\": (self.radius1, self.radius2, self.radius3),\n",
    "            \"intensity_rings\": (self.intensity1, self.intensity2, self.intensity3),\n",
    "            \"intensity_background\": self.intensity_background,\n",
    "            \"target_indices\": (self.target_idx,),\n",
    "            \"intensity_target\": self.intensity_target,\n",
    "            \"origin\": self.origin,\n",
    "        }\n",
    "```\n",
    "\n",
    "```{pyodide}\n",
    ":skip-embed:\n",
    "\n",
    "from stimupy.stimuli.rings import circular_generalized\n",
    "# Add the _static directory to the path to import display_stimulus\n",
    "sys.path.append(str((Path().resolve().parents[3] / \"_static\")))from stimupy._docs.display_stimulus import InteractiveStimDisplay\n",
    "\n",
    "# Create and display the interactive circular_generalized\n",
    "circular_generalized_params = CircularGeneralizedParams()\n",
    "disp = InteractiveStimDisplay(circular_generalized, circular_generalized_params)\n",
    "disp.layout\n",
    "```"
   ]
  }
 ],
 "metadata": {
  "jupytext": {
   "formats": "md:myst",
   "text_representation": {
    "extension": ".md",
    "format_name": "myst",
    "format_version": 0.13,
    "jupytext_version": "1.14.5"
   }
  },
  "kernelspec": {
   "display_name": "Python 3 (ipykernel)",
   "language": "python",
   "name": "python3"
  },
  "language_info": {
   "codemirror_mode": {
    "name": "ipython",
    "version": 3
   },
   "file_extension": ".py",
   "mimetype": "text/x-python",
   "name": "python",
   "nbconvert_exporter": "python",
   "pygments_lexer": "ipython3",
   "version": "3.13.7"
  },
  "source_map": [
   13
  ]
 },
 "nbformat": 4,
 "nbformat_minor": 5
}