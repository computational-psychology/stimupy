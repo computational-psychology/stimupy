{
 "cells": [
  {
   "cell_type": "markdown",
   "id": "b7c0751c",
   "metadata": {},
   "source": [
    "```{attention}\n",
    "To run locally, the code for these interactive demos requires\n",
    "a [Jupyter Notebook](https://jupyter.org/) environment,\n",
    "and the [Panel extension](https://panel.holoviz.org/).\n",
    "```\n",
    "\n",
    "# Text\n",
    "{py:func}`stimupy.components.texts.text`\n",
    "\n",
    "```{pyodide}\n",
    ":skip-embed:\n",
    "\n",
    "import param\n",
    "\n",
    "class TextParams(param.Parameterized):\n",
    "    # Image size parameters\n",
    "    height = param.Integer(default=10, bounds=(1, 20), doc=\"Height in degrees\")\n",
    "    width = param.Integer(default=10, bounds=(1, 20), doc=\"Width in degrees\")\n",
    "    ppd = param.Integer(default=20, bounds=(1, 40), doc=\"Pixels per degree\")\n",
    "    \n",
    "    # Text parameters\n",
    "    text_content = param.String(default=\"Hello World\", doc=\"Text content\")\n",
    "    fontsize = param.Integer(default=30, bounds=(1, 60), doc=\"Font size\")\n",
    "    align = param.Selector(default=\"center\", objects=[\"left\", \"center\", \"right\"], doc=\"Text alignment\")\n",
    "    # direction = param.Selector(default=\"ltr\", objects=[\"ltr\", \"rtl\"], doc=\"Text direction\")\n",
    "    \n",
    "    # Intensity parameters\n",
    "    intensity_text = param.Number(default=1.0, bounds=(0, 1), step=0.01, doc=\"Text intensity\")\n",
    "    intensity_background = param.Number(default=0.0, bounds=(0, 1), step=0.01, doc=\"Background intensity\")\n",
    "    \n",
    "    # Additional parameters\n",
    "    add_mask = param.Boolean(default=False, doc=\"Add mask to visualization\")\n",
    "\n",
    "    def get_stimulus_params(self):\n",
    "        return {\n",
    "            \"text\": self.text_content,\n",
    "            \"visual_size\": (self.height, self.width),\n",
    "            \"ppd\": self.ppd,\n",
    "            \"intensity_text\": self.intensity_text,\n",
    "            \"intensity_background\": self.intensity_background,\n",
    "            \"fontsize\": self.fontsize,\n",
    "            \"align\": self.align,\n",
    "            # \"direction\": self.direction,\n",
    "        }\n",
    "```\n",
    "\n",
    "```{pyodide}\n",
    ":skip-embed:\n",
    "\n",
    "from stimupy.components.texts import text\n",
    "from display_stimulus import InteractiveStimDisplay\n",
    "\n",
    "# Create and display the interactive text\n",
    "text_params = TextParams()\n",
    "disp = InteractiveStimDisplay(text, text_params)\n",
    "disp.layout\n",
    "```"
   ]
  }
 ],
 "metadata": {
  "jupytext": {
   "formats": "md:myst",
   "text_representation": {
    "extension": ".md",
    "format_name": "myst",
    "format_version": 0.13,
    "jupytext_version": "1.14.5"
   }
  },
  "kernelspec": {
   "display_name": "Python 3 (ipykernel)",
   "language": "python",
   "name": "python3"
  },
  "language_info": {
   "codemirror_mode": {
    "name": "ipython",
    "version": 3
   },
   "file_extension": ".py",
   "mimetype": "text/x-python",
   "name": "python",
   "nbconvert_exporter": "python",
   "pygments_lexer": "ipython3",
   "version": "3.13.7"
  },
  "source_map": [
   13
  ]
 },
 "nbformat": 4,
 "nbformat_minor": 5
}