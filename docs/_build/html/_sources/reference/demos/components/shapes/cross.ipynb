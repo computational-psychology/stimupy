{
 "cells": [
  {
   "cell_type": "markdown",
   "id": "7a87291f",
   "metadata": {},
   "source": [
    "```{attention}\n",
    "To run locally, the code for these interactive demos requires\n",
    "a [Jupyter Notebook](https://jupyter.org/) environment,\n",
    "and the [Panel extension](https://panel.holoviz.org/).\n",
    "```\n",
    "\n",
    "# Cross\n",
    "{py:func}`stimupy.components.shapes.cross`\n",
    "\n",
    "```{pyodide}\n",
    ":skip-embed:\n",
    "\n",
    "import param\n",
    "\n",
    "class CrossParams(param.Parameterized):\n",
    "    # Image size parameters\n",
    "    height = param.Integer(default=10, bounds=(1, 20), doc=\"Height in degrees\")\n",
    "    width = param.Integer(default=10, bounds=(1, 20), doc=\"Width in degrees\")\n",
    "    ppd = param.Integer(default=20, bounds=(1, 40), doc=\"Pixels per degree\")\n",
    "\n",
    "    cross_height = param.Integer(default=4, bounds=(1, 8), doc=\"\")\n",
    "    cross_width = param.Integer(default=4, bounds=(1, 8), doc=\"\")\n",
    "    cross_thickness_height = param.Number(default=1.0, bounds=(0.5, 3), step=0.1, doc=\"\")\n",
    "    cross_thickness_width = param.Number(default=1.0, bounds=(0.5, 3), step=0.1, doc=\"\")\n",
    "    cross_arm_ratio1 = param.Number(default=1.0, bounds=(0.1, 5.0), step=0.1, doc=\"\")\n",
    "    cross_arm_ratio2 = param.Number(default=1.0, bounds=(0.1, 5.0), step=0.1, doc=\"\")\n",
    "    rotation = param.Integer(default=0, bounds=(0, 360), doc=\"\")\n",
    "    intensity_cross = param.Number(default=0.5, bounds=(0, 1), step=0.01, doc=\"\")\n",
    "    intensity_background = param.Number(default=0., bounds=(0, 1), step=0.01, doc=\"\")\n",
    "\n",
    "    def get_stimulus_params(self):\n",
    "        return {\n",
    "            \"visual_size\": (self.height, self.width),\n",
    "            \"ppd\": self.ppd,\n",
    "            \"cross_size\": (self.cross_height, self.cross_width),\n",
    "            \"cross_thickness\": (self.cross_thickness_height, self.cross_thickness_width),\n",
    "            \"cross_arm_ratios\": (self.cross_arm_ratio1, self.cross_arm_ratio2),\n",
    "            \"rotation\": self.rotation,\n",
    "            \"intensity_cross\": self.intensity_cross,\n",
    "            \"intensity_background\": self.intensity_background,\n",
    "        }\n",
    "```\n",
    "\n",
    "```{pyodide}\n",
    ":skip-embed:\n",
    "\n",
    "from stimupy.components.shapes import cross\n",
    "from display_stimulus import InteractiveStimDisplay\n",
    "\n",
    "# Create and display the interactive cross\n",
    "cross_params = CrossParams()\n",
    "disp = InteractiveStimDisplay(cross, cross_params)\n",
    "disp.layout\n",
    "```"
   ]
  }
 ],
 "metadata": {
  "jupytext": {
   "formats": "md:myst",
   "text_representation": {
    "extension": ".md",
    "format_name": "myst",
    "format_version": 0.13,
    "jupytext_version": "1.14.5"
   }
  },
  "kernelspec": {
   "display_name": "Python 3 (ipykernel)",
   "language": "python",
   "name": "python3"
  },
  "language_info": {
   "codemirror_mode": {
    "name": "ipython",
    "version": 3
   },
   "file_extension": ".py",
   "mimetype": "text/x-python",
   "name": "python",
   "nbconvert_exporter": "python",
   "pygments_lexer": "ipython3",
   "version": "3.13.7"
  },
  "source_map": [
   13
  ]
 },
 "nbformat": 4,
 "nbformat_minor": 5
}