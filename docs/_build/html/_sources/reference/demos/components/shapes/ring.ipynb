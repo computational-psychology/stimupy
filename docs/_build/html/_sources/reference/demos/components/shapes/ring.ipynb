{
 "cells": [
  {
   "cell_type": "markdown",
   "id": "da00672a",
   "metadata": {},
   "source": [
    "```{attention}\n",
    "To run locally, the code for these interactive demos requires\n",
    "a [Jupyter Notebook](https://jupyter.org/) environment,\n",
    "and the [Panel extension](https://panel.holoviz.org/).\n",
    "```\n",
    "\n",
    "# Ring\n",
    "{py:func}`stimupy.components.shapes.ring`\n",
    "\n",
    "```{pyodide}\n",
    ":skip-embed:\n",
    "\n",
    "import param\n",
    "\n",
    "class RingParams(param.Parameterized):\n",
    "    # Image size parameters\n",
    "    height = param.Integer(default=10, bounds=(1, 20), doc=\"Height in degrees\")\n",
    "    width = param.Integer(default=10, bounds=(1, 20), doc=\"Width in degrees\")\n",
    "    ppd = param.Integer(default=20, bounds=(1, 40), doc=\"Pixels per degree\")\n",
    "\n",
    "    radius1 = param.Number(default=2, bounds=(1, 4), step=0.01, doc=\"\")\n",
    "    radius2 = param.Number(default=4, bounds=(3, 6), step=0.01, doc=\"\")\n",
    "    intensity_ring = param.Number(default=0.5, bounds=(0, 1), step=0.01, doc=\"\")\n",
    "    intensity_background = param.Number(default=0., bounds=(0, 1), step=0.01, doc=\"\")\n",
    "    origin = param.Selector(default=\"mean\", objects=['mean', 'corner', 'center'], doc=\"\")\n",
    "    add_mask = param.Boolean(default=False, doc=\"\")\n",
    "\n",
    "    def get_stimulus_params(self):\n",
    "        return {\n",
    "            \"visual_size\": (self.height, self.width),\n",
    "            \"ppd\": self.ppd,\n",
    "            \"radii\": (self.radius1, self.radius2),\n",
    "            \"intensity_ring\": self.intensity_ring,\n",
    "            \"intensity_background\": self.intensity_background,\n",
    "            \"origin\": self.origin,\n",
    "        }\n",
    "```\n",
    "\n",
    "```{pyodide}\n",
    ":skip-embed:\n",
    "\n",
    "from stimupy.components.shapes import ring\n",
    "from stimupy._docs.display_stimulus import InteractiveStimDisplay\n",
    "\n",
    "# Create and display the interactive ring\n",
    "ring_params = RingParams()\n",
    "disp = InteractiveStimDisplay(ring, ring_params)\n",
    "disp.layout\n",
    "```"
   ]
  }
 ],
 "metadata": {
  "jupytext": {
   "formats": "md:myst",
   "text_representation": {
    "extension": ".md",
    "format_name": "myst",
    "format_version": 0.13,
    "jupytext_version": "1.14.5"
   }
  },
  "kernelspec": {
   "display_name": "Python 3 (ipykernel)",
   "language": "python",
   "name": "python3"
  },
  "language_info": {
   "codemirror_mode": {
    "name": "ipython",
    "version": 3
   },
   "file_extension": ".py",
   "mimetype": "text/x-python",
   "name": "python",
   "nbconvert_exporter": "python",
   "pygments_lexer": "ipython3",
   "version": "3.13.7"
  },
  "source_map": [
   13
  ]
 },
 "nbformat": 4,
 "nbformat_minor": 5
}