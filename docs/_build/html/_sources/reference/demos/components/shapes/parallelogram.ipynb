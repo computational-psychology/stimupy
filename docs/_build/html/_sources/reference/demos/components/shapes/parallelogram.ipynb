{
 "cells": [
  {
   "cell_type": "markdown",
   "id": "cd756f1f",
   "metadata": {},
   "source": [
    "```{attention}\n",
    "To run locally, the code for these interactive demos requires\n",
    "a [Jupyter Notebook](https://jupyter.org/) environment,\n",
    "and the [Panel extension](https://panel.holoviz.org/).\n",
    "```\n",
    "\n",
    "# Parallelogram\n",
    "{py:func}`stimupy.components.shapes.parallelogram`\n",
    "\n",
    "```{pyodide}\n",
    ":skip-embed:\n",
    "\n",
    "import param\n",
    "\n",
    "class ParallelogramParams(param.Parameterized):\n",
    "    # Image size parameters\n",
    "    height = param.Integer(default=10, bounds=(1, 20), doc=\"Height in degrees\")\n",
    "    width = param.Integer(default=10, bounds=(1, 20), doc=\"Width in degrees\")\n",
    "    ppd = param.Integer(default=20, bounds=(1, 40), doc=\"Pixels per degree\")\n",
    "\n",
    "    parallelogram_height = param.Integer(default=3, bounds=(1, 6), doc=\"\")\n",
    "    parallelogram_width = param.Integer(default=3, bounds=(1, 6), doc=\"\")\n",
    "    parallelogram_depth = param.Number(default=1.0, bounds=(-3.0, 3.0), step=0.1, doc=\"\")\n",
    "    rotation = param.Integer(default=0, bounds=(0, 360), doc=\"\")\n",
    "    intensity_parallelogram = param.Number(default=0.5, bounds=(0, 1), step=0.01, doc=\"\")\n",
    "    intensity_background = param.Number(default=0., bounds=(0, 1), step=0.01, doc=\"\")\n",
    "\n",
    "    def get_stimulus_params(self):\n",
    "        return {\n",
    "            \"visual_size\": (self.height, self.width),\n",
    "            \"ppd\": self.ppd,\n",
    "            \"parallelogram_size\": (self.parallelogram_height, self.parallelogram_width, self.parallelogram_depth),\n",
    "            \"rotation\": self.rotation,\n",
    "            \"intensity_parallelogram\": self.intensity_parallelogram,\n",
    "            \"intensity_background\": self.intensity_background,\n",
    "        }\n",
    "```\n",
    "\n",
    "```{pyodide}\n",
    ":skip-embed:\n",
    "\n",
    "from stimupy.components.shapes import parallelogram\n",
    "from stimupy._docs.display_stimulus import InteractiveStimDisplay\n",
    "\n",
    "# Create and display the interactive parallelogram\n",
    "parallelogram_params = ParallelogramParams()\n",
    "disp = InteractiveStimDisplay(parallelogram, parallelogram_params)\n",
    "disp.layout\n",
    "```"
   ]
  }
 ],
 "metadata": {
  "jupytext": {
   "formats": "md:myst",
   "text_representation": {
    "extension": ".md",
    "format_name": "myst",
    "format_version": 0.13,
    "jupytext_version": "1.14.5"
   }
  },
  "kernelspec": {
   "display_name": "Python 3 (ipykernel)",
   "language": "python",
   "name": "python3"
  },
  "language_info": {
   "codemirror_mode": {
    "name": "ipython",
    "version": 3
   },
   "file_extension": ".py",
   "mimetype": "text/x-python",
   "name": "python",
   "nbconvert_exporter": "python",
   "pygments_lexer": "ipython3",
   "version": "3.13.7"
  },
  "source_map": [
   13
  ]
 },
 "nbformat": 4,
 "nbformat_minor": 5
}