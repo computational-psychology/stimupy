{
 "cells": [
  {
   "cell_type": "markdown",
   "id": "61f5bcd3",
   "metadata": {},
   "source": [
    "```{attention}\n",
    "To run locally, the code for these interactive demos requires\n",
    "a [Jupyter Notebook](https://jupyter.org/) environment,\n",
    "and the [Panel extension](https://panel.holoviz.org/).\n",
    "```\n",
    "\n",
    "# Gaussian\n",
    "{py:func}`stimupy.components.gaussians.gaussian`\n",
    "\n",
    "```{pyodide}\n",
    ":skip-embed:\n",
    "\n",
    "import param\n",
    "\n",
    "class GaussianParams(param.Parameterized):\n",
    "    # Image size parameters\n",
    "    height = param.Integer(default=10, bounds=(1, 20), doc=\"Height in degrees\")\n",
    "    width = param.Integer(default=10, bounds=(1, 20), doc=\"Width in degrees\")\n",
    "    ppd = param.Integer(default=20, bounds=(1, 40), doc=\"Pixels per degree\")\n",
    "    \n",
    "    # Gaussian parameters\n",
    "    sigma1 = param.Number(default=1, bounds=(0, 3), step=0.1, doc=\"Sigma 1 in degrees\")\n",
    "    sigma2 = param.Number(default=1, bounds=(0, 3), step=0.1, doc=\"Sigma 2 in degrees\")\n",
    "    rotation = param.Integer(default=0, bounds=(0, 360), doc=\"Rotation in degrees\")\n",
    "    \n",
    "    # Intensity parameters\n",
    "    intensity_max = param.Number(default=1.0, bounds=(0, 1), step=0.01, doc=\"Maximum intensity\")\n",
    "    \n",
    "    # Additional parameters\n",
    "    origin = param.Selector(default=\"center\", objects=[\"center\", \"mean\", \"corner\"], doc=\"Origin\")\n",
    "    add_mask = param.Boolean(default=False, doc=\"Add mask to visualization\")\n",
    "\n",
    "    def get_stimulus_params(self):\n",
    "        return {\n",
    "            \"visual_size\": (self.height, self.width),\n",
    "            \"ppd\": self.ppd,\n",
    "            \"sigma\": (self.sigma1, self.sigma2),\n",
    "            \"origin\": self.origin,\n",
    "            \"rotation\": self.rotation,\n",
    "            \"intensity_max\": self.intensity_max,\n",
    "        }\n",
    "```\n",
    "\n",
    "```{pyodide}\n",
    ":skip-embed:\n",
    "\n",
    "from stimupy.components.gaussians import gaussian\n",
    "from display_stimulus import InteractiveStimDisplay\n",
    "\n",
    "# Create and display the interactive gaussian\n",
    "gaussian_params = GaussianParams()\n",
    "disp = InteractiveStimDisplay(gaussian, gaussian_params)\n",
    "disp.layout\n",
    "```"
   ]
  }
 ],
 "metadata": {
  "jupytext": {
   "formats": "md:myst",
   "text_representation": {
    "extension": ".md",
    "format_name": "myst",
    "format_version": 0.13,
    "jupytext_version": "1.14.5"
   }
  },
  "kernelspec": {
   "display_name": "Python 3 (ipykernel)",
   "language": "python",
   "name": "python3"
  },
  "language_info": {
   "codemirror_mode": {
    "name": "ipython",
    "version": 3
   },
   "file_extension": ".py",
   "mimetype": "text/x-python",
   "name": "python",
   "nbconvert_exporter": "python",
   "pygments_lexer": "ipython3",
   "version": "3.13.7"
  },
  "source_map": [
   13
  ]
 },
 "nbformat": 4,
 "nbformat_minor": 5
}