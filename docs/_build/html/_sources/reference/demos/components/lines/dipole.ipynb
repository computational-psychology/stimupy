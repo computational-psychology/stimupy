{
 "cells": [
  {
   "cell_type": "markdown",
   "id": "6ea71a49",
   "metadata": {},
   "source": [
    "```{attention}\n",
    "To run locally, the code for these interactive demos requires\n",
    "a [Jupyter Notebook](https://jupyter.org/) environment,\n",
    "and the [Panel extension](https://panel.holoviz.org/).\n",
    "```\n",
    "\n",
    "# Dipole\n",
    "{py:func}`stimupy.components.lines.dipole`\n",
    "\n",
    "```{pyodide}\n",
    ":skip-embed:\n",
    "\n",
    "import param\n",
    "\n",
    "class DipoleParams(param.Parameterized):\n",
    "    # Image size parameters\n",
    "    height = param.Integer(default=10, bounds=(1, 20), doc=\"Height in degrees\")\n",
    "    width = param.Integer(default=10, bounds=(1, 20), doc=\"Width in degrees\")\n",
    "    ppd = param.Integer(default=20, bounds=(1, 40), doc=\"Pixels per degree\")\n",
    "\n",
    "    line_length = param.Number(default=3, bounds=(0, 6), step=0.01, doc=\"\")\n",
    "    line_width = param.Number(default=0, bounds=(0, 3), step=0.01, doc=\"\")\n",
    "    line_gap = param.Number(default=0.5, bounds=(0, 3), step=0.01, doc=\"\")\n",
    "    rotation = param.Integer(default=0, bounds=(0, 360), doc=\"\")\n",
    "    intensity_lines = param.Range(default=(0.0, 1.0), bounds=(0, 1), doc=\"Line intensity range (min, max)\")\n",
    "    mask = param.Boolean(default=False, doc=\"\")\n",
    "\n",
    "    def get_stimulus_params(self):\n",
    "        return {\n",
    "            \"visual_size\": (self.height, self.width),\n",
    "            \"ppd\": self.ppd,\n",
    "            \"line_length\": self.line_length,\n",
    "            \"line_width\": self.line_width,\n",
    "            \"line_gap\": self.line_gap,\n",
    "            \"rotation\": self.rotation,\n",
    "            \"intensity_lines\": self.intensity_lines,\n",
    "        }\n",
    "```\n",
    "\n",
    "```{pyodide}\n",
    ":skip-embed:\n",
    "\n",
    "from stimupy.components.lines import dipole\n",
    "from display_stimulus import InteractiveStimDisplay\n",
    "\n",
    "# Create and display the interactive dipole\n",
    "dipole_params = DipoleParams()\n",
    "disp = InteractiveStimDisplay(dipole, dipole_params)\n",
    "disp.layout\n",
    "```"
   ]
  }
 ],
 "metadata": {
  "jupytext": {
   "formats": "md:myst",
   "text_representation": {
    "extension": ".md",
    "format_name": "myst",
    "format_version": 0.13,
    "jupytext_version": "1.14.5"
   }
  },
  "kernelspec": {
   "display_name": "Python 3 (ipykernel)",
   "language": "python",
   "name": "python3"
  },
  "language_info": {
   "codemirror_mode": {
    "name": "ipython",
    "version": 3
   },
   "file_extension": ".py",
   "mimetype": "text/x-python",
   "name": "python",
   "nbconvert_exporter": "python",
   "pygments_lexer": "ipython3",
   "version": "3.13.7"
  },
  "source_map": [
   13
  ]
 },
 "nbformat": 4,
 "nbformat_minor": 5
}