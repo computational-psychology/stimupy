{
 "cells": [
  {
   "cell_type": "markdown",
   "id": "df9eb034",
   "metadata": {},
   "source": [
    "```{attention}\n",
    "To run locally, the code for these interactive demos requires\n",
    "a [Jupyter Notebook](https://jupyter.org/) environment,\n",
    "and the [Panel extension](https://panel.holoviz.org/).\n",
    "```\n",
    "\n",
    "# Staircase\n",
    "{py:func}`stimupy.components.waves.staircase`\n",
    "\n",
    "```{pyodide}\n",
    ":skip-embed:\n",
    "\n",
    "import param\n",
    "\n",
    "class StaircaseParams(param.Parameterized):\n",
    "    # Image size parameters\n",
    "    height = param.Integer(default=10, bounds=(1, 20), doc=\"Height in degrees\")\n",
    "    width = param.Integer(default=10, bounds=(1, 20), doc=\"Width in degrees\")\n",
    "    ppd = param.Integer(default=20, bounds=(1, 40), doc=\"Pixels per degree\")\n",
    "\n",
    "    distance_metric = param.Selector(default=\"horizontal\", objects=['horizontal','vertical','oblique','radial','rectilinear','angular'], doc=\"\")\n",
    "    frequency = param.Number(default=1, bounds=(0, 4), step=0.01, doc=\"\")\n",
    "    rotation = param.Number(default=0, bounds=(0, 360), step=0.01, doc=\"\")\n",
    "    phase_shift = param.Number(default=0, bounds=(0, 360), step=0.01, doc=\"\")\n",
    "    intensity_min = param.Number(default=0, bounds=(0, 1), step=0.01, doc=\"\")\n",
    "    intensity_max = param.Number(default=1, bounds=(0, 1), step=0.01, doc=\"\")\n",
    "    origin = param.Selector(default=\"center\", objects=['mean', 'corner', 'center'], doc=\"\")\n",
    "    period = param.Selector(default=\"ignore\", objects=['ignore', 'even', 'odd', 'either'], doc=\"\")\n",
    "    round_phase_width = param.Boolean(default=False, doc=\"\")\n",
    "\n",
    "    def get_stimulus_params(self):\n",
    "        return {\n",
    "            \"visual_size\": (self.height, self.width),\n",
    "            \"ppd\": self.ppd,\n",
    "            \"distance_metric\": self.distance_metric,\n",
    "            \"frequency\": self.frequency,\n",
    "            \"rotation\": self.rotation,\n",
    "            \"phase_shift\": self.phase_shift,\n",
    "            \"intensities\": (self.intensity_min, self.intensity_max),\n",
    "            \"origin\": self.origin,\n",
    "            \"period\": self.period,\n",
    "            \"round_phase_width\": self.round_phase_width,\n",
    "        }\n",
    "```\n",
    "\n",
    "```{pyodide}\n",
    ":skip-embed:\n",
    "\n",
    "from stimupy.components.waves import staircase\n",
    "from display_stimulus import InteractiveStimDisplay\n",
    "\n",
    "# Create and display the interactive staircase\n",
    "staircase_params = StaircaseParams()\n",
    "disp = InteractiveStimDisplay(staircase, staircase_params)\n",
    "disp.layout\n",
    "```"
   ]
  }
 ],
 "metadata": {
  "jupytext": {
   "formats": "md:myst",
   "text_representation": {
    "extension": ".md",
    "format_name": "myst",
    "format_version": 0.13,
    "jupytext_version": "1.14.5"
   }
  },
  "kernelspec": {
   "display_name": "Python 3 (ipykernel)",
   "language": "python",
   "name": "python3"
  },
  "language_info": {
   "codemirror_mode": {
    "name": "ipython",
    "version": 3
   },
   "file_extension": ".py",
   "mimetype": "text/x-python",
   "name": "python",
   "nbconvert_exporter": "python",
   "pygments_lexer": "ipython3",
   "version": "3.13.7"
  },
  "source_map": [
   13
  ]
 },
 "nbformat": 4,
 "nbformat_minor": 5
}