{
 "cells": [
  {
   "cell_type": "markdown",
   "id": "36e3fdd0",
   "metadata": {},
   "source": [
    "```{attention}\n",
    "To run locally, the code for these interactive demos requires\n",
    "a [Jupyter Notebook](https://jupyter.org/) environment,\n",
    "and the [Panel extension](https://panel.holoviz.org/).\n",
    "```\n",
    "\n",
    "# Segments\n",
    "{py:func}`stimupy.components.angulars.segments`\n",
    "\n",
    "```{pyodide}\n",
    ":skip-embed:\n",
    "\n",
    "import param\n",
    "\n",
    "class SegmentsParams(param.Parameterized):\n",
    "    # Image size parameters\n",
    "    height = param.Integer(default=10, bounds=(1, 20), doc=\"Height in degrees\")\n",
    "    width = param.Integer(default=10, bounds=(1, 20), doc=\"Width in degrees\")\n",
    "    ppd = param.Integer(default=20, bounds=(1, 40), doc=\"Pixels per degree\")\n",
    "    rotation = param.Integer(default=0, bounds=(0, 360), doc=\"Rotation in degrees\")\n",
    "    \n",
    "    # Segment angles\n",
    "    angle1 = param.Integer(default=45, bounds=(1, 90), doc=\"Angle 1 in degrees\")\n",
    "    angle2 = param.Integer(default=90, bounds=(1, 180), doc=\"Angle 2 in degrees\")\n",
    "    angle3 = param.Integer(default=135, bounds=(1, 360), doc=\"Angle 3 in degrees\")\n",
    "    \n",
    "    # Intensity parameters\n",
    "    intensity1 = param.Number(default=0.2, bounds=(0, 1), step=0.01, doc=\"Intensity 1\")\n",
    "    intensity2 = param.Number(default=0.5, bounds=(0, 1), step=0.01, doc=\"Intensity 2\")\n",
    "    intensity3 = param.Number(default=0.8, bounds=(0, 1), step=0.01, doc=\"Intensity 3\")\n",
    "    intensity_background = param.Number(default=0.0, bounds=(0, 1), step=0.01, doc=\"Background intensity\")\n",
    "    \n",
    "    # Additional parameters\n",
    "    origin = param.Selector(default=\"mean\", objects=[\"mean\", \"corner\", \"center\"], doc=\"Origin\")\n",
    "    add_mask = param.Boolean(default=False, doc=\"Add mask to visualization\")\n",
    "\n",
    "    def get_stimulus_params(self):\n",
    "        return {\n",
    "            \"visual_size\": (self.height, self.width),\n",
    "            \"ppd\": self.ppd,\n",
    "            \"angles\": (self.angle1, self.angle2, self.angle3),\n",
    "            \"rotation\": self.rotation,\n",
    "            \"intensity_segments\": (self.intensity1, self.intensity2, self.intensity3),\n",
    "            \"intensity_background\": self.intensity_background,\n",
    "            \"origin\": self.origin,\n",
    "        }\n",
    "```\n",
    "\n",
    "```{pyodide}\n",
    ":skip-embed:\n",
    "\n",
    "from stimupy.components.angulars import segments\n",
    "from stimupy._docs.display_stimulus import InteractiveStimDisplay\n",
    "\n",
    "# Create and display the interactive segments\n",
    "segments_params = SegmentsParams()\n",
    "disp = InteractiveStimDisplay(segments, segments_params)\n",
    "disp.layout\n",
    "```"
   ]
  }
 ],
 "metadata": {
  "jupytext": {
   "formats": "md:myst",
   "text_representation": {
    "extension": ".md",
    "format_name": "myst",
    "format_version": 0.13,
    "jupytext_version": "1.14.5"
   }
  },
  "kernelspec": {
   "display_name": "Python 3 (ipykernel)",
   "language": "python",
   "name": "python3"
  },
  "language_info": {
   "codemirror_mode": {
    "name": "ipython",
    "version": 3
   },
   "file_extension": ".py",
   "mimetype": "text/x-python",
   "name": "python",
   "nbconvert_exporter": "python",
   "pygments_lexer": "ipython3",
   "version": "3.13.7"
  },
  "source_map": [
   13
  ]
 },
 "nbformat": 4,
 "nbformat_minor": 5
}