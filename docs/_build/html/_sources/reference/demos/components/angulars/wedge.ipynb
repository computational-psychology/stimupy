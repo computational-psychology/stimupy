{
 "cells": [
  {
   "cell_type": "markdown",
   "id": "d80d92ff",
   "metadata": {},
   "source": [
    "```{attention}\n",
    "To run locally, the code for these interactive demos requires\n",
    "a [Jupyter Notebook](https://jupyter.org/) environment,\n",
    "and the [Panel extension](https://panel.holoviz.org/).\n",
    "```\n",
    "\n",
    "# Wedge\n",
    "{py:func}`stimupy.components.angulars.wedge`\n",
    "\n",
    "```{pyodide}\n",
    ":skip-embed:\n",
    "\n",
    "import param\n",
    "\n",
    "class WedgeParams(param.Parameterized):\n",
    "    # Image size parameters\n",
    "    height = param.Integer(default=10, bounds=(1, 20), doc=\"Height in degrees\")\n",
    "    width = param.Integer(default=10, bounds=(1, 20), doc=\"Width in degrees\")\n",
    "    ppd = param.Integer(default=20, bounds=(1, 40), doc=\"Pixels per degree\")\n",
    "    rotation = param.Integer(default=0, bounds=(0, 360), doc=\"Rotation in degrees\")\n",
    "    \n",
    "    # Wedge geometry parameters\n",
    "    angle = param.Integer(default=45, bounds=(1, 90), doc=\"Wedge angle in degrees\")\n",
    "    radius = param.Number(default=3, bounds=(1, 6), step=0.1, doc=\"Outer radius in degrees\")\n",
    "    inner_radius = param.Number(default=0, bounds=(0, 3), step=0.1, doc=\"Inner radius in degrees\")\n",
    "    \n",
    "    # Intensity parameters\n",
    "    intensity_wedge = param.Number(default=0.5, bounds=(0, 1), step=0.01, doc=\"Wedge intensity\")\n",
    "    intensity_background = param.Number(default=0.0, bounds=(0, 1), step=0.01, doc=\"Background intensity\")\n",
    "    \n",
    "    # Additional parameters\n",
    "    origin = param.Selector(default=\"mean\", objects=[\"mean\", \"corner\", \"center\"], doc=\"Origin\")\n",
    "    add_mask = param.Boolean(default=False, doc=\"Add mask to visualization\")\n",
    "\n",
    "    def get_stimulus_params(self):\n",
    "        return {\n",
    "            \"visual_size\": (self.height, self.width),\n",
    "            \"ppd\": self.ppd,\n",
    "            \"angle\": self.angle,\n",
    "            \"radius\": self.radius,\n",
    "            \"rotation\": self.rotation,\n",
    "            \"inner_radius\": self.inner_radius,\n",
    "            \"intensity_wedge\": self.intensity_wedge,\n",
    "            \"intensity_background\": self.intensity_background,\n",
    "            \"origin\": self.origin,\n",
    "        }\n",
    "```\n",
    "\n",
    "```{pyodide}\n",
    ":skip-embed:\n",
    "\n",
    "from stimupy.components.angulars import wedge\n",
    "from display_stimulus import InteractiveStimDisplay\n",
    "\n",
    "# Create and display the interactive wedge\n",
    "wedge_params = WedgeParams()\n",
    "disp = InteractiveStimDisplay(wedge, wedge_params)\n",
    "disp.layout\n",
    "```"
   ]
  }
 ],
 "metadata": {
  "jupytext": {
   "formats": "md:myst",
   "text_representation": {
    "extension": ".md",
    "format_name": "myst",
    "format_version": 0.13,
    "jupytext_version": "1.14.5"
   }
  },
  "kernelspec": {
   "display_name": "Python 3 (ipykernel)",
   "language": "python",
   "name": "python3"
  },
  "language_info": {
   "codemirror_mode": {
    "name": "ipython",
    "version": 3
   },
   "file_extension": ".py",
   "mimetype": "text/x-python",
   "name": "python",
   "nbconvert_exporter": "python",
   "pygments_lexer": "ipython3",
   "version": "3.13.7"
  },
  "source_map": [
   13
  ]
 },
 "nbformat": 4,
 "nbformat_minor": 5
}