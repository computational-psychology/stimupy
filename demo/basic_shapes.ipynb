{
 "cells": [
  {
   "cell_type": "markdown",
   "metadata": {},
   "source": [
    "# Basic shapes"
   ]
  },
  {
   "cell_type": "code",
   "execution_count": null,
   "metadata": {},
   "outputs": [],
   "source": [
    "import IPython\n",
    "import ipywidgets as iw\n",
    "from stimuli.utils import plot_stim"
   ]
  },
  {
   "cell_type": "markdown",
   "metadata": {},
   "source": [
    "## Rectangle"
   ]
  },
  {
   "cell_type": "code",
   "execution_count": null,
   "metadata": {},
   "outputs": [],
   "source": [
    "from stimuli.components.shapes import rectangle\n",
    "help(rectangle)\n",
    "\n",
    "# Define widgets\n",
    "w_height = iw.IntSlider(value=4, min=1, max=10, description=\"height [deg]\")\n",
    "w_width = iw.IntSlider(value=4, min=1, max=10, description=\"width [deg]\")\n",
    "w_ppd = iw.IntSlider(value=32, min=1, max=64, description=\"ppd\")\n",
    "\n",
    "w_rect_height = iw.IntSlider(value=2, min=1, max=10, description=\"height [deg]\")\n",
    "w_rect_width = iw.IntSlider(value=2, min=1, max=10, description=\"width [deg]\")\n",
    "\n",
    "w_rect_posx = iw.FloatSlider(value=0.0, min=-5.0, max=5.0, description=\"horz. position\")\n",
    "w_rect_posy = iw.FloatSlider(value=0.0, min=-5.0, max=5.0, description=\"vert. position\")\n",
    "\n",
    "w_intensities = iw.FloatRangeSlider(value=[0.0, 1.0], min=0.0, max=1.0, step=0.1, description=\"intensities\")\n",
    "\n",
    "# Layout\n",
    "b_im_size = iw.HBox([w_height, w_width, w_ppd])\n",
    "b_rect_size = iw.HBox([w_rect_height, w_rect_width])\n",
    "b_post = iw.HBox([w_rect_posx, w_rect_posy])\n",
    "b_intensities = iw.HBox([w_intensities])\n",
    "ui = iw.VBox([b_im_size, b_rect_size, b_post, b_intensities])\n",
    "\n",
    "# Function for showing stim\n",
    "def show_rect(\n",
    "    height=None,\n",
    "    width=None,\n",
    "    ppd=None,\n",
    "    rect_height=None,\n",
    "    rect_width=None,\n",
    "    pos_x=0.0,\n",
    "    pos_y=0.0,\n",
    "    orientation='horizontal',\n",
    "    intensities=(0.0, 1.0)\n",
    "):\n",
    "    stim = rectangle(\n",
    "        visual_size=(height, width),\n",
    "        ppd=ppd,\n",
    "        rectangle_size=(rect_height, rect_width),\n",
    "        rectangle_position=(pos_y, pos_x),\n",
    "        intensity_rectangle=intensities[1],\n",
    "        intensity_background=intensities[0]\n",
    "    )\n",
    "    plot_stim(stim, mask=False)\n",
    "\n",
    "# Set interactivity\n",
    "out = iw.interactive_output(\n",
    "    show_rect,\n",
    "    {\n",
    "        \"height\": w_height,\n",
    "        \"width\": w_width,\n",
    "        \"ppd\": w_ppd,\n",
    "        \"rect_height\": w_rect_height,\n",
    "        \"rect_width\": w_rect_width,\n",
    "        \"pos_x\": w_rect_posx,\n",
    "        \"pos_y\": w_rect_posy,\n",
    "        \"intensities\": w_intensities,\n",
    "    },\n",
    ")\n",
    "\n",
    "# Show\n",
    "display(ui, out)"
   ]
  },
  {
   "attachments": {},
   "cell_type": "markdown",
   "metadata": {},
   "source": [
    "## Triangle"
   ]
  },
  {
   "cell_type": "code",
   "execution_count": null,
   "metadata": {},
   "outputs": [],
   "source": [
    "from stimuli.components.shapes import triangle\n",
    "help(triangle)\n",
    "\n",
    "# Define widgets\n",
    "w_height = iw.IntSlider(value=4, min=1, max=10, description=\"height [deg]\")\n",
    "w_width = iw.IntSlider(value=4, min=1, max=10, description=\"width [deg]\")\n",
    "w_ppd = iw.IntSlider(value=32, min=1, max=64, description=\"ppd\")\n",
    "\n",
    "w_intensities = iw.FloatRangeSlider(value=[0.0, 1.0], min=0.0, max=1.0, step=0.1, description=\"intensities\")\n",
    "\n",
    "# Layout\n",
    "b_im_size = iw.HBox([w_height, w_width, w_ppd])\n",
    "b_intensities = iw.HBox([w_intensities])\n",
    "ui = iw.VBox([b_im_size, b_intensities])\n",
    "\n",
    "# Function for showing stim\n",
    "def show_triangle(\n",
    "    height=None,\n",
    "    width=None,\n",
    "    ppd=None,\n",
    "    intensities=(0.0, 1.0)\n",
    "):\n",
    "    stim = triangle(\n",
    "        visual_size=(height, width),\n",
    "        ppd=ppd,\n",
    "        intensity_triangle=intensities[1],\n",
    "        intensity_background=intensities[0]\n",
    "    )\n",
    "    plot_stim(stim, mask=False)\n",
    "\n",
    "# Set interactivity\n",
    "out = iw.interactive_output(\n",
    "    show_triangle,\n",
    "    {\n",
    "        \"height\": w_height,\n",
    "        \"width\": w_width,\n",
    "        \"ppd\": w_ppd,\n",
    "        \"intensities\": w_intensities,\n",
    "    },\n",
    ")\n",
    "\n",
    "# Show\n",
    "display(ui, out)"
   ]
  }
 ],
 "metadata": {
  "kernelspec": {
   "display_name": "Python 3.10.5 64-bit ('stimuli-dev')",
   "language": "python",
   "name": "python3"
  },
  "language_info": {
   "codemirror_mode": {
    "name": "ipython",
    "version": 3
   },
   "file_extension": ".py",
   "mimetype": "text/x-python",
   "name": "python",
   "nbconvert_exporter": "python",
   "pygments_lexer": "ipython3",
   "version": "3.10.5"
  },
  "orig_nbformat": 4,
  "vscode": {
   "interpreter": {
    "hash": "d79f930315d22092267204fc095ece7b80c939bb23fde6f7397d8c6352112825"
   }
  }
 },
 "nbformat": 4,
 "nbformat_minor": 2
}
