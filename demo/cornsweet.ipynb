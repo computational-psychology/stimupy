{
 "cells": [
  {
   "cell_type": "code",
   "execution_count": null,
   "metadata": {},
   "outputs": [],
   "source": [
    "import itertools\n",
    "import pandas as pd\n",
    "import matplotlib.pyplot as plt\n",
    "import numpy as np\n",
    "\n",
    "import IPython\n",
    "import ipywidgets as iw\n",
    "from stimuli.utils import plot_stimuli, plot_stim"
   ]
  },
  {
   "cell_type": "markdown",
   "metadata": {},
   "source": [
    "# cornsweet"
   ]
  },
  {
   "cell_type": "code",
   "execution_count": null,
   "metadata": {},
   "outputs": [],
   "source": [
    "from stimuli.illusions.cornsweet import cornsweet"
   ]
  },
  {
   "cell_type": "markdown",
   "metadata": {},
   "source": [
    "## Parameterization"
   ]
  },
  {
   "cell_type": "code",
   "execution_count": null,
   "metadata": {},
   "outputs": [],
   "source": [
    "params = {\n",
    "    \"visual_size\": (10., 10.),\n",
    "    \"ppd\": 10.0,\n",
    "    \"intensity_max\": 1.,\n",
    "    \"intensity_min\": 0.,\n",
    "    \"intensity_plateau\": 0.5,\n",
    "    \"ramp_width\": 3,\n",
    "    \"exponent\": 2.75,\n",
    "}\n",
    "\n",
    "stim = cornsweet(**params)\n",
    "plot_stim(stim)\n",
    "plt.show()"
   ]
  },
  {
   "cell_type": "markdown",
   "metadata": {},
   "source": [
    "## Interactive"
   ]
  },
  {
   "cell_type": "code",
   "execution_count": null,
   "metadata": {},
   "outputs": [],
   "source": [
    "# Define widgets\n",
    "w_height = iw.IntSlider(value=10, min=10, max=30, description=\"height [deg]\")\n",
    "w_width = iw.IntSlider(value=10, min=10, max=30, description=\"width [deg]\")\n",
    "w_ppd = iw.IntSlider(value=40, min=1, max=64, description=\"ppd\")\n",
    "w_size = iw.HBox([w_height, w_width, w_ppd])\n",
    "w_rwidth = iw.FloatSlider(value=5., min=0.1, max=10.0, description=\"ramp width\")\n",
    "w_exp = iw.FloatSlider(value=2.75, min=0.5, max=5.0, description=\"ramp exponent\")\n",
    "w_ramp = iw.HBox([w_rwidth, w_exp])\n",
    "w_imax = iw.FloatSlider(value=1.0, min=0., max=1.0, description=\"max intensity\")\n",
    "w_imin = iw.FloatSlider(value=0.0, min=0., max=1.0, description=\"min intensity\")\n",
    "w_iplateau = iw.FloatSlider(value=0.5, min=0., max=1.0, description=\"intensity plateau\")\n",
    "w_intensities = iw.HBox([w_imin, w_imax, w_iplateau])\n",
    "\n",
    "ui = iw.VBox([w_size, w_ramp, w_intensities])\n",
    "\n",
    "def show_cornsweet(\n",
    "    height=None,\n",
    "    width=None,\n",
    "    ppd=None,\n",
    "    intensity_min=None,\n",
    "    intensity_max=None,\n",
    "    intensity_plateau=None,\n",
    "    ramp_width=None,\n",
    "    exponent=None,\n",
    "):\n",
    "\n",
    "    stim = cornsweet(\n",
    "        visual_size=(height, width),\n",
    "        ppd=ppd,\n",
    "        intensity_min=intensity_min,\n",
    "        intensity_max=intensity_max,\n",
    "        intensity_plateau=intensity_plateau,\n",
    "        ramp_width=ramp_width,\n",
    "        exponent=exponent\n",
    "    )\n",
    "    plot_stim(stim)\n",
    "\n",
    "\n",
    "out = iw.interactive_output(show_cornsweet,\n",
    "                            {\n",
    "                                \"height\": w_height,\n",
    "                                \"width\": w_width,\n",
    "                                \"ppd\": w_ppd,\n",
    "                                \"intensity_min\": w_imin,\n",
    "                                \"intensity_max\": w_imax,\n",
    "                                \"intensity_plateau\": w_iplateau,\n",
    "                                \"ramp_width\": w_rwidth,\n",
    "                                \"exponent\": w_exp,\n",
    "                            })\n",
    "\n",
    "display(ui, out)\n"
   ]
  }
 ],
 "metadata": {
  "kernelspec": {
   "display_name": "Python 3 (ipykernel)",
   "language": "python",
   "name": "python3"
  },
  "language_info": {
   "codemirror_mode": {
    "name": "ipython",
    "version": 3
   },
   "file_extension": ".py",
   "mimetype": "text/x-python",
   "name": "python",
   "nbconvert_exporter": "python",
   "pygments_lexer": "ipython3",
   "version": "3.7.13"
  },
  "toc": {
   "base_numbering": 1,
   "nav_menu": {},
   "number_sections": true,
   "sideBar": true,
   "skip_h1_title": false,
   "title_cell": "Table of Contents",
   "title_sidebar": "Contents",
   "toc_cell": false,
   "toc_position": {},
   "toc_section_display": true,
   "toc_window_display": false
  },
  "vscode": {
   "interpreter": {
    "hash": "d79f930315d22092267204fc095ece7b80c939bb23fde6f7397d8c6352112825"
   }
  }
 },
 "nbformat": 4,
 "nbformat_minor": 2
}
