{
    "cells": [
        {
            "cell_type": "code",
            "execution_count": null,
            "metadata": {},
            "outputs": [],
            "source": [
                "import itertools\n",
                "import pandas as pd\n",
                "import matplotlib.pyplot as plt\n",
                "import numpy as np\n",
                "\n",
                "import IPython\n",
                "import ipywidgets as iw\n",
                "from stimupy.utils import plot_stimuli, plot_stim"
            ]
        },
        {
            "cell_type": "markdown",
            "metadata": {},
            "source": [
                "# 1 / f**exponent noise"
            ]
        },
        {
            "cell_type": "code",
            "execution_count": null,
            "metadata": {},
            "outputs": [],
            "source": [
                "from stimupy.noises.one_over_frequency import one_over_f"
            ]
        },
        {
            "cell_type": "markdown",
            "metadata": {},
            "source": [
                "## Parameterization"
            ]
        },
        {
            "cell_type": "code",
            "execution_count": null,
            "metadata": {},
            "outputs": [],
            "source": [
                "params = {\n",
                "    \"visual_size\": (10, 10),\n",
                "    \"ppd\": 40.,\n",
                "    \"exponent\": 1.5,\n",
                "    \"rms_contrast\": 0.2,\n",
                "    \"pseudo_noise\": True,\n",
                "}\n",
                "\n",
                "stim = one_over_f(**params)\n",
                "plot_stim(stim, vmin=stim[\"intensity_range\"][0], vmax=stim[\"intensity_range\"][1])\n",
                "plt.show()"
            ]
        },
        {
            "cell_type": "markdown",
            "metadata": {},
            "source": [
                "## Interactive"
            ]
        },
        {
            "cell_type": "code",
            "execution_count": null,
            "metadata": {},
            "outputs": [],
            "source": [
                "# Define widgets\n",
                "w_height = iw.IntSlider(value=15, min=5, max=25, description=\"height [deg]\")\n",
                "w_width = iw.IntSlider(value=15, min=5, max=25, description=\"width [deg]\")\n",
                "w_ppd = iw.IntSlider(value=40, min=20, max=60, step=2, description=\"ppd\")\n",
                "w_size = iw.HBox([w_height, w_width, w_ppd])\n",
                "\n",
                "w_exp = iw.FloatSlider(value=1.5, min=0.5, max=3.0, description=\"exponent\")\n",
                "w_rms = iw.FloatSlider(value=0.5, min=0.1, max=1.0, description=\"rms contrast (std)\")\n",
                "w_other = iw.HBox([w_exp, w_rms])\n",
                "\n",
                "ui = iw.VBox([w_size, w_other])\n",
                "\n",
                "def show_noise(\n",
                "    height=None,\n",
                "    width=None,\n",
                "    ppd=None,\n",
                "    exponent=None,\n",
                "    rms_contrast=None,\n",
                "):\n",
                "\n",
                "    stim = one_over_f(\n",
                "        visual_size=(height, width),\n",
                "        ppd=ppd,\n",
                "        exponent=exponent,\n",
                "        rms_contrast=rms_contrast\n",
                "    )\n",
                "    plot_stim(stim, vmin=-3, vmax=3)\n",
                "\n",
                "\n",
                "out = iw.interactive_output(show_noise,\n",
                "                            {\n",
                "                                \"height\": w_height,\n",
                "                                \"width\": w_width,\n",
                "                                \"ppd\": w_ppd,\n",
                "                                \"exponent\": w_exp,\n",
                "                                \"rms_contrast\": w_rms,\n",
                "                            })\n",
                "\n",
                "display(ui, out)\n"
            ]
        },
        {
            "cell_type": "markdown",
            "metadata": {},
            "source": [
                "## Random noise vs pseudo-random noise"
            ]
        },
        {
            "cell_type": "code",
            "execution_count": null,
            "metadata": {},
            "outputs": [],
            "source": [
                "def show_randomness(stim):\n",
                "    # Get amplitude spectrum\n",
                "    noise_amplitude = np.abs(np.fft.fftshift(np.fft.fft2(stim[\"img\"])))\n",
                "    fs = np.fft.fftshift(np.fft.fftfreq(stim[\"shape\"][0], d=1./stim[\"ppd\"]))\n",
                "\n",
                "    # Plotting:\n",
                "    plt.figure(figsize=(18, 4))\n",
                "    plt.subplot(1, 2, 1), plt.imshow(noise_amplitude, extent=[fs[0], fs[-1],]*2)\n",
                "    plt.colorbar(), plt.title('Noise spectrum'), plt.xlabel('cpd')\n",
                "\n",
                "    plt.subplot(1, 2, 2)\n",
                "    plt.plot(fs, noise_amplitude[int(noise_amplitude.shape[0]/2.), :])\n",
                "    plt.title('Cut through'), plt.xlabel('cpd')\n",
                "    plt.show()"
            ]
        },
        {
            "cell_type": "code",
            "execution_count": null,
            "metadata": {},
            "outputs": [],
            "source": [
                "stim1 = one_over_f(visual_size=(10, 10), ppd=40, exponent=0.5, pseudo_noise=True)\n",
                "stim2 = one_over_f(visual_size=(10, 10), ppd=40, exponent=0.5, pseudo_noise=False)\n",
                "show_randomness(stim1)\n",
                "show_randomness(stim2)"
            ]
        },
        {
            "cell_type": "markdown",
            "metadata": {},
            "source": [
                "# pink noise\n",
                "\n",
                "Also: `1 / f` noise"
            ]
        },
        {
            "cell_type": "code",
            "execution_count": null,
            "metadata": {},
            "outputs": [],
            "source": [
                "from stimupy.noises.one_over_frequency import pink"
            ]
        },
        {
            "cell_type": "markdown",
            "metadata": {},
            "source": [
                "## Parameterization"
            ]
        },
        {
            "cell_type": "code",
            "execution_count": null,
            "metadata": {},
            "outputs": [],
            "source": [
                "params = {\n",
                "    \"visual_size\": (10, 10),\n",
                "    \"ppd\": 40.,\n",
                "    \"rms_contrast\": 0.2,\n",
                "    \"pseudo_noise\": True,\n",
                "}\n",
                "\n",
                "stim = pink(**params)\n",
                "plot_stim(stim, vmin=stim[\"intensity_range\"][0], vmax=stim[\"intensity_range\"][1])\n",
                "plt.show()"
            ]
        },
        {
            "cell_type": "markdown",
            "metadata": {},
            "source": [
                "# brown noise\n",
                "\n",
                "Also: `1 / f**2` noise"
            ]
        },
        {
            "cell_type": "code",
            "execution_count": null,
            "metadata": {},
            "outputs": [],
            "source": [
                "from stimupy.noises.one_over_frequency import brown"
            ]
        },
        {
            "cell_type": "markdown",
            "metadata": {},
            "source": [
                "## Parameterization"
            ]
        },
        {
            "cell_type": "code",
            "execution_count": null,
            "metadata": {},
            "outputs": [],
            "source": [
                "params = {\n",
                "    \"visual_size\": (10, 10),\n",
                "    \"ppd\": 40.,\n",
                "    \"rms_contrast\": 0.2,\n",
                "    \"pseudo_noise\": True,\n",
                "}\n",
                "\n",
                "stim = brown(**params)\n",
                "plot_stim(stim, vmin=stim[\"intensity_range\"][0], vmax=stim[\"intensity_range\"][1])\n",
                "plt.show()"
            ]
        }
    ],
    "metadata": {
        "kernelspec": {
            "display_name": "Python 3 (ipykernel)",
            "language": "python",
            "name": "python3"
        },
        "language_info": {
            "codemirror_mode": {
                "name": "ipython",
                "version": 3
            },
            "file_extension": ".py",
            "mimetype": "text/x-python",
            "name": "python",
            "nbconvert_exporter": "python",
            "pygments_lexer": "ipython3",
            "version": "3.10.6"
        },
        "toc": {
            "base_numbering": 1,
            "nav_menu": {},
            "number_sections": true,
            "sideBar": true,
            "skip_h1_title": false,
            "title_cell": "Table of Contents",
            "title_sidebar": "Contents",
            "toc_cell": false,
            "toc_position": {},
            "toc_section_display": true,
            "toc_window_display": false
        },
        "varInspector": {
            "cols": {
                "lenName": 16,
                "lenType": 16,
                "lenVar": 40
            },
            "kernels_config": {
                "python": {
                    "delete_cmd_postfix": "",
                    "delete_cmd_prefix": "del ",
                    "library": "var_list.py",
                    "varRefreshCmd": "print(var_dic_list())"
                },
                "r": {
                    "delete_cmd_postfix": ") ",
                    "delete_cmd_prefix": "rm(",
                    "library": "var_list.r",
                    "varRefreshCmd": "cat(var_dic_list()) "
                }
            },
            "types_to_exclude": [
                "module",
                "function",
                "builtin_function_or_method",
                "instance",
                "_Feature"
            ],
            "window_display": false
        },
        "vscode": {
            "interpreter": {
                "hash": "d79f930315d22092267204fc095ece7b80c939bb23fde6f7397d8c6352112825"
            }
        }
    },
    "nbformat": 4,
    "nbformat_minor": 2
}