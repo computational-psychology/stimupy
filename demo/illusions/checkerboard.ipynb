{
 "cells": [
  {
   "cell_type": "code",
   "execution_count": null,
   "metadata": {},
   "outputs": [],
   "source": [
    "import itertools\n",
    "import pandas as pd\n",
    "import matplotlib.pyplot as plt\n",
    "\n",
    "import IPython\n",
    "import ipywidgets as widgets\n",
    "from stimuli.illusions.checkerboards import checkerboard\n",
    "from stimuli.utils import plot_stimuli, plot_stim\n"
   ]
  },
  {
   "cell_type": "markdown",
   "metadata": {},
   "source": [
    "## Parameterization of a checkerboard stimulus"
   ]
  },
  {
   "cell_type": "code",
   "execution_count": null,
   "metadata": {},
   "outputs": [],
   "source": [
    "params = {\n",
    "    \"shape\": None,\n",
    "    \"ppd\": 32,\n",
    "    \"visual_size\": None,\n",
    "    \"board_shape\": (5, 8),\n",
    "    \"check_visual_size\": 2.0,\n",
    "    \"targets\": ((2, 1), (2, 6)),\n",
    "    \"extend_targets\": False,\n",
    "    \"intensity_low\": 0.0,\n",
    "    \"intensity_high\": 1.0,\n",
    "    \"intensity_target\": 0.5,\n",
    "}\n",
    "stim = checkerboard(**params)\n",
    "plot_stim(stim)\n",
    "plt.show()\n"
   ]
  },
  {
   "cell_type": "markdown",
   "metadata": {},
   "source": [
    "## Interactive"
   ]
  },
  {
   "cell_type": "code",
   "execution_count": null,
   "metadata": {},
   "outputs": [],
   "source": [
    "# Define widgets\n",
    "w_ppd = widgets.FloatSlider(value=10, min=1, max=32, step=0.5, description=\"PPD\")\n",
    "w_intensities = widgets.FloatRangeSlider(\n",
    "    value=[0.0, 1.0], min=0.0, max=1.0, step=0.1, description=\"Intensity range\"\n",
    ")\n",
    "w_board_height = widgets.IntSlider(value=3, min=1, max=10, description=\"height board\")\n",
    "w_board_width = widgets.IntSlider(value=3, min=1, max=10, description=\"width board\")\n",
    "w_board_shape = widgets.HBox([w_board_height, w_board_width])\n",
    "w_check_height = widgets.FloatSlider(\n",
    "    value=2.0, min=0.25, max=4.0, step=0.25, description=\"height check\"\n",
    ")\n",
    "w_check_width = widgets.FloatSlider(\n",
    "    value=2.0, min=0.25, max=4.0, step=0.25, description=\"width check\"\n",
    ")\n",
    "w_check_size = widgets.HBox([w_check_height, w_check_width])\n",
    "w_target_int = widgets.FloatSlider(\n",
    "    value=0.5, min=0.0, max=1.0, step=0.1, description=\"target intensity\"\n",
    ")\n",
    "w_target_row = widgets.IntSlider(\n",
    "    value=0, min=0, max=w_board_width.value, description=\"targets row\"\n",
    ")\n",
    "w_target_col1 = widgets.IntSlider(\n",
    "    value=0, min=0, max=w_board_width.value, description=\"target 1 column\"\n",
    ")\n",
    "w_target_col2 = widgets.IntSlider(\n",
    "    value=0, min=0, max=w_board_width.value, description=\"target 2 column\"\n",
    ")\n",
    "w_targets = widgets.HBox([w_target_row, w_target_col1, w_target_col2])\n",
    "\n",
    "ui = widgets.VBox([w_board_shape, w_check_size, w_ppd, w_intensities, w_target_int, w_targets])\n",
    "\n",
    "\n",
    "def update_board(*args):\n",
    "    w_target_col1.max = w_board_width.value - 1\n",
    "    w_target_col2.max = w_board_width.value - 1\n",
    "\n",
    "\n",
    "w_board_width.observe(update_board, \"value\")\n",
    "\n",
    "\n",
    "def show_checkerboard(\n",
    "    shape=None,\n",
    "    ppd=None,\n",
    "    visual_size=None,\n",
    "    board_height=None,\n",
    "    board_width=None,\n",
    "    check_height=None,\n",
    "    check_width=None,\n",
    "    target_row=None,\n",
    "    target1_col=None,\n",
    "    target2_col=None,\n",
    "    extend_targets=False,\n",
    "    intensity_range=(0.0, 1.0),\n",
    "    intensity_target=0.5,\n",
    "):\n",
    "    board_shape = (board_height, board_width)\n",
    "    check_visual_size = (check_height, check_width)\n",
    "    intensity_high = intensity_range[0]\n",
    "    intensity_low = intensity_range[1]\n",
    "    targets = [(target_row, target1_col), (target_row, target2_col)]\n",
    "    stim = checkerboard(\n",
    "        shape,\n",
    "        ppd,\n",
    "        visual_size,\n",
    "        board_shape,\n",
    "        check_visual_size,\n",
    "        targets,\n",
    "        extend_targets,\n",
    "        intensity_low,\n",
    "        intensity_high,\n",
    "        intensity_target,\n",
    "    )\n",
    "    plot_stim(stim)\n",
    "\n",
    "\n",
    "out = widgets.interactive_output(\n",
    "    show_checkerboard,\n",
    "    {\n",
    "        \"ppd\": w_ppd,\n",
    "        \"board_height\": w_board_height,\n",
    "        \"board_width\": w_board_width,\n",
    "        \"check_height\": w_check_height,\n",
    "        \"check_width\": w_check_width,\n",
    "        \"target_row\": w_target_row,\n",
    "        \"target1_col\": w_target_col1,\n",
    "        \"target2_col\": w_target_col2,\n",
    "        \"intensity_range\": w_intensities,\n",
    "        \"intensity_target\": w_target_int,\n",
    "    },\n",
    ")\n",
    "\n",
    "display(ui, out)\n"
   ]
  },
  {
   "cell_type": "markdown",
   "metadata": {},
   "source": [
    "## Generate set of parameterizations"
   ]
  },
  {
   "cell_type": "code",
   "execution_count": null,
   "metadata": {},
   "outputs": [],
   "source": [
    "# Define a _list_ of options for each parameter.\n",
    "# Note that if the parameter is already a sequence (e.g., board_shape=(3,7))\n",
    "# it now becomes a _list_ of sequences (e.g., [ (3,7), (3,10)] )\n",
    "param_lists = {\n",
    "    # \"shape\": [None],\n",
    "    \"ppd\": [32],\n",
    "    # \"visual_size\": [None],\n",
    "    \"board_shape\": [(3, 10), (3, 7), (5, 10), (7, 7)],\n",
    "    \"check_visual_size\": [2.0, 4.0],\n",
    "    \"targets\": [((1, 1), (1, 4)), ((1, 1), (1, 6)), ((1, 1), (1, 8))],\n",
    "    # \"extend_targets\": [False],\n",
    "    # \"intensity_low\": [0.0],\n",
    "    # \"intensity_high\": [1.0],\n",
    "    \"intensity_target\": [0.25, 0.5, 0.75],\n",
    "}\n"
   ]
  },
  {
   "cell_type": "code",
   "execution_count": null,
   "metadata": {},
   "outputs": [],
   "source": [
    "# Generator for each dictionary that is a unique combination\n",
    "# of all the parameter options\n",
    "def product_dict(**kwargs):\n",
    "    keys = kwargs.keys()\n",
    "    vals = kwargs.values()\n",
    "    for instance in itertools.product(*vals):\n",
    "        yield dict(zip(keys, instance))\n"
   ]
  },
  {
   "cell_type": "code",
   "execution_count": null,
   "metadata": {},
   "outputs": [],
   "source": [
    "params = list(product_dict(**param_lists))\n",
    "params[3]\n"
   ]
  },
  {
   "cell_type": "code",
   "execution_count": null,
   "metadata": {},
   "outputs": [],
   "source": [
    "IPython.display.display(pd.DataFrame(params))\n"
   ]
  },
  {
   "cell_type": "code",
   "execution_count": null,
   "metadata": {},
   "outputs": [],
   "source": [
    "template_name = \"checkerboard_{check_visual_size}_{board_shape}_{targets}_{intensity_target}\"\n"
   ]
  },
  {
   "cell_type": "code",
   "execution_count": null,
   "metadata": {},
   "outputs": [],
   "source": [
    "stims = {}\n",
    "for d in params:\n",
    "    try:\n",
    "        stims[template_name.format(**d)] = checkerboard(**d)\n",
    "    except ValueError:\n",
    "        next\n"
   ]
  },
  {
   "cell_type": "code",
   "execution_count": null,
   "metadata": {},
   "outputs": [],
   "source": [
    "plot_stimuli(stims)\n"
   ]
  }
 ],
 "metadata": {
  "kernelspec": {
   "display_name": "Python 3.10.5 64-bit ('stimuli-dev')",
   "language": "python",
   "name": "python3"
  },
  "language_info": {
   "codemirror_mode": {
    "name": "ipython",
    "version": 3
   },
   "file_extension": ".py",
   "mimetype": "text/x-python",
   "name": "python",
   "nbconvert_exporter": "python",
   "pygments_lexer": "ipython3",
   "version": "3.10.5"
  },
  "orig_nbformat": 4,
  "vscode": {
   "interpreter": {
    "hash": "d79f930315d22092267204fc095ece7b80c939bb23fde6f7397d8c6352112825"
   }
  }
 },
 "nbformat": 4,
 "nbformat_minor": 2
}
