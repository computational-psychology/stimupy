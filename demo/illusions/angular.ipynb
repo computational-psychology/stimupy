{
 "cells": [
  {
   "cell_type": "markdown",
   "metadata": {},
   "source": [
    "# Radial components & illusions: wedges, wheel-of-fortune/pin-wheel"
   ]
  },
  {
   "cell_type": "code",
   "execution_count": null,
   "metadata": {},
   "outputs": [],
   "source": [
    "import matplotlib.pyplot as plt\n",
    "import numpy as np\n",
    "\n",
    "import IPython\n",
    "import ipywidgets as iw\n",
    "\n",
    "from stimuli.utils import plot_stim\n"
   ]
  },
  {
   "cell_type": "markdown",
   "metadata": {},
   "source": [
    "# angles"
   ]
  },
  {
   "cell_type": "code",
   "execution_count": null,
   "metadata": {},
   "outputs": [],
   "source": [
    "from stimuli.components.angular import img_angles\n",
    "\n",
    "angles = img_angles(visual_size=(8,8),ppd=32)\n",
    "\n",
    "plt.imshow(angles, cmap=\"coolwarm\")\n",
    "plt.colorbar()\n",
    "plt.show()"
   ]
  },
  {
   "cell_type": "markdown",
   "metadata": {},
   "source": [
    "## wedge"
   ]
  },
  {
   "cell_type": "code",
   "execution_count": null,
   "metadata": {},
   "outputs": [],
   "source": [
    "from stimuli.components.angular import wedge\n",
    "\n",
    "help(wedge)\n",
    "\n",
    "# Define widgets\n",
    "w_length = iw.IntSlider(value=5, min=1, max=10, description=\"heigh/width [deg]\")\n",
    "w_ppd = iw.IntSlider(value=40, min=1, max=64, description=\"ppd\")\n",
    "\n",
    "w_angle = iw.IntSlider(value=45, min=0, max=360, description=\"angle\")\n",
    "w_rot = iw.IntSlider(value=45, min=0, max=360, description=\"rotate\")\n",
    "w_radii = iw.FloatRangeSlider(\n",
    "    value=[1.0, 2.0], min=0.1, max=5.0, step=0.1, description=\"radii (inner,outer)\"\n",
    ")\n",
    "\n",
    "w_idisc = iw.FloatSlider(value=1.0, min=0.0, max=1.0, description=\"intensity disc\")\n",
    "w_iback = iw.FloatSlider(value=0.5, min=0.0, max=1.0, description=\"intensity background\")\n",
    "\n",
    "b_size = iw.HBox([w_length, w_ppd])\n",
    "b_intensities = iw.HBox([w_idisc, w_iback])\n",
    "ui = iw.VBox([b_size, w_angle, w_rot, w_radii, b_intensities])\n",
    "\n",
    "# Function for showing stim\n",
    "def show_wedge(\n",
    "    angle=None,\n",
    "    rotation=None,\n",
    "    length=None,\n",
    "    ppd=None,\n",
    "    radii=None,\n",
    "    intensity_disc=None,\n",
    "    intensity_background=None,\n",
    "):\n",
    "\n",
    "    stim = wedge(\n",
    "        angle=angle,\n",
    "        rotation=rotation,\n",
    "        visual_size=(length, length),\n",
    "        ppd=ppd,\n",
    "        radius=radii[1],\n",
    "        inner_radius=radii[0],\n",
    "        intensity_background=intensity_background,\n",
    "        intensity=intensity_disc,\n",
    "    )\n",
    "    plot_stim(stim)\n",
    "\n",
    "# Set interactivity\n",
    "out = iw.interactive_output(\n",
    "    show_wedge,\n",
    "    {\n",
    "        \"angle\": w_angle,\n",
    "        \"rotation\": w_rot,\n",
    "        \"length\": w_length,\n",
    "        \"ppd\": w_ppd,\n",
    "        \"radii\": w_radii,\n",
    "        \"intensity_background\": w_iback,\n",
    "        \"intensity_disc\": w_idisc,\n",
    "    },\n",
    ")\n",
    "\n",
    "# Show\n",
    "display(ui, out)"
   ]
  },
  {
   "cell_type": "markdown",
   "metadata": {},
   "source": [
    "## angular_segments"
   ]
  },
  {
   "cell_type": "code",
   "execution_count": null,
   "metadata": {},
   "outputs": [],
   "source": [
    "from stimuli.components.angular import angular_segments\n",
    "\n",
    "stim = angular_segments(angles=[45, 90, 100, 200, 260, 325], intensities=[1,0], visual_size=(8,8), ppd=32)\n",
    "\n",
    "plot_stim(stim)\n",
    "plt.show()"
   ]
  },
  {
   "cell_type": "markdown",
   "metadata": {},
   "source": [
    "## angular_grating"
   ]
  },
  {
   "cell_type": "code",
   "execution_count": null,
   "metadata": {},
   "outputs": [],
   "source": [
    "from stimuli.components.angular import grating\n",
    "\n",
    "# Define widgets\n",
    "w_length = iw.IntSlider(value=5, min=1, max=10, description=\"heigh/width [deg]\")\n",
    "w_ppd = iw.IntSlider(value=40, min=1, max=64, description=\"ppd\")\n",
    "\n",
    "w_rot = iw.IntSlider(value=45, min=0, max=360, description=\"rotate\")\n",
    "w_n_segments = iw.IntSlider(value=4, min=1, max=20, description=\"n segments\")\n",
    "\n",
    "b_size = iw.HBox([w_length, w_ppd])\n",
    "ui = iw.VBox([b_size, w_rot, w_n_segments])\n",
    "\n",
    "# Function for showing stim\n",
    "def show_grating(\n",
    "    rotation=None,\n",
    "    length=None,\n",
    "    ppd=None,\n",
    "    n_segments=None,\n",
    "):\n",
    "\n",
    "    stim = grating(\n",
    "        rotation=rotation,\n",
    "        visual_size=(length, length),\n",
    "        ppd=ppd,\n",
    "        n_segments=n_segments,\n",
    "        intensities=[1, 0],\n",
    "    )\n",
    "    plot_stim(stim)\n",
    "\n",
    "\n",
    "# Set interactivity\n",
    "out = iw.interactive_output(\n",
    "    show_grating,\n",
    "    {\n",
    "        \"rotation\": w_rot,\n",
    "        \"length\": w_length,\n",
    "        \"ppd\": w_ppd,\n",
    "        \"n_segments\": w_n_segments,\n",
    "    },\n",
    ")\n",
    "\n",
    "# Show\n",
    "display(ui, out)\n",
    "\n",
    "\n"
   ]
  },
  {
   "cell_type": "code",
   "execution_count": null,
   "metadata": {},
   "outputs": [],
   "source": [
    "from stimuli.components.angular import pinwheel\n",
    "\n",
    "# Define widgets\n",
    "w_length = iw.IntSlider(value=5, min=1, max=10, description=\"heigh/width [deg]\")\n",
    "w_ppd = iw.IntSlider(value=40, min=1, max=64, description=\"ppd\")\n",
    "\n",
    "w_rot = iw.IntSlider(value=45, min=0, max=360, description=\"rotate\")\n",
    "w_n_segments = iw.IntSlider(value=4, min=1, max=20, description=\"n segments\")\n",
    "w_radii = iw.FloatRangeSlider(\n",
    "    value=[0.0, 2.0], min=0.0, max=5.0, step=0.1, description=\"radii (inner,outer)\"\n",
    ")\n",
    "\n",
    "b_size = iw.HBox([w_length, w_ppd])\n",
    "ui = iw.VBox([b_size, w_rot, w_n_segments, w_radii])\n",
    "\n",
    "# Function for showing stim\n",
    "def show_pinwheel(\n",
    "    rotation=None,\n",
    "    length=None,\n",
    "    ppd=None,\n",
    "    n_segments=None,\n",
    "    radii=None,\n",
    "):\n",
    "\n",
    "    stim = pinwheel(\n",
    "        rotation=rotation,\n",
    "        visual_size=(length, length),\n",
    "        ppd=ppd,\n",
    "        radius=radii[1],\n",
    "        inner_radius=radii[0],\n",
    "        n_segments=n_segments,\n",
    "        intensities=[1, 0],\n",
    "    )\n",
    "    plot_stim(stim)\n",
    "\n",
    "\n",
    "# Set interactivity\n",
    "out = iw.interactive_output(\n",
    "    show_pinwheel,\n",
    "    {\n",
    "        \"rotation\": w_rot,\n",
    "        \"length\": w_length,\n",
    "        \"ppd\": w_ppd,\n",
    "        \"n_segments\": w_n_segments,\n",
    "        \"radii\": w_radii,\n",
    "    },\n",
    ")\n",
    "\n",
    "# Show\n",
    "display(ui, out)"
   ]
  }
 ],
 "metadata": {
  "kernelspec": {
   "display_name": "Python 3.10.5 64-bit ('stimuli-dev')",
   "language": "python",
   "name": "python3"
  },
  "language_info": {
   "codemirror_mode": {
    "name": "ipython",
    "version": 3
   },
   "file_extension": ".py",
   "mimetype": "text/x-python",
   "name": "python",
   "nbconvert_exporter": "python",
   "pygments_lexer": "ipython3",
   "version": "3.10.5"
  },
  "orig_nbformat": 4,
  "vscode": {
   "interpreter": {
    "hash": "d79f930315d22092267204fc095ece7b80c939bb23fde6f7397d8c6352112825"
   }
  }
 },
 "nbformat": 4,
 "nbformat_minor": 2
}
