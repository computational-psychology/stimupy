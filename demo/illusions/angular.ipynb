{
    "cells": [
        {
            "cell_type": "markdown",
            "metadata": {},
            "source": [
                "# Angular (radial) components & illusions: wedges, wheel-of-fortune/pin-wheel"
            ]
        },
        {
            "cell_type": "markdown",
            "metadata": {},
            "source": [
                "Angular, or radial, stimuli are in some way defined by angles respective to the center."
            ]
        },
        {
            "cell_type": "code",
            "execution_count": null,
            "metadata": {},
            "outputs": [],
            "source": [
                "import matplotlib.pyplot as plt\n",
                "import numpy as np\n",
                "\n",
                "import IPython\n",
                "import ipywidgets as iw\n",
                "\n",
                "from stimupy.utils import plot_stim, plot_stimuli\n"
            ]
        },
        {
            "cell_type": "markdown",
            "metadata": {},
            "source": [
                "# angles"
            ]
        },
        {
            "cell_type": "markdown",
            "metadata": {},
            "source": [
                "Each point in the image has an angle to the center point --\n",
                "`components.angular.img_angles(...)` generates the matrix of these angles in an image\n",
                "of given resolution (`visua_size`,`ppd`,`shape`).\n",
                "The convention here is that of the unit-circle:\n",
                "3 o'clock is $0$ and $360$ degrees ($0$ and $2\\pi$ radians),\n",
                "angle increases going counterclockwise."
            ]
        },
        {
            "cell_type": "code",
            "execution_count": null,
            "metadata": {},
            "outputs": [],
            "source": [
                "from stimupy.components.components import image_base\n",
                "\n",
                "base = image_base(visual_size=(8,8),ppd=32, rotation=0)\n",
                "\n",
                "plt.imshow(base[\"angular\"], cmap=\"coolwarm\")\n",
                "plt.colorbar()\n",
                "plt.show()"
            ]
        },
        {
            "cell_type": "markdown",
            "metadata": {},
            "source": [
                "## angular_segments"
            ]
        },
        {
            "attachments": {},
            "cell_type": "markdown",
            "metadata": {},
            "source": [
                "An image can be divided into `angular_segments`\n",
                "by defining the upper-limits on the angles in each segment"
            ]
        },
        {
            "cell_type": "code",
            "execution_count": null,
            "metadata": {},
            "outputs": [],
            "source": [
                "from stimupy.components.angular import angular_segments\n",
                "\n",
                "stim = angular_segments(angles=[45, 360], intensity_segments=(0.0, 1.0), visual_size=(8,8), ppd=32)\n",
                "\n",
                "plot_stim(stim)\n",
                "plt.show()"
            ]
        },
        {
            "cell_type": "markdown",
            "metadata": {},
            "source": [
                "As many segments, of any (non-negative) size, can be defined as desired --\n",
                "and each segment is individually masked:"
            ]
        },
        {
            "cell_type": "code",
            "execution_count": null,
            "metadata": {},
            "outputs": [],
            "source": [
                "stim = angular_segments(angles=[45, 90, 100, 110, 200, 300, 360], intensity_segments=np.linspace(0.25,1,10), visual_size=(8,8), ppd=32)\n",
                "\n",
                "plt.subplot(1,2,1)\n",
                "plot_stim(stim, stim_name=\"angular segments\")\n",
                "plt.subplot(1,2,2)\n",
                "plot_stim(stim, mask=True, stim_name=\"mask per segment\")\n",
                "plt.show()"
            ]
        },
        {
            "cell_type": "markdown",
            "metadata": {},
            "source": [
                "## wedge\n",
                "Angular segment, espcially their masks, can be used to cut out regions of other\n",
                "types of stimupy.\n",
                "For example: by masking everything but one angular segment of a circle,\n",
                "one can create a `wedge(...)`:\n",
                "this requires defining the angular-width of the wedge andoptionally a rotation \n",
                "(i.e., the lower limit on the angles in the wedge)\n",
                "and of course the outer- (and optinally, inner-) radius of the circle:"
            ]
        },
        {
            "cell_type": "code",
            "execution_count": null,
            "metadata": {},
            "outputs": [],
            "source": [
                "from stimupy.components.angular import wedge\n",
                "\n",
                "help(wedge)\n",
                "\n",
                "# Define widgets\n",
                "w_length = iw.IntSlider(value=5, min=1, max=10, description=\"heigh/width [deg]\")\n",
                "w_ppd = iw.IntSlider(value=40, min=1, max=64, description=\"ppd\")\n",
                "\n",
                "w_angle = iw.IntSlider(value=45, min=0, max=360, description=\"angle\")\n",
                "w_rotation = iw.IntSlider(value=45, min=0, max=360, description=\"rotate\")\n",
                "w_radii = iw.FloatRangeSlider(\n",
                "    value=[1.0, 2.0], min=0.1, max=5.0, step=0.1, description=\"radii (inner,outer)\"\n",
                ")\n",
                "\n",
                "w_idisc = iw.FloatSlider(value=1.0, min=0.0, max=1.0, description=\"intensity disc\")\n",
                "w_iback = iw.FloatSlider(value=0.5, min=0.0, max=1.0, description=\"intensity background\")\n",
                "\n",
                "b_size = iw.HBox([w_length, w_ppd])\n",
                "b_intensities = iw.HBox([w_idisc, w_iback])\n",
                "ui = iw.VBox([b_size, w_angle, w_rotation, w_radii, b_intensities])\n",
                "\n",
                "# Function for showing stim\n",
                "def show_wedge(\n",
                "    width=None,\n",
                "    rotation=None,\n",
                "    length=None,\n",
                "    ppd=None,\n",
                "    radii=None,\n",
                "    intensity_disc=None,\n",
                "    intensity_background=None,\n",
                "):\n",
                "\n",
                "    stim = wedge(\n",
                "        width=width,\n",
                "        rotation=rotation,\n",
                "        visual_size=(length, length),\n",
                "        ppd=ppd,\n",
                "        radius=radii[1],\n",
                "        inner_radius=radii[0],\n",
                "        intensity_background=intensity_background,\n",
                "        intensity=intensity_disc,\n",
                "    )\n",
                "    plot_stim(stim)\n",
                "\n",
                "# Set interactivity\n",
                "out = iw.interactive_output(\n",
                "    show_wedge,\n",
                "    {\n",
                "        \"width\": w_angle,\n",
                "        \"rotation\": w_rotation,\n",
                "        \"length\": w_length,\n",
                "        \"ppd\": w_ppd,\n",
                "        \"radii\": w_radii,\n",
                "        \"intensity_background\": w_iback,\n",
                "        \"intensity_disc\": w_idisc,\n",
                "    },\n",
                ")\n",
                "\n",
                "# Show\n",
                "display(ui, out)"
            ]
        },
        {
            "cell_type": "markdown",
            "metadata": {},
            "source": [
                "## angular_grating\n",
                "If the full 306 degrees is divided into a number of equal-width segments\n",
                "this can also be considered an `angular.grating(...)`  (or radial grating).\n",
                "The angular `segment_width` is also a measure of the angular `frequency`,\n",
                "as is the `n_segments` -- any of these can be defined:"
            ]
        },
        {
            "cell_type": "code",
            "execution_count": null,
            "metadata": {},
            "outputs": [],
            "source": [
                "from stimupy.components.angular import grating\n",
                "\n",
                "help(grating)\n",
                "\n",
                "# Define widgets\n",
                "w_length = iw.IntSlider(value=5, min=1, max=10, description=\"heigh/width [deg]\")\n",
                "w_ppd = iw.IntSlider(value=40, min=1, max=64, description=\"ppd\")\n",
                "\n",
                "w_rotation = iw.FloatSlider(value=45, min=0, max=360, description=\"rotate\")\n",
                "w_n_segments = iw.IntSlider(value=6, min=2, max=20, step=2, description=\"n segments\")\n",
                "\n",
                "b_size = iw.HBox([w_length, w_ppd])\n",
                "ui = iw.VBox([b_size, w_rotation, w_n_segments])\n",
                "\n",
                "# Function for showing stim\n",
                "def show_grating(\n",
                "    rotation=None,\n",
                "    length=None,\n",
                "    ppd=None,\n",
                "    n_segments=None,\n",
                "):\n",
                "\n",
                "    stim = grating(\n",
                "        rotation=rotation,\n",
                "        visual_size=(length, length),\n",
                "        ppd=ppd,\n",
                "        n_segments=n_segments,\n",
                "    )\n",
                "    plot_stim(stim)\n",
                "\n",
                "\n",
                "# Set interactivity\n",
                "out = iw.interactive_output(\n",
                "    show_grating,\n",
                "    {\n",
                "        \"rotation\": w_rotation,\n",
                "        \"length\": w_length,\n",
                "        \"ppd\": w_ppd,\n",
                "        \"n_segments\": w_n_segments,\n",
                "    },\n",
                ")\n",
                "\n",
                "# Show\n",
                "display(ui, out)\n",
                "\n",
                "\n"
            ]
        },
        {
            "cell_type": "markdown",
            "metadata": {},
            "source": [
                "## pinwheel\n",
                "Combining this with a circular `disc` component\n",
                "now divides a circle into a set of equal-size wedges,\n",
                "forming a `pinwheel`"
            ]
        },
        {
            "cell_type": "code",
            "execution_count": null,
            "metadata": {},
            "outputs": [],
            "source": [
                "from stimupy.components.angular import pinwheel\n",
                "\n",
                "# Define widgets\n",
                "w_length = iw.IntSlider(value=5, min=1, max=10, description=\"heigh/width [deg]\")\n",
                "w_ppd = iw.IntSlider(value=40, min=1, max=64, description=\"ppd\")\n",
                "\n",
                "w_rotation = iw.FloatSlider(value=45, min=0, max=360, description=\"rotate\")\n",
                "w_n_segments = iw.IntSlider(value=6, min=2, max=20, step=2, description=\"n segments\")\n",
                "w_radii = iw.FloatRangeSlider(\n",
                "    value=[0.0, 2.0], min=0.0, max=5.0, step=0.1, description=\"radii (inner,outer)\"\n",
                ")\n",
                "w_intensities = iw.FloatRangeSlider(\n",
                "    value=[0.0, 1.0], min=0.0, max=1.0, step=0.1, description=\"intensities\"\n",
                ")\n",
                "\n",
                "b_size = iw.HBox([w_length, w_ppd])\n",
                "ui = iw.VBox([b_size, w_rotation, w_n_segments, w_radii, w_intensities])\n",
                "\n",
                "# Function for showing stim\n",
                "def show_pinwheel(\n",
                "    rotation=None,\n",
                "    length=None,\n",
                "    ppd=None,\n",
                "    n_segments=None,\n",
                "    radii=None,\n",
                "    intensities=None,\n",
                "):\n",
                "\n",
                "    stim = pinwheel(\n",
                "        rotation=rotation,\n",
                "        visual_size=(length, length),\n",
                "        ppd=ppd,\n",
                "        radius=radii[1],\n",
                "        inner_radius=radii[0],\n",
                "        n_segments=n_segments,\n",
                "        intensity_segments=intensities,\n",
                "    )\n",
                "    plot_stim(stim)\n",
                "\n",
                "\n",
                "# Set interactivity\n",
                "out = iw.interactive_output(\n",
                "    show_pinwheel,\n",
                "    {\n",
                "        \"rotation\": w_rotation,\n",
                "        \"length\": w_length,\n",
                "        \"ppd\": w_ppd,\n",
                "        \"n_segments\": w_n_segments,\n",
                "        \"radii\": w_radii,\n",
                "        \"intensities\": w_intensities,\n",
                "    },\n",
                ")\n",
                "\n",
                "# Show\n",
                "display(ui, out)"
            ]
        },
        {
            "cell_type": "markdown",
            "metadata": {},
            "source": [
                "## illusions.angular.radial_white\n",
                "Target(s) can be embedded in such a pinwheel,\n",
                "to create a `radial_white`'s-like illusion"
            ]
        },
        {
            "cell_type": "code",
            "execution_count": null,
            "metadata": {},
            "outputs": [],
            "source": [
                "from stimupy.illusions.angular import radial_white\n",
                "\n",
                "help(radial_white)\n",
                "\n",
                "# Define widgets\n",
                "# Resolution\n",
                "w_length = iw.IntSlider(value=8, min=1, max=10, description=\"heigh/width [deg]\")\n",
                "w_ppd = iw.IntSlider(value=40, min=1, max=64, description=\"ppd\")\n",
                "\n",
                "# Pinwheel\n",
                "w_rotation = iw.FloatSlider(value=45, min=0, max=360, description=\"rotate\")\n",
                "w_n_segments = iw.IntSlider(value=6, min=2, max=20, step=2, description=\"n segments\")\n",
                "w_radii = iw.FloatRangeSlider(\n",
                "    value=[0.0, 2.0], min=0.0, max=5.0, step=0.1, description=\"radii (inner,outer)\"\n",
                ")\n",
                "w_intensities = iw.FloatRangeSlider(\n",
                "    value=[0.0, 1.0], min=0.0, max=1.0, step=0.1, description=\"intensities\"\n",
                ")\n",
                "\n",
                "# Target\n",
                "w_twidth = iw.FloatSlider(value=2, min=0, max=4, description=\"width target [deg]\")\n",
                "w_tcenter = iw.FloatSlider(value=2.5, min=0, max=4, description=\"center target [deg]\")\n",
                "w_tidx = iw.IntSlider(value=2, min=1, max=20, description=\"idx target\")\n",
                "w_itarget = iw.FloatSlider(value=0.5, min=0., max=1.0, description=\"intensity target\")\n",
                "\n",
                "b_size = iw.HBox([w_length, w_ppd])\n",
                "b_seg = iw.HBox([w_n_segments, w_radii, w_rotation, w_intensities])\n",
                "b_target = iw.HBox([w_tidx, w_twidth, w_tcenter, w_itarget])\n",
                "ui = iw.VBox([b_size, b_seg, b_target, w_intensities])\n",
                "\n",
                "def show_radial(\n",
                "    length=None,\n",
                "    ppd=None,\n",
                "    n_segments=None,\n",
                "    rotation=None,\n",
                "    target_indices=None,\n",
                "    target_width=None,\n",
                "    target_center=None,\n",
                "    intensity_segments=None,\n",
                "    intensity_background=None,\n",
                "    intensity_target=None,\n",
                "):\n",
                "\n",
                "    stim = radial_white(\n",
                "        visual_size=length,\n",
                "        ppd=ppd,\n",
                "        n_segments=n_segments,\n",
                "        rotation=rotation,\n",
                "        target_indices=target_indices,\n",
                "        target_width=target_width,\n",
                "        target_center=target_center,\n",
                "        intensity_background=intensity_background,\n",
                "        intensity_segments=intensity_segments,\n",
                "        intensity_target=intensity_target,\n",
                "    )\n",
                "    plot_stim(stim)\n",
                "\n",
                "\n",
                "out = iw.interactive_output(show_radial,\n",
                "                            {\n",
                "                                \"length\": w_length,\n",
                "                                \"ppd\": w_ppd,\n",
                "                                \"n_segments\": w_n_segments,\n",
                "                                \"rotation\": w_rotation,\n",
                "                                \"target_indices\": w_tidx,\n",
                "                                \"target_width\": w_twidth,\n",
                "                                \"target_center\": w_tcenter,\n",
                "                                \"intensity_background\": w_iback,\n",
                "                                \"intensity_segments\": w_intensities,\n",
                "                                \"intensity_target\": w_itarget,\n",
                "                            })\n",
                "\n",
                "display(ui, out)"
            ]
        },
        {
            "cell_type": "markdown",
            "metadata": {},
            "source": [
                "It is possible to place as many targets as desired\n",
                "by providing a list of `target_indices`.\n",
                "The indices refer to the segments starting with `1` at the 3 o'clock position\n",
                "(affected by `rotation`) and then going counter-clockwise.\n",
                "Different targets can also have differnt `_width`, `_center` and `intensity_`"
            ]
        },
        {
            "cell_type": "code",
            "execution_count": null,
            "metadata": {},
            "outputs": [],
            "source": [
                "params = {\n",
                "    \"visual_size\": (10., 10.),\n",
                "    \"ppd\": 32.0,\n",
                "    \"n_segments\": 10,\n",
                "    \"rotation\": 0,\n",
                "    \"intensity_background\": 0.5,\n",
                "}\n",
                "\n",
                "stim1 = radial_white(**params, target_indices=(2, 5), target_width=2.0, target_center=2.5, intensity_target=0.5)\n",
                "stim2 = radial_white(**params, target_indices=(1, 5, 6, 9), target_width=[2.0, 1.0], target_center=[3.0, 4.0], intensity_target=[0.25, 0.4, 0.6, 0.75])\n",
                "\n",
                "plot_stimuli({\"Example 1\": stim1, \"Example 2\": stim2})\n",
                "plt.show()"
            ]
        }
    ],
    "metadata": {
        "kernelspec": {
            "display_name": "Python 3.10.5 64-bit ('stimuli-dev')",
            "language": "python",
            "name": "python3"
        },
        "language_info": {
            "codemirror_mode": {
                "name": "ipython",
                "version": 3
            },
            "file_extension": ".py",
            "mimetype": "text/x-python",
            "name": "python",
            "nbconvert_exporter": "python",
            "pygments_lexer": "ipython3",
            "version": "3.10.5"
        },
        "orig_nbformat": 4,
        "vscode": {
            "interpreter": {
                "hash": "d79f930315d22092267204fc095ece7b80c939bb23fde6f7397d8c6352112825"
            }
        }
    },
    "nbformat": 4,
    "nbformat_minor": 2
}