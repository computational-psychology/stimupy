{
 "cells": [
  {
   "cell_type": "markdown",
   "metadata": {},
   "source": [
    "# Angular (radial) components & illusions: wedges, wheel-of-fortune/pin-wheel"
   ]
  },
  {
   "cell_type": "markdown",
   "metadata": {},
   "source": [
    "Angular, or radial, stimuli are in some way defined by angles respective to the center."
   ]
  },
  {
   "cell_type": "code",
   "execution_count": null,
   "metadata": {},
   "outputs": [],
   "source": [
    "import matplotlib.pyplot as plt\n",
    "import numpy as np\n",
    "\n",
    "import IPython\n",
    "import ipywidgets as iw\n",
    "\n",
    "from stimuli.utils import plot_stim, plot_stimuli\n"
   ]
  },
  {
   "cell_type": "markdown",
   "metadata": {},
   "source": [
    "# angles"
   ]
  },
  {
   "cell_type": "markdown",
   "metadata": {},
   "source": [
    "Each point in the image has an angle to the center point --\n",
    "`components.angular.img_angles(...)` generates the matrix of these angles in an image\n",
    "of given resolution (`visua_size`,`ppd`,`shape`).\n",
    "The convention here is that of the unit-circle:\n",
    "3 o'clock is $0$ and $360$ degrees ($0$ and $2\\pi$ radians),\n",
    "angle increases going counterclockwise."
   ]
  },
  {
   "cell_type": "code",
   "execution_count": null,
   "metadata": {},
   "outputs": [],
   "source": [
    "from stimuli.components.angular import img_angles\n",
    "\n",
    "angles = img_angles(visual_size=(8,8),ppd=32)\n",
    "\n",
    "plt.imshow(angles[\"img\"], cmap=\"coolwarm\")\n",
    "plt.colorbar()\n",
    "plt.show()"
   ]
  },
  {
   "cell_type": "markdown",
   "metadata": {},
   "source": [
    "## angular_segments"
   ]
  },
  {
   "cell_type": "markdown",
   "metadata": {},
   "source": [
    "`angular_segments` of an image can be defined by lower- and upper-limits\n",
    "on the angles in the segment"
   ]
  },
  {
   "cell_type": "code",
   "execution_count": null,
   "metadata": {},
   "outputs": [],
   "source": [
    "from stimuli.components.angular import angular_segments\n",
    "\n",
    "stim = angular_segments(angles=[45, 90], intensities=[1], visual_size=(8,8), ppd=32)\n",
    "\n",
    "plot_stim(stim)\n",
    "plt.show()"
   ]
  },
  {
   "cell_type": "markdown",
   "metadata": {},
   "source": [
    "As many segments, of any (non-negative) size, can be defined as desired --\n",
    "and each segment is individually masked:"
   ]
  },
  {
   "cell_type": "code",
   "execution_count": null,
   "metadata": {},
   "outputs": [],
   "source": [
    "stim = angular_segments(angles=[45, 90, 100, 110, 200, 300], intensities=np.linspace(0.25,1,10), visual_size=(8,8), ppd=32)\n",
    "\n",
    "plt.subplot(1,2,1)\n",
    "plot_stim(stim, stim_name=\"angular segments\")\n",
    "plt.subplot(1,2,2)\n",
    "plot_stim(stim, mask=True, stim_name=\"mask per segment\")\n",
    "plt.show()"
   ]
  },
  {
   "cell_type": "markdown",
   "metadata": {},
   "source": [
    "## wedge\n",
    "Angular segment, espcially their masks, can be used to cut out regions of other\n",
    "types of stimuli.\n",
    "For example: by masking everything but one angular segment of a circle,\n",
    "one can create a `wedge(...)`:\n",
    "this requires defining the angular-width of the wedge andoptionally a rotation \n",
    "(i.e., the lower limit on the angles in the wedge)\n",
    "and of course the outer- (and optinally, inner-) radius of the circle:"
   ]
  },
  {
   "cell_type": "code",
   "execution_count": null,
   "metadata": {},
   "outputs": [],
   "source": [
    "from stimuli.components.angular import wedge\n",
    "\n",
    "help(wedge)\n",
    "\n",
    "# Define widgets\n",
    "w_length = iw.IntSlider(value=5, min=1, max=10, description=\"heigh/width [deg]\")\n",
    "w_ppd = iw.IntSlider(value=40, min=1, max=64, description=\"ppd\")\n",
    "\n",
    "w_angle = iw.IntSlider(value=45, min=0, max=360, description=\"angle\")\n",
    "w_rot = iw.IntSlider(value=45, min=0, max=360, description=\"rotate\")\n",
    "w_radii = iw.FloatRangeSlider(\n",
    "    value=[1.0, 2.0], min=0.1, max=5.0, step=0.1, description=\"radii (inner,outer)\"\n",
    ")\n",
    "\n",
    "w_idisc = iw.FloatSlider(value=1.0, min=0.0, max=1.0, description=\"intensity disc\")\n",
    "w_iback = iw.FloatSlider(value=0.5, min=0.0, max=1.0, description=\"intensity background\")\n",
    "\n",
    "b_size = iw.HBox([w_length, w_ppd])\n",
    "b_intensities = iw.HBox([w_idisc, w_iback])\n",
    "ui = iw.VBox([b_size, w_angle, w_rot, w_radii, b_intensities])\n",
    "\n",
    "# Function for showing stim\n",
    "def show_wedge(\n",
    "    angle=None,\n",
    "    rotation=None,\n",
    "    length=None,\n",
    "    ppd=None,\n",
    "    radii=None,\n",
    "    intensity_disc=None,\n",
    "    intensity_background=None,\n",
    "):\n",
    "\n",
    "    stim = wedge(\n",
    "        angle=angle,\n",
    "        rotation=rotation,\n",
    "        visual_size=(length, length),\n",
    "        ppd=ppd,\n",
    "        radius=radii[1],\n",
    "        inner_radius=radii[0],\n",
    "        intensity_background=intensity_background,\n",
    "        intensity=intensity_disc,\n",
    "    )\n",
    "    plot_stim(stim)\n",
    "\n",
    "# Set interactivity\n",
    "out = iw.interactive_output(\n",
    "    show_wedge,\n",
    "    {\n",
    "        \"angle\": w_angle,\n",
    "        \"rotation\": w_rot,\n",
    "        \"length\": w_length,\n",
    "        \"ppd\": w_ppd,\n",
    "        \"radii\": w_radii,\n",
    "        \"intensity_background\": w_iback,\n",
    "        \"intensity_disc\": w_idisc,\n",
    "    },\n",
    ")\n",
    "\n",
    "# Show\n",
    "display(ui, out)"
   ]
  },
  {
   "cell_type": "markdown",
   "metadata": {},
   "source": [
    "## angular_grating\n",
    "If the full 306 degrees is divided into a number of equal-width segments\n",
    "this can also be considered an `angular.grating(...)`  (or radial grating).\n",
    "The angular `segment_width` is also a measure of the angular `frequency`,\n",
    "as is the `n_segments` -- any of these can be defined:"
   ]
  },
  {
   "cell_type": "code",
   "execution_count": null,
   "metadata": {},
   "outputs": [],
   "source": [
    "from stimuli.components.angular import grating\n",
    "\n",
    "help(grating)\n",
    "\n",
    "# Define widgets\n",
    "w_length = iw.IntSlider(value=5, min=1, max=10, description=\"heigh/width [deg]\")\n",
    "w_ppd = iw.IntSlider(value=40, min=1, max=64, description=\"ppd\")\n",
    "\n",
    "w_rot = iw.IntSlider(value=45, min=0, max=360, description=\"rotate\")\n",
    "w_n_segments = iw.IntSlider(value=6, min=1, max=20, description=\"n segments\")\n",
    "\n",
    "b_size = iw.HBox([w_length, w_ppd])\n",
    "ui = iw.VBox([b_size, w_rot, w_n_segments])\n",
    "\n",
    "# Function for showing stim\n",
    "def show_grating(\n",
    "    rotation=None,\n",
    "    length=None,\n",
    "    ppd=None,\n",
    "    n_segments=None,\n",
    "):\n",
    "\n",
    "    stim = grating(\n",
    "        rotation=rotation,\n",
    "        visual_size=(length, length),\n",
    "        ppd=ppd,\n",
    "        n_segments=n_segments,\n",
    "        intensities=[1, 0],\n",
    "    )\n",
    "    plot_stim(stim)\n",
    "\n",
    "\n",
    "# Set interactivity\n",
    "out = iw.interactive_output(\n",
    "    show_grating,\n",
    "    {\n",
    "        \"rotation\": w_rot,\n",
    "        \"length\": w_length,\n",
    "        \"ppd\": w_ppd,\n",
    "        \"n_segments\": w_n_segments,\n",
    "    },\n",
    ")\n",
    "\n",
    "# Show\n",
    "display(ui, out)\n",
    "\n",
    "\n"
   ]
  },
  {
   "cell_type": "markdown",
   "metadata": {},
   "source": [
    "## pinwheel\n",
    "Combining this with a circular `disc` component\n",
    "now divides a circle into a set of equal-size wedges,\n",
    "forming a `pinwheel`"
   ]
  },
  {
   "cell_type": "code",
   "execution_count": null,
   "metadata": {},
   "outputs": [],
   "source": [
    "from stimuli.components.angular import pinwheel\n",
    "\n",
    "# Define widgets\n",
    "w_length = iw.IntSlider(value=5, min=1, max=10, description=\"heigh/width [deg]\")\n",
    "w_ppd = iw.IntSlider(value=40, min=1, max=64, description=\"ppd\")\n",
    "\n",
    "w_rot = iw.IntSlider(value=45, min=0, max=360, description=\"rotate\")\n",
    "w_n_segments = iw.IntSlider(value=6, min=1, max=20, description=\"n segments\")\n",
    "w_radii = iw.FloatRangeSlider(\n",
    "    value=[0.0, 2.0], min=0.0, max=5.0, step=0.1, description=\"radii (inner,outer)\"\n",
    ")\n",
    "\n",
    "b_size = iw.HBox([w_length, w_ppd])\n",
    "ui = iw.VBox([b_size, w_rot, w_n_segments, w_radii])\n",
    "\n",
    "# Function for showing stim\n",
    "def show_pinwheel(\n",
    "    rotation=None,\n",
    "    length=None,\n",
    "    ppd=None,\n",
    "    n_segments=None,\n",
    "    radii=None,\n",
    "):\n",
    "\n",
    "    stim = pinwheel(\n",
    "        rotation=rotation,\n",
    "        visual_size=(length, length),\n",
    "        ppd=ppd,\n",
    "        radius=radii[1],\n",
    "        inner_radius=radii[0],\n",
    "        n_segments=n_segments,\n",
    "        intensities=[1, 0],\n",
    "    )\n",
    "    plot_stim(stim)\n",
    "\n",
    "\n",
    "# Set interactivity\n",
    "out = iw.interactive_output(\n",
    "    show_pinwheel,\n",
    "    {\n",
    "        \"rotation\": w_rot,\n",
    "        \"length\": w_length,\n",
    "        \"ppd\": w_ppd,\n",
    "        \"n_segments\": w_n_segments,\n",
    "        \"radii\": w_radii,\n",
    "    },\n",
    ")\n",
    "\n",
    "# Show\n",
    "display(ui, out)"
   ]
  },
  {
   "cell_type": "markdown",
   "metadata": {},
   "source": [
    "## illusions.angular.radial_white"
   ]
  },
  {
   "cell_type": "code",
   "execution_count": null,
   "metadata": {},
   "outputs": [],
   "source": [
    "from stimuli.illusions.angular import radial_white\n",
    "\n",
    "help(radial_white)\n",
    "\n",
    "# Define widgets\n",
    "w_length = iw.IntSlider(value=10, min=10, max=30, description=\"height [deg]\")\n",
    "w_width = iw.IntSlider(value=10, min=10, max=30, description=\"width [deg]\")\n",
    "w_ppd = iw.IntSlider(value=40, min=1, max=60, description=\"ppd\")\n",
    "w_size = iw.HBox([w_length, w_width, w_ppd])\n",
    "w_segments = iw.IntSlider(value=8, min=2, max=20, step=2, description=\"No segments\")\n",
    "w_rotate = iw.FloatSlider(value=0, min=0, max=360, description=\"rotation [deg]\")\n",
    "w_seg = iw.HBox([w_segments, w_rotate])\n",
    "w_twidth = iw.FloatSlider(value=2, min=0, max=4, description=\"target width [deg]\")\n",
    "w_tcenter = iw.FloatSlider(value=2.5, min=0, max=4, description=\"target center [deg]\")\n",
    "w_tplace = iw.HBox([w_twidth, w_tcenter])\n",
    "w_islice1 = iw.FloatSlider(value=0.0, min=0., max=1.0, description=\"intensity slice 1\")\n",
    "w_islice2 = iw.FloatSlider(value=1.0, min=0., max=1.0, description=\"intensity slice 2\")\n",
    "w_iback = iw.FloatSlider(value=0.5, min=0., max=1.0, description=\"intensity background\")\n",
    "w_itarget = iw.FloatSlider(value=0.5, min=0., max=1.0, description=\"intensity target\")\n",
    "w_intensities = iw.HBox([w_islice1, w_islice2, w_iback, w_itarget])\n",
    "\n",
    "ui = iw.VBox([w_size, w_seg, w_tplace, w_intensities])\n",
    "\n",
    "def show_radial(\n",
    "    height=None,\n",
    "    width=None,\n",
    "    ppd=None,\n",
    "    n_segments=None,\n",
    "    rotate=None,\n",
    "    target_width=None,\n",
    "    target_center=None,\n",
    "    intensity_slice1=None,\n",
    "    intensity_slice2=None,\n",
    "    intensity_background=None,\n",
    "    intensity_target=None,    \n",
    "):\n",
    "\n",
    "    stim = radial_white(\n",
    "        visual_size=(height, width),\n",
    "        ppd=ppd,\n",
    "        n_segments=n_segments,\n",
    "        rotate=rotate / 180 * np.pi,\n",
    "        target_width=target_width,\n",
    "        target_center=target_center,\n",
    "        intensity_background=intensity_background,\n",
    "        intensity_slices=(intensity_slice1, intensity_slice2),\n",
    "        intensity_target=intensity_target,\n",
    "        target_indices=(0)\n",
    "    )\n",
    "    plot_stim(stim)\n",
    "\n",
    "\n",
    "out = iw.interactive_output(show_radial,\n",
    "                            {\n",
    "                                \"height\": w_length,\n",
    "                                \"width\": w_width,\n",
    "                                \"ppd\": w_ppd,\n",
    "                                \"n_segments\": w_segments,\n",
    "                                \"rotate\": w_rotate,\n",
    "                                \"target_width\": w_twidth,\n",
    "                                \"target_center\": w_tcenter,\n",
    "                                \"intensity_background\": w_iback,\n",
    "                                \"intensity_slice1\": w_islice1,\n",
    "                                \"intensity_slice2\": w_islice2,\n",
    "                                \"intensity_target\": w_itarget,\n",
    "                            })\n",
    "\n",
    "display(ui, out)"
   ]
  },
  {
   "cell_type": "markdown",
   "metadata": {},
   "source": [
    "It is possible to place as many targets as there are segments by providing a list of `target_indices`.\n",
    "The indices refer to the segments starting at the top and then going counter-clockwise."
   ]
  },
  {
   "cell_type": "code",
   "execution_count": null,
   "metadata": {},
   "outputs": [],
   "source": [
    "params = {\n",
    "    \"visual_size\": (10., 10.),\n",
    "    \"ppd\": 40.0,\n",
    "    \"n_segments\": 10,\n",
    "    \"rotate\": 0,\n",
    "    \"target_width\": 2.,\n",
    "    \"target_center\": 2.5,\n",
    "    \"intensity_slices\": (0., 1.),\n",
    "    \"intensity_background\": 0.5,\n",
    "    \"intensity_target\": 0.5,\n",
    "}\n",
    "\n",
    "stim1 = radial_white(**params, target_indices=(0, 2, 4))\n",
    "stim2 = radial_white(**params, target_indices=(1, 3, 5, 7, 9))\n",
    "\n",
    "plot_stimuli({\"Example 1\": stim1, \"Example 2\": stim2})\n",
    "plt.show()"
   ]
  }
 ],
 "metadata": {
  "kernelspec": {
   "display_name": "Python 3.10.5 64-bit ('stimuli-dev')",
   "language": "python",
   "name": "python3"
  },
  "language_info": {
   "codemirror_mode": {
    "name": "ipython",
    "version": 3
   },
   "file_extension": ".py",
   "mimetype": "text/x-python",
   "name": "python",
   "nbconvert_exporter": "python",
   "pygments_lexer": "ipython3",
   "version": "3.10.5"
  },
  "orig_nbformat": 4,
  "vscode": {
   "interpreter": {
    "hash": "d79f930315d22092267204fc095ece7b80c939bb23fde6f7397d8c6352112825"
   }
  }
 },
 "nbformat": 4,
 "nbformat_minor": 2
}
