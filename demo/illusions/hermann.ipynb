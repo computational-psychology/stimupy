{
 "cells": [
  {
   "cell_type": "code",
   "execution_count": null,
   "metadata": {},
   "outputs": [],
   "source": [
    "import itertools\n",
    "import pandas as pd\n",
    "import matplotlib.pyplot as plt\n",
    "import numpy as np\n",
    "\n",
    "import IPython\n",
    "import ipywidgets as iw\n",
    "from stimuli.utils import plot_stimuli, plot_stim"
   ]
  },
  {
   "cell_type": "markdown",
   "metadata": {},
   "source": [
    "# hermann"
   ]
  },
  {
   "cell_type": "code",
   "execution_count": null,
   "metadata": {},
   "outputs": [],
   "source": [
    "from stimuli.illusions.hermann import hermann_grid"
   ]
  },
  {
   "cell_type": "markdown",
   "metadata": {},
   "source": [
    "## Parameterization"
   ]
  },
  {
   "cell_type": "code",
   "execution_count": null,
   "metadata": {},
   "outputs": [],
   "source": [
    "params = {\n",
    "    \"visual_size\": (10., 10.),\n",
    "    \"ppd\": 10.0,\n",
    "    \"element_size\": (2., 2., 0.2),\n",
    "    \"intensity_background\": 0.,\n",
    "    \"intensity_grid\": 1.,\n",
    "}\n",
    "\n",
    "stim = hermann_grid(**params)\n",
    "plot_stim(stim)\n",
    "plt.show()"
   ]
  },
  {
   "cell_type": "markdown",
   "metadata": {},
   "source": [
    "## Interactive"
   ]
  },
  {
   "cell_type": "code",
   "execution_count": null,
   "metadata": {},
   "outputs": [],
   "source": [
    "# Define widgets\n",
    "w_height = iw.IntSlider(value=10, min=1, max=20, description=\"height [deg]\")\n",
    "w_width = iw.IntSlider(value=10, min=1, max=20, description=\"width [deg]\")\n",
    "w_ppd = iw.IntSlider(value=10, min=1, max=30, description=\"ppd\")\n",
    "w_size = iw.HBox([w_height, w_width, w_ppd])\n",
    "w_eheight = iw.FloatSlider(value=2., min=0.1, max=4.0, description=\"element height\")\n",
    "w_ewidth = iw.FloatSlider(value=2., min=0.1, max=4.0, description=\"element width\")\n",
    "w_ethick = iw.FloatSlider(value=0.2, min=0.1, max=0.5, description=\"element thickness\")\n",
    "w_element = iw.HBox([w_eheight, w_ewidth, w_ethick])\n",
    "w_iback = iw.FloatSlider(value=0.0, min=0., max=1.0, description=\"intensity background\")\n",
    "w_igrid = iw.FloatSlider(value=1.0, min=0., max=1.0, description=\"intensity grid\")\n",
    "w_intensities = iw.HBox([w_iback, w_igrid])\n",
    "\n",
    "ui = iw.VBox([w_size, w_element, w_intensities])\n",
    "\n",
    "def show_hermann(\n",
    "    height=None,\n",
    "    width=None,\n",
    "    ppd=None,\n",
    "    element_height=None,\n",
    "    element_width=None,\n",
    "    element_thickness=None,\n",
    "    intensity_background=None,\n",
    "    intensity_grid=None,\n",
    "):\n",
    "\n",
    "    stim = hermann_grid(\n",
    "        visual_size=(height, width),\n",
    "        ppd=ppd,\n",
    "        element_size=(element_height, element_width, element_thickness),\n",
    "        intensity_background=intensity_background,\n",
    "        intensity_grid=intensity_grid,\n",
    "    )\n",
    "    plot_stim(stim)\n",
    "\n",
    "\n",
    "out = iw.interactive_output(show_hermann,\n",
    "                            {\n",
    "                                \"height\": w_height,\n",
    "                                \"width\": w_width,\n",
    "                                \"ppd\": w_ppd,\n",
    "                                \"element_height\": w_eheight,\n",
    "                                \"element_width\": w_ewidth,\n",
    "                                \"element_thickness\": w_ethick,\n",
    "                                \"intensity_background\": w_iback,\n",
    "                                \"intensity_grid\": w_igrid,\n",
    "                            })\n",
    "\n",
    "display(ui, out)\n"
   ]
  },
  {
   "cell_type": "code",
   "execution_count": null,
   "metadata": {},
   "outputs": [],
   "source": []
  }
 ],
 "metadata": {
  "kernelspec": {
   "display_name": "Python 3 (ipykernel)",
   "language": "python",
   "name": "python3"
  },
  "language_info": {
   "codemirror_mode": {
    "name": "ipython",
    "version": 3
   },
   "file_extension": ".py",
   "mimetype": "text/x-python",
   "name": "python",
   "nbconvert_exporter": "python",
   "pygments_lexer": "ipython3",
   "version": "3.7.13"
  },
  "toc": {
   "base_numbering": 1,
   "nav_menu": {},
   "number_sections": true,
   "sideBar": true,
   "skip_h1_title": false,
   "title_cell": "Table of Contents",
   "title_sidebar": "Contents",
   "toc_cell": false,
   "toc_position": {},
   "toc_section_display": true,
   "toc_window_display": false
  },
  "vscode": {
   "interpreter": {
    "hash": "d79f930315d22092267204fc095ece7b80c939bb23fde6f7397d8c6352112825"
   }
  }
 },
 "nbformat": 4,
 "nbformat_minor": 2
}
