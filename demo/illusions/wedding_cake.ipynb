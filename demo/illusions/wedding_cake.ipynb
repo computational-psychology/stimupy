{
 "cells": [
  {
   "cell_type": "code",
   "execution_count": 1,
   "metadata": {},
   "outputs": [],
   "source": [
    "import itertools\n",
    "import pandas as pd\n",
    "import matplotlib.pyplot as plt\n",
    "import numpy as np\n",
    "\n",
    "import IPython\n",
    "import ipywidgets as iw\n",
    "from stimuli.utils import plot_stimuli, plot_stim"
   ]
  },
  {
   "cell_type": "markdown",
   "metadata": {},
   "source": [
    "# wedding_cake_stimulus"
   ]
  },
  {
   "cell_type": "code",
   "execution_count": 2,
   "metadata": {},
   "outputs": [],
   "source": [
    "from stimuli.illusions.wedding_cake import wedding_cake_stimulus"
   ]
  },
  {
   "cell_type": "markdown",
   "metadata": {},
   "source": [
    "## Parameterization"
   ]
  },
  {
   "cell_type": "code",
   "execution_count": 6,
   "metadata": {},
   "outputs": [
    {
     "data": {
      "image/png": "[encoded data removed]",
      "text/plain": [
       "<Figure size 640x480 with 1 Axes>"
      ]
     },
     "metadata": {},
     "output_type": "display_data"
    }
   ],
   "source": [
    "params = {\n",
    "    \"visual_size\": (10., 10.),\n",
    "    \"ppd\": 20.0,\n",
    "    \"L_size\": (3., 3., 1.),\n",
    "    \"target_height\": 0.5,\n",
    "    \"target_indices1\": ((0, 0), (0, 1)),\n",
    "    \"target_indices2\": ((2, 0), (2, 1)),\n",
    "    \"intensity_grating\": (0., 1.),\n",
    "    \"intensity_target\": 0.5,\n",
    "}\n",
    "    \n",
    "stim = wedding_cake_stimulus(**params)\n",
    "plot_stim(stim)\n",
    "plt.show()"
   ]
  },
  {
   "cell_type": "markdown",
   "metadata": {},
   "source": [
    "## Interactive"
   ]
  },
  {
   "cell_type": "code",
   "execution_count": 9,
   "metadata": {},
   "outputs": [
    {
     "data": {
      "application/vnd.jupyter.widget-view+json": {
       "model_id": "cc664f38560b46d2a59aba73d148e452",
       "version_major": 2,
       "version_minor": 0
      },
      "text/plain": [
       "VBox(children=(HBox(children=(IntSlider(value=10, description='height [deg]', max=16, min=5), IntSlider(value=…"
      ]
     },
     "metadata": {},
     "output_type": "display_data"
    },
    {
     "data": {
      "application/vnd.jupyter.widget-view+json": {
       "model_id": "3fcf3712a6da441abab49f82f74bc66a",
       "version_major": 2,
       "version_minor": 0
      },
      "text/plain": [
       "Output()"
      ]
     },
     "metadata": {},
     "output_type": "display_data"
    }
   ],
   "source": [
    "# Define widgets\n",
    "w_height = iw.IntSlider(value=10, min=5, max=16, description=\"height [deg]\")\n",
    "w_width = iw.IntSlider(value=10, min=5, max=16, description=\"width [deg]\")\n",
    "w_ppd = iw.IntSlider(value=10, min=10, max=30, description=\"ppd\")\n",
    "w_size = iw.HBox([w_height, w_width, w_ppd])\n",
    "\n",
    "w_lheight = iw.FloatSlider(value=3, min=1, max=5, description=\"L-height [deg]\")\n",
    "w_lwidth = iw.FloatSlider(value=3, min=1, max=5, description=\"L-width [deg]\")\n",
    "w_lthick = iw.FloatSlider(value=0.5, min=0.1, max=3, description=\"L-thickness [deg]\")\n",
    "w_lsize = iw.HBox([w_lheight, w_lwidth, w_lthick])\n",
    "\n",
    "w_theight = iw.FloatSlider(value=0.2, min=0.1, max=1., description=\"target height\")\n",
    "w_tidx1 = iw.IntSlider(value=0, min=0, max=5, description=\"target index 1\")\n",
    "w_tidx2 = iw.IntSlider(value=0, min=-3, max=3, description=\"target index 2\")\n",
    "w_target = iw.HBox([w_theight, w_tidx1, w_tidx2])\n",
    "\n",
    "ui = iw.VBox([w_size, w_lsize, w_target])\n",
    "\n",
    "def show_wedding_cake(\n",
    "    height=None,\n",
    "    width=None,\n",
    "    ppd=None,\n",
    "    Lheight=None,\n",
    "    Lwidth=None,\n",
    "    Lthick=None,\n",
    "    target_height=None,\n",
    "    tidx1=None,\n",
    "    tidx2=None,\n",
    "):\n",
    "\n",
    "    stim = wedding_cake_stimulus(\n",
    "        visual_size=(height, width),\n",
    "        ppd=ppd,\n",
    "        L_size=(Lheight, Lwidth, Lthick),\n",
    "        target_height=target_height,\n",
    "        target_indices1=((tidx1, tidx2),),\n",
    "        target_indices2=None,\n",
    "        intensity_grating=(0., 1.),\n",
    "        intensity_target=0.5,\n",
    "    )\n",
    "    plot_stim(stim)\n",
    "\n",
    "\n",
    "out = iw.interactive_output(show_wedding_cake,\n",
    "                            {\n",
    "                                \"height\": w_height,\n",
    "                                \"width\": w_width,\n",
    "                                \"ppd\": w_ppd,\n",
    "                                \"Lheight\": w_lheight,\n",
    "                                \"Lwidth\": w_lwidth,\n",
    "                                \"Lthick\": w_lthick,\n",
    "                                \"target_height\": w_theight,\n",
    "                                \"tidx1\": w_tidx1,\n",
    "                                \"tidx2\": w_tidx2,\n",
    "                            })\n",
    "\n",
    "display(ui, out)\n"
   ]
  },
  {
   "cell_type": "code",
   "execution_count": null,
   "metadata": {},
   "outputs": [],
   "source": []
  }
 ],
 "metadata": {
  "kernelspec": {
   "display_name": "Python 3 (ipykernel)",
   "language": "python",
   "name": "python3"
  },
  "language_info": {
   "codemirror_mode": {
    "name": "ipython",
    "version": 3
   },
   "file_extension": ".py",
   "mimetype": "text/x-python",
   "name": "python",
   "nbconvert_exporter": "python",
   "pygments_lexer": "ipython3",
   "version": "3.10.6"
  },
  "toc": {
   "base_numbering": 1,
   "nav_menu": {},
   "number_sections": true,
   "sideBar": true,
   "skip_h1_title": false,
   "title_cell": "Table of Contents",
   "title_sidebar": "Contents",
   "toc_cell": false,
   "toc_position": {},
   "toc_section_display": true,
   "toc_window_display": false
  },
  "varInspector": {
   "cols": {
    "lenName": 16,
    "lenType": 16,
    "lenVar": 40
   },
   "kernels_config": {
    "python": {
     "delete_cmd_postfix": "",
     "delete_cmd_prefix": "del ",
     "library": "var_list.py",
     "varRefreshCmd": "print(var_dic_list())"
    },
    "r": {
     "delete_cmd_postfix": ") ",
     "delete_cmd_prefix": "rm(",
     "library": "var_list.r",
     "varRefreshCmd": "cat(var_dic_list()) "
    }
   },
   "types_to_exclude": [
    "module",
    "function",
    "builtin_function_or_method",
    "instance",
    "_Feature"
   ],
   "window_display": false
  },
  "vscode": {
   "interpreter": {
    "hash": "d79f930315d22092267204fc095ece7b80c939bb23fde6f7397d8c6352112825"
   }
  }
 },
 "nbformat": 4,
 "nbformat_minor": 2
}
