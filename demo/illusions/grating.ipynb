{
 "cells": [
  {
   "cell_type": "markdown",
   "metadata": {},
   "source": [
    "# Grating components, illusions"
   ]
  },
  {
   "cell_type": "code",
   "execution_count": null,
   "metadata": {},
   "outputs": [],
   "source": [
    "import matplotlib.pyplot as plt\n",
    "import numpy as np\n",
    "\n",
    "import IPython\n",
    "import ipywidgets as iw\n",
    "from stimuli.utils import plot_stimuli, plot_stim"
   ]
  },
  {
   "cell_type": "markdown",
   "metadata": {},
   "source": [
    "## square_wave grating"
   ]
  },
  {
   "cell_type": "code",
   "execution_count": null,
   "metadata": {},
   "outputs": [],
   "source": [
    "from stimuli.components.grating import square_wave\n",
    "help(square_wave)"
   ]
  },
  {
   "cell_type": "code",
   "execution_count": null,
   "metadata": {},
   "outputs": [],
   "source": [
    "# Define widgets\n",
    "w_length = iw.IntSlider(value=1.0, min=1, max=10, description=\"heigh/width [deg]\")\n",
    "w_ppd = iw.IntSlider(value=32, min=1, max=64, description=\"ppd\")\n",
    "\n",
    "w_frequency = iw.FloatSlider(value=2.0, min=0.1, max=3.0, description=\"frequency [cpd]\")\n",
    "w_period = iw.ToggleButtons(options=['ignore', 'full', 'half'], value='ignore', button_style='', description=\"ensure period\")\n",
    "\n",
    "w_ibars = iw.FloatRangeSlider(value=[0.0, 1.0], min=0.0, max=1.0, step=0.1, description=\"intensities\")\n",
    "\n",
    "# Layout\n",
    "b_size = iw.HBox([w_length, w_ppd])\n",
    "b_frequency = iw.HBox([w_frequency, w_period])\n",
    "b_intensities = iw.HBox([w_ibars])\n",
    "ui = iw.VBox([b_size, b_frequency, b_intensities])\n",
    "\n",
    "# Function for showing stim\n",
    "def show_grating(\n",
    "    length=None,\n",
    "    ppd=None,\n",
    "    frequency=None,\n",
    "    intensities=None,\n",
    "    period=\"ignore\",\n",
    "):\n",
    "    stim = square_wave(\n",
    "        visual_size=(length, length),\n",
    "        ppd=ppd,\n",
    "        frequency=frequency,\n",
    "        intensities=intensities,\n",
    "        period=period,\n",
    "    )\n",
    "    plot_stim(stim, mask=False)\n",
    "\n",
    "# Set interactivity\n",
    "out = iw.interactive_output(\n",
    "    show_grating,\n",
    "    {\n",
    "        \"length\": w_length,\n",
    "        \"ppd\": w_ppd,\n",
    "        \"frequency\": w_frequency,\n",
    "        \"intensities\": w_ibars,\n",
    "        \"period\": w_period,\n",
    "    },\n",
    ")\n",
    "\n",
    "# Show\n",
    "display(ui, out)"
   ]
  }
 ],
 "metadata": {
  "kernelspec": {
   "display_name": "Python 3.10.5 64-bit ('stimuli-dev')",
   "language": "python",
   "name": "python3"
  },
  "language_info": {
   "codemirror_mode": {
    "name": "ipython",
    "version": 3
   },
   "file_extension": ".py",
   "mimetype": "text/x-python",
   "name": "python",
   "nbconvert_exporter": "python",
   "pygments_lexer": "ipython3",
   "version": "3.10.5"
  },
  "orig_nbformat": 4,
  "vscode": {
   "interpreter": {
    "hash": "d79f930315d22092267204fc095ece7b80c939bb23fde6f7397d8c6352112825"
   }
  }
 },
 "nbformat": 4,
 "nbformat_minor": 2
}
