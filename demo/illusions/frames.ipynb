{
 "cells": [
  {
   "cell_type": "markdown",
   "metadata": {},
   "source": [
    "# Square frames"
   ]
  },
  {
   "cell_type": "code",
   "execution_count": null,
   "metadata": {},
   "outputs": [],
   "source": [
    "import matplotlib.pyplot as plt\n",
    "import numpy as np\n",
    "\n",
    "import IPython\n",
    "import ipywidgets as iw\n",
    "from stimuli.utils import plot_stim"
   ]
  },
  {
   "cell_type": "markdown",
   "metadata": {},
   "source": [
    "## Frames (as grating)"
   ]
  },
  {
   "cell_type": "code",
   "execution_count": null,
   "metadata": {},
   "outputs": [],
   "source": [
    "from stimuli.components.frame import frames\n",
    "help(frames)\n",
    "\n",
    "# Define widgets\n",
    "w_length = iw.IntSlider(value=4, min=1, max=10, description=\"heigh/width [deg]\")\n",
    "w_ppd = iw.IntSlider(value=32, min=1, max=64, description=\"ppd\")\n",
    "\n",
    "w_frequency = iw.FloatSlider(value=2.0, min=0.1, max=3.0, description=\"frequency [cpd]\")\n",
    "w_period = iw.ToggleButtons(options=['ignore', 'full', 'half'], value='ignore', button_style='', description=\"ensure period\")\n",
    "\n",
    "w_iframes = iw.FloatRangeSlider(value=[0.0, 1.0], min=0.0, max=1.0, step=0.1, description=\"intensities\")\n",
    "\n",
    "# Layout\n",
    "b_size = iw.HBox([w_length, w_ppd])\n",
    "b_frequency = iw.VBox([w_frequency, w_period])\n",
    "b_intensities = iw.HBox([w_iframes])\n",
    "ui = iw.VBox([b_size, b_frequency, b_intensities])\n",
    "\n",
    "# Function for showing stim\n",
    "def show_frames(\n",
    "    length=None,\n",
    "    ppd=None,\n",
    "    frequency=None,\n",
    "    intensity_frames=None,\n",
    "    period=\"ignore\",\n",
    "):\n",
    "    stim = frames(\n",
    "        visual_size=(length, length),\n",
    "        ppd=ppd,\n",
    "        frequency=frequency,\n",
    "        intensity_frames=intensity_frames,\n",
    "        period=period,\n",
    "    )\n",
    "    plot_stim(stim, mask=False)\n",
    "\n",
    "# Set interactivity\n",
    "out = iw.interactive_output(\n",
    "    show_frames,\n",
    "    {\n",
    "        \"length\": w_length,\n",
    "        \"ppd\": w_ppd,\n",
    "        \"frequency\": w_frequency,\n",
    "        \"intensity_frames\": w_iframes,\n",
    "        \"period\": w_period,\n",
    "    },\n",
    ")\n",
    "\n",
    "# Show\n",
    "display(ui, out)"
   ]
  },
  {
   "cell_type": "markdown",
   "metadata": {},
   "source": [
    "## illusions.frames"
   ]
  },
  {
   "cell_type": "code",
   "execution_count": null,
   "metadata": {},
   "outputs": [],
   "source": [
    "from stimuli.illusions.frames import frames\n",
    "help(frames)\n",
    "\n",
    "# Define widgets\n",
    "w_length = iw.IntSlider(value=4, min=1, max=10, description=\"heigh/width [deg]\")\n",
    "w_ppd = iw.IntSlider(value=32, min=1, max=64, description=\"ppd\")\n",
    "\n",
    "w_frequency = iw.FloatSlider(value=2.0, min=0.1, max=3.0, description=\"frequency [cpd]\")\n",
    "w_period = iw.ToggleButtons(options=['ignore', 'full', 'half'], value='ignore', button_style='', description=\"ensure period\")\n",
    "\n",
    "w_tidx = iw.IntSlider(value=2, min=1, max=20, description=\"idx target\")\n",
    "\n",
    "w_iframes = iw.FloatRangeSlider(value=[0.0, 1.0], min=0.0, max=1.0, step=0.1, description=\"intensities\")\n",
    "w_itarget = iw.FloatSlider(value=0.5, min=0., max=1.0, description=\"intensity target\")\n",
    "\n",
    "\n",
    "# Layout\n",
    "b_size = iw.HBox([w_length, w_ppd])\n",
    "b_frequency = iw.VBox([w_frequency, w_period])\n",
    "b_intensities = iw.HBox([w_iframes, w_itarget])\n",
    "ui = iw.VBox([b_size, b_frequency, w_tidx, b_intensities])\n",
    "\n",
    "# Function for showing stim\n",
    "def show_frames(\n",
    "    length=None,\n",
    "    ppd=None,\n",
    "    frequency=None,\n",
    "    intensity_frames=None,\n",
    "    period=\"ignore\",\n",
    "    target_indices=2,\n",
    "    intensity_target=0.5\n",
    "):\n",
    "    stim = frames(\n",
    "        visual_size=(length, length),\n",
    "        ppd=ppd,\n",
    "        frequency=frequency,\n",
    "        intensity_frames=intensity_frames,\n",
    "        period=period,\n",
    "        target_indices=target_indices,\n",
    "        intensity_target=intensity_target,\n",
    "    )\n",
    "    plot_stim(stim, mask=False)\n",
    "\n",
    "# Set interactivity\n",
    "out = iw.interactive_output(\n",
    "    show_frames,\n",
    "    {\n",
    "        \"length\": w_length,\n",
    "        \"ppd\": w_ppd,\n",
    "        \"frequency\": w_frequency,\n",
    "        \"period\": w_period,\n",
    "        \"intensity_frames\": w_iframes,\n",
    "        \"target_indices\": w_tidx,\n",
    "        \"intensity_target\": w_itarget\n",
    "    },\n",
    ")\n",
    "\n",
    "# Show\n",
    "display(ui, out)"
   ]
  }
 ],
 "metadata": {
  "kernelspec": {
   "display_name": "Python 3.10.5 64-bit ('stimuli-dev')",
   "language": "python",
   "name": "python3"
  },
  "language_info": {
   "codemirror_mode": {
    "name": "ipython",
    "version": 3
   },
   "file_extension": ".py",
   "mimetype": "text/x-python",
   "name": "python",
   "nbconvert_exporter": "python",
   "pygments_lexer": "ipython3",
   "version": "3.10.5"
  },
  "orig_nbformat": 4,
  "vscode": {
   "interpreter": {
    "hash": "d79f930315d22092267204fc095ece7b80c939bb23fde6f7397d8c6352112825"
   }
  }
 },
 "nbformat": 4,
 "nbformat_minor": 2
}
