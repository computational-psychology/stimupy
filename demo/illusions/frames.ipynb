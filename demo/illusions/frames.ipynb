{
 "cells": [
  {
   "cell_type": "markdown",
   "metadata": {},
   "source": [
    "# Square frames"
   ]
  },
  {
   "cell_type": "code",
   "execution_count": 1,
   "metadata": {},
   "outputs": [],
   "source": [
    "import matplotlib.pyplot as plt\n",
    "import numpy as np\n",
    "\n",
    "import IPython\n",
    "import ipywidgets as iw\n",
    "from stimuli.utils import plot_stim"
   ]
  },
  {
   "cell_type": "markdown",
   "metadata": {},
   "source": [
    "## Frames (as grating)"
   ]
  },
  {
   "cell_type": "code",
   "execution_count": 2,
   "metadata": {},
   "outputs": [
    {
     "name": "stdout",
     "output_type": "stream",
     "text": [
      "Help on function frames in module stimuli.components.frame:\n",
      "\n",
      "frames(shape=None, visual_size=None, ppd=None, frequency=None, n_frames=None, frame_width=None, period='ignore', intensity_frames=(0.0, 1.0))\n",
      "    Draw set of square frames, at given spatial frequency\n",
      "    \n",
      "    Parameters\n",
      "    ----------\n",
      "    shape : Sequence[Number, Number], Number, or None (default)\n",
      "        shape [height, width] of image, in pixels\n",
      "    visual_size : Sequence[Number, Number], Number, or None (default)\n",
      "        visual size [height, width] of image, in degrees\n",
      "    ppd : Sequence[Number, Number], Number, or None (default)\n",
      "        pixels per degree [vertical, horizontal]\n",
      "    frequency : Number, or None (default)\n",
      "        spatial frequency of grating, in cycles per degree visual angle\n",
      "    n_frames : int, or None (default)\n",
      "        number of frames in the grating\n",
      "    frame_width : Number, or None (default)\n",
      "        width of a single frame, in degrees visual angle\n",
      "    period : \"full\", \"half\", \"ignore\" (default)\n",
      "        whether to ensure the grating only has \"full\" periods,\n",
      "        half \"periods\", or no guarantees (\"ignore\")\n",
      "    intensity_bars : Sequence[float, ...]\n",
      "        intensity value for each bar, by default [1.0, 0.0].\n",
      "        Can specify as many intensities as n_bars;\n",
      "        If fewer intensities are passed than n_bars, cycles through intensities\n",
      "    \n",
      "    Returns\n",
      "    ----------\n",
      "    dict[str, Any]\n",
      "        dict with the stimulus (key: \"img\"),\n",
      "        mask with integer index for each target (key: \"mask\"),\n",
      "        and additional keys containing stimulus parameters\n",
      "\n"
     ]
    },
    {
     "data": {
      "application/vnd.jupyter.widget-view+json": {
       "model_id": "c571a35e46184c4980aebcd420af37de",
       "version_major": 2,
       "version_minor": 0
      },
      "text/plain": [
       "VBox(children=(HBox(children=(IntSlider(value=4, description='heigh/width [deg]', max=10, min=1), IntSlider(va…"
      ]
     },
     "metadata": {},
     "output_type": "display_data"
    },
    {
     "data": {
      "application/vnd.jupyter.widget-view+json": {
       "model_id": "803912e289ac4c5495acb042fb0c3338",
       "version_major": 2,
       "version_minor": 0
      },
      "text/plain": [
       "Output()"
      ]
     },
     "metadata": {},
     "output_type": "display_data"
    }
   ],
   "source": [
    "from stimuli.components.frame import frames\n",
    "help(frames)\n",
    "\n",
    "# Define widgets\n",
    "w_length = iw.IntSlider(value=4, min=1, max=10, description=\"heigh/width [deg]\")\n",
    "w_ppd = iw.IntSlider(value=32, min=1, max=64, description=\"ppd\")\n",
    "\n",
    "w_frequency = iw.FloatSlider(value=2.0, min=0.1, max=3.0, description=\"frequency [cpd]\")\n",
    "w_period = iw.ToggleButtons(options=['ignore', 'full', 'half'], value='ignore', button_style='', description=\"ensure period\")\n",
    "\n",
    "w_iframes = iw.FloatRangeSlider(value=[0.0, 1.0], min=0.0, max=1.0, step=0.1, description=\"intensities\")\n",
    "\n",
    "# Layout\n",
    "b_size = iw.HBox([w_length, w_ppd])\n",
    "b_frequency = iw.VBox([w_frequency, w_period])\n",
    "b_intensities = iw.HBox([w_iframes])\n",
    "ui = iw.VBox([b_size, b_frequency, b_intensities])\n",
    "\n",
    "# Function for showing stim\n",
    "def show_frames(\n",
    "    length=None,\n",
    "    ppd=None,\n",
    "    frequency=None,\n",
    "    intensity_frames=None,\n",
    "    period=\"ignore\",\n",
    "):\n",
    "    stim = frames(\n",
    "        visual_size=(length, length),\n",
    "        ppd=ppd,\n",
    "        frequency=frequency,\n",
    "        intensity_frames=intensity_frames,\n",
    "        period=period,\n",
    "    )\n",
    "    plot_stim(stim, mask=False)\n",
    "\n",
    "# Set interactivity\n",
    "out = iw.interactive_output(\n",
    "    show_frames,\n",
    "    {\n",
    "        \"length\": w_length,\n",
    "        \"ppd\": w_ppd,\n",
    "        \"frequency\": w_frequency,\n",
    "        \"intensity_frames\": w_iframes,\n",
    "        \"period\": w_period,\n",
    "    },\n",
    ")\n",
    "\n",
    "# Show\n",
    "display(ui, out)"
   ]
  },
  {
   "cell_type": "markdown",
   "metadata": {},
   "source": [
    "## illusions.frames"
   ]
  },
  {
   "cell_type": "code",
   "execution_count": 3,
   "metadata": {},
   "outputs": [
    {
     "name": "stdout",
     "output_type": "stream",
     "text": [
      "Help on function frames in module stimuli.illusions.frames:\n",
      "\n",
      "frames(shape=None, visual_size=None, ppd=None, frequency=None, n_frames=None, frame_width=None, period='ignore', intensity_frames=(0.0, 1.0), target_indices=(), intensity_target=0.5)\n",
      "    Draw set of square frames, with some frame(s) as target\n",
      "    \n",
      "    Parameters\n",
      "    ----------\n",
      "    shape : Sequence[Number, Number], Number, or None (default)\n",
      "        shape [height, width] of image, in pixels\n",
      "    visual_size : Sequence[Number, Number], Number, or None (default)\n",
      "        visual size [height, width] of image, in degrees\n",
      "    ppd : Sequence[Number, Number], Number, or None (default)\n",
      "        pixels per degree [vertical, horizontal]\n",
      "    frequency : Number, or None (default)\n",
      "        spatial frequency of grating, in cycles per degree visual angle\n",
      "    n_frames : int, or None (default)\n",
      "        number of frames in the grating\n",
      "    frame_width : Number, or None (default)\n",
      "        width of a single frame, in degrees visual angle\n",
      "    period : \"full\", \"half\", \"ignore\" (default)\n",
      "        whether to ensure the grating only has \"full\" periods,\n",
      "        half \"periods\", or no guarantees (\"ignore\")\n",
      "    intensity_bars : Sequence[float, ...]\n",
      "        intensity value for each bar, by default [1.0, 0.0].\n",
      "        Can specify as many intensities as n_bars;\n",
      "        If fewer intensities are passed than n_bars, cycles through intensities\n",
      "    target_indices : int, or Sequence[int, ...]\n",
      "        indices frames where targets will be placed\n",
      "    intensity_target : float, or Sequence[float, ...], optional\n",
      "        intensity value for each target, by default 0.5.\n",
      "        Can specify as many intensities as number of target_indices;\n",
      "        If fewer intensities are passed than target_indices, cycles through intensities\n",
      "    \n",
      "    Returns\n",
      "    ----------\n",
      "    dict[str, Any]\n",
      "        dict with the stimulus (key: \"img\"),\n",
      "        mask with integer index for each target (key: \"mask\"),\n",
      "        and additional keys containing stimulus parameters\n",
      "\n"
     ]
    },
    {
     "data": {
      "application/vnd.jupyter.widget-view+json": {
       "model_id": "6b648001e8234487895e987d710f3acc",
       "version_major": 2,
       "version_minor": 0
      },
      "text/plain": [
       "VBox(children=(HBox(children=(IntSlider(value=4, description='heigh/width [deg]', max=10, min=1), IntSlider(va…"
      ]
     },
     "metadata": {},
     "output_type": "display_data"
    },
    {
     "data": {
      "application/vnd.jupyter.widget-view+json": {
       "model_id": "8e5a62b33fec4dd0b5154a50ca5da2eb",
       "version_major": 2,
       "version_minor": 0
      },
      "text/plain": [
       "Output()"
      ]
     },
     "metadata": {},
     "output_type": "display_data"
    }
   ],
   "source": [
    "from stimuli.illusions.frames import frames\n",
    "help(frames)\n",
    "\n",
    "# Define widgets\n",
    "w_length = iw.IntSlider(value=4, min=1, max=10, description=\"heigh/width [deg]\")\n",
    "w_ppd = iw.IntSlider(value=32, min=1, max=64, description=\"ppd\")\n",
    "\n",
    "w_frequency = iw.FloatSlider(value=2.0, min=0.1, max=3.0, description=\"frequency [cpd]\")\n",
    "w_period = iw.ToggleButtons(options=['ignore', 'full', 'half'], value='ignore', button_style='', description=\"ensure period\")\n",
    "\n",
    "w_tidx = iw.IntSlider(value=2, min=1, max=20, description=\"idx target\")\n",
    "\n",
    "w_iframes = iw.FloatRangeSlider(value=[0.0, 1.0], min=0.0, max=1.0, step=0.1, description=\"intensities\")\n",
    "w_itarget = iw.FloatSlider(value=0.5, min=0., max=1.0, description=\"intensity target\")\n",
    "\n",
    "\n",
    "# Layout\n",
    "b_size = iw.HBox([w_length, w_ppd])\n",
    "b_frequency = iw.VBox([w_frequency, w_period])\n",
    "b_intensities = iw.HBox([w_iframes, w_itarget])\n",
    "ui = iw.VBox([b_size, b_frequency, w_tidx, b_intensities])\n",
    "\n",
    "# Function for showing stim\n",
    "def show_frames(\n",
    "    length=None,\n",
    "    ppd=None,\n",
    "    frequency=None,\n",
    "    intensity_frames=None,\n",
    "    period=\"ignore\",\n",
    "    target_indices=2,\n",
    "    intensity_target=0.5\n",
    "):\n",
    "    stim = frames(\n",
    "        visual_size=(length, length),\n",
    "        ppd=ppd,\n",
    "        frequency=frequency,\n",
    "        intensity_frames=intensity_frames,\n",
    "        period=period,\n",
    "        target_indices=target_indices,\n",
    "        intensity_target=intensity_target,\n",
    "    )\n",
    "    plot_stim(stim, mask=False)\n",
    "\n",
    "# Set interactivity\n",
    "out = iw.interactive_output(\n",
    "    show_frames,\n",
    "    {\n",
    "        \"length\": w_length,\n",
    "        \"ppd\": w_ppd,\n",
    "        \"frequency\": w_frequency,\n",
    "        \"period\": w_period,\n",
    "        \"intensity_frames\": w_iframes,\n",
    "        \"target_indices\": w_tidx,\n",
    "        \"intensity_target\": w_itarget\n",
    "    },\n",
    ")\n",
    "\n",
    "# Show\n",
    "display(ui, out)"
   ]
  },
  {
   "cell_type": "markdown",
   "metadata": {},
   "source": [
    "## ilusions.bullseye"
   ]
  },
  {
   "cell_type": "code",
   "execution_count": 4,
   "metadata": {},
   "outputs": [
    {
     "name": "stdout",
     "output_type": "stream",
     "text": [
      "Help on function bullseye in module stimuli.illusions.frames:\n",
      "\n",
      "bullseye(shape=None, visual_size=None, ppd=None, frequency=None, n_frames=None, frame_width=None, period='ignore', intensity_frames=(0.0, 1.0), target_indices=(), intensity_target=0.5)\n",
      "    Square \"bullseye\", i.e., set of rings with target in center\n",
      "    \n",
      "    Essentially frames(target_indices=1)\n",
      "    \n",
      "    Parameters\n",
      "    ----------\n",
      "    shape : Sequence[Number, Number], Number, or None (default)\n",
      "        shape [height, width] of image, in pixels\n",
      "    visual_size : Sequence[Number, Number], Number, or None (default)\n",
      "        visual size [height, width] of image, in degrees\n",
      "    ppd : Sequence[Number, Number], Number, or None (default)\n",
      "        pixels per degree [vertical, horizontal]\n",
      "    frequency : Number, or None (default)\n",
      "        spatial frequency of grating, in cycles per degree visual angle\n",
      "    n_frames : int, or None (default)\n",
      "        number of frames in the grating\n",
      "    frame_width : Number, or None (default)\n",
      "        width of a single frame, in degrees visual angle\n",
      "    period : \"full\", \"half\", \"ignore\" (default)\n",
      "        whether to ensure the grating only has \"full\" periods,\n",
      "        half \"periods\", or no guarantees (\"ignore\")\n",
      "    intensity_bars : Sequence[float, ...]\n",
      "        intensity value for each bar, by default [1.0, 0.0].\n",
      "        Can specify as many intensities as n_bars;\n",
      "        If fewer intensities are passed than n_bars, cycles through intensities\n",
      "    intensity_target : float, or Sequence[float, ...], optional\n",
      "        intensity value for each target, by default 0.5.\n",
      "        Can specify as many intensities as number of target_indices;\n",
      "        If fewer intensities are passed than target_indices, cycles through intensities\n",
      "    \n",
      "    Returns\n",
      "    ----------\n",
      "    dict[str, Any]\n",
      "        dict with the stimulus (key: \"img\"),\n",
      "        mask with integer index for each target (key: \"mask\"),\n",
      "        and additional keys containing stimulus parameters\n",
      "\n"
     ]
    },
    {
     "data": {
      "application/vnd.jupyter.widget-view+json": {
       "model_id": "9632db0577cb465aad40495358538d10",
       "version_major": 2,
       "version_minor": 0
      },
      "text/plain": [
       "VBox(children=(HBox(children=(IntSlider(value=4, description='heigh/width [deg]', max=10, min=1), IntSlider(va…"
      ]
     },
     "metadata": {},
     "output_type": "display_data"
    },
    {
     "data": {
      "application/vnd.jupyter.widget-view+json": {
       "model_id": "690b3f4f5b484d9d8aad3f032e4d0032",
       "version_major": 2,
       "version_minor": 0
      },
      "text/plain": [
       "Output()"
      ]
     },
     "metadata": {},
     "output_type": "display_data"
    }
   ],
   "source": [
    "from stimuli.illusions.frames import bullseye\n",
    "help(bullseye)\n",
    "\n",
    "# Define widgets\n",
    "w_length = iw.IntSlider(value=4, min=1, max=10, description=\"heigh/width [deg]\")\n",
    "w_ppd = iw.IntSlider(value=32, min=1, max=64, description=\"ppd\")\n",
    "\n",
    "w_frequency = iw.FloatSlider(value=2.0, min=0.1, max=3.0, description=\"frequency [cpd]\")\n",
    "w_period = iw.ToggleButtons(options=['ignore', 'full', 'half'], value='ignore', button_style='', description=\"ensure period\")\n",
    "\n",
    "w_iframes = iw.FloatRangeSlider(value=[0.0, 1.0], min=0.0, max=1.0, step=0.1, description=\"intensities\")\n",
    "w_itarget = iw.FloatSlider(value=0.5, min=0., max=1.0, description=\"intensity target\")\n",
    "\n",
    "\n",
    "# Layout\n",
    "b_size = iw.HBox([w_length, w_ppd])\n",
    "b_frequency = iw.VBox([w_frequency, w_period])\n",
    "b_intensities = iw.HBox([w_iframes, w_itarget])\n",
    "ui = iw.VBox([b_size, b_frequency, b_intensities])\n",
    "\n",
    "# Function for showing stim\n",
    "def show_bullseye(\n",
    "    length=None,\n",
    "    ppd=None,\n",
    "    frequency=None,\n",
    "    intensity_frames=None,\n",
    "    period=\"ignore\",\n",
    "    intensity_target=0.5\n",
    "):\n",
    "    stim = bullseye(\n",
    "        visual_size=(length, length),\n",
    "        ppd=ppd,\n",
    "        frequency=frequency,\n",
    "        intensity_frames=intensity_frames,\n",
    "        period=period,\n",
    "        intensity_target=intensity_target,\n",
    "    )\n",
    "    plot_stim(stim, mask=False)\n",
    "\n",
    "# Set interactivity\n",
    "out = iw.interactive_output(\n",
    "    show_bullseye,\n",
    "    {\n",
    "        \"length\": w_length,\n",
    "        \"ppd\": w_ppd,\n",
    "        \"frequency\": w_frequency,\n",
    "        \"period\": w_period,\n",
    "        \"intensity_frames\": w_iframes,\n",
    "        \"intensity_target\": w_itarget\n",
    "    },\n",
    ")\n",
    "\n",
    "# Show\n",
    "display(ui, out)"
   ]
  }
 ],
 "metadata": {
  "kernelspec": {
   "display_name": "Python 3.10.5 64-bit ('stimuli-dev')",
   "language": "python",
   "name": "python3"
  },
  "language_info": {
   "codemirror_mode": {
    "name": "ipython",
    "version": 3
   },
   "file_extension": ".py",
   "mimetype": "text/x-python",
   "name": "python",
   "nbconvert_exporter": "python",
   "pygments_lexer": "ipython3",
   "version": "3.10.5"
  },
  "orig_nbformat": 4,
  "vscode": {
   "interpreter": {
    "hash": "d79f930315d22092267204fc095ece7b80c939bb23fde6f7397d8c6352112825"
   }
  }
 },
 "nbformat": 4,
 "nbformat_minor": 2
}
