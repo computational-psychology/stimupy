{
 "cells": [
  {
   "cell_type": "code",
   "execution_count": null,
   "metadata": {},
   "outputs": [],
   "source": [
    "import itertools\n",
    "import pandas as pd\n",
    "import matplotlib.pyplot as plt\n",
    "import numpy as np\n",
    "\n",
    "import IPython\n",
    "import ipywidgets as iw\n",
    "from stimuli.utils import plot_stimuli, plot_stim"
   ]
  },
  {
   "cell_type": "markdown",
   "metadata": {},
   "source": [
    "# white_generalized\n",
    "\n",
    "General version of the White stimulus with flexible number of targets and target placement."
   ]
  },
  {
   "cell_type": "code",
   "execution_count": null,
   "metadata": {},
   "outputs": [],
   "source": [
    "from stimuli.illusions.whites import white_generalized"
   ]
  },
  {
   "cell_type": "markdown",
   "metadata": {},
   "source": [
    "## Parameterization"
   ]
  },
  {
   "cell_type": "code",
   "execution_count": null,
   "metadata": {},
   "outputs": [],
   "source": [
    "params = {\n",
    "    \"visual_size\": (8., 8.),\n",
    "    \"ppd\": 10.0,\n",
    "    \"frequency\": 0.5,\n",
    "    \"target_indices\": (2, 5),\n",
    "    \"target_center_offsets\": 0,\n",
    "    \"target_heights\": 2.,\n",
    "    \"intensity_bars\": (0., 1.),\n",
    "    \"intensity_target\": 0.5,\n",
    "    \"period\": \"ignore\"\n",
    "}\n",
    "    \n",
    "stim = white_generalized(**params)\n",
    "plot_stim(stim)\n",
    "plt.show()"
   ]
  },
  {
   "cell_type": "markdown",
   "metadata": {},
   "source": [
    "The main advantage of `white_generalized()` is that you can add as many targets as you like by adding values to the lists that you pass to `target_indices`.\n",
    "In addition, you can define the vertical distance from the center of the stimulus for each target by adding values to `target_center_offsets`, and change their individual sizes by adding values to `target_heights`.\n",
    "\n",
    "Keep in mind that the number of elements for each of those input variables needs be 1 or you need to have as many elements as you want to have targets."
   ]
  },
  {
   "cell_type": "code",
   "execution_count": null,
   "metadata": {},
   "outputs": [],
   "source": [
    "params = {\n",
    "    \"visual_size\": (8., 8.),\n",
    "    \"ppd\": 10.0,\n",
    "    \"frequency\": 0.5,\n",
    "    \"intensity_bars\": (0., 1.),\n",
    "    \"intensity_target\": 0.5,\n",
    "    \"period\": \"ignore\"\n",
    "}\n",
    "stim1 = white_generalized(**params,\n",
    "                          target_indices=(1, 3, 5, -2, -4, -6),\n",
    "                          target_center_offsets=(-1.5, -1.5, -1.5, 1.5, 1.5, 1.5),\n",
    "                          target_heights=1.5)\n",
    "\n",
    "stim2 = white_generalized(**params,\n",
    "                          target_indices=(1, 2, 3, 4, 5, 6),\n",
    "                          target_center_offsets=(-3., -2., -1, -0., 1., 2.),\n",
    "                          target_heights=(0.25, 0.5, 1., 1.5, 2., 3))\n",
    "\n",
    "plot_stimuli({\"Example 1:\": stim1, \"Example 2:\": stim2})\n",
    "plt.show()"
   ]
  },
  {
   "cell_type": "markdown",
   "metadata": {},
   "source": [
    "## Interactive"
   ]
  },
  {
   "cell_type": "code",
   "execution_count": null,
   "metadata": {},
   "outputs": [],
   "source": [
    "# Define widgets\n",
    "w_height = iw.IntSlider(value=10, min=5, max=16, description=\"height [deg]\")\n",
    "w_width = iw.IntSlider(value=10, min=5, max=16, description=\"width [deg]\")\n",
    "w_ppd = iw.IntSlider(value=10, min=1, max=30, description=\"ppd\")\n",
    "w_size = iw.HBox([w_height, w_width, w_ppd])\n",
    "\n",
    "w_freq = iw.FloatSlider(value=0.5, min=0.1, max=2.0, description=\"frequency\")\n",
    "\n",
    "w_tsize = iw.FloatSlider(value=2., min=0.5, max=6.0, description=\"target height\")\n",
    "w_toff = iw.FloatSlider(value=0., min=-3, max=3, description=\"target center offset\")\n",
    "w_target = iw.HBox([w_tsize, w_toff])\n",
    "\n",
    "w_ibar1 = iw.FloatSlider(value=0.0, min=0., max=1.0, description=\"intensity background\")\n",
    "w_ibar2 = iw.FloatSlider(value=1.0, min=0., max=1.0, description=\"intensity covers\")\n",
    "w_itarget = iw.FloatSlider(value=0.5, min=0., max=1.0, description=\"intensity target\")\n",
    "w_intensities = iw.HBox([w_ibar1, w_ibar2, w_itarget])\n",
    "\n",
    "ui = iw.VBox([w_size, w_freq, w_target, w_intensities])\n",
    "\n",
    "def show_white(\n",
    "    height=None,\n",
    "    width=None,\n",
    "    ppd=None,\n",
    "    frequency=None,\n",
    "    target_heights=None,\n",
    "    target_center_offsets=None,\n",
    "    intensity_bar1=None,\n",
    "    intensity_bar2=None,\n",
    "    intensity_target=None,\n",
    "):\n",
    "\n",
    "    stim = white_generalized(\n",
    "        visual_size=(height, width),\n",
    "        ppd=ppd,\n",
    "        frequency=frequency,\n",
    "        target_indices=3,\n",
    "        target_heights=target_heights,\n",
    "        target_center_offsets=target_center_offsets,\n",
    "        intensity_bars=(intensity_bar1, intensity_bar2),\n",
    "        intensity_target=intensity_target,\n",
    "        period=\"ignore\",\n",
    "    )\n",
    "    plot_stim(stim)\n",
    "\n",
    "\n",
    "out = iw.interactive_output(show_white,\n",
    "                            {\n",
    "                                \"height\": w_height,\n",
    "                                \"width\": w_width,\n",
    "                                \"ppd\": w_ppd,\n",
    "                                \"frequency\": w_freq,\n",
    "                                \"target_heights\": w_tsize,\n",
    "                                \"target_center_offsets\": w_toff,\n",
    "                                \"intensity_bar1\": w_ibar1,\n",
    "                                \"intensity_bar2\": w_ibar2,\n",
    "                                \"intensity_target\": w_itarget,\n",
    "                            })\n",
    "\n",
    "display(ui, out)\n"
   ]
  },
  {
   "cell_type": "markdown",
   "metadata": {},
   "source": [
    "# white\n",
    "\n",
    "This function is the same as `white_generalized()` with the only exception that the targets are always placed in the vertical center."
   ]
  },
  {
   "cell_type": "code",
   "execution_count": null,
   "metadata": {},
   "outputs": [],
   "source": [
    "from stimuli.illusions.whites import white"
   ]
  },
  {
   "cell_type": "markdown",
   "metadata": {},
   "source": [
    "## Parameterization"
   ]
  },
  {
   "cell_type": "code",
   "execution_count": null,
   "metadata": {},
   "outputs": [],
   "source": [
    "params = {\n",
    "    \"visual_size\": (8., 8.),\n",
    "    \"ppd\": 10.0,\n",
    "    \"frequency\": 0.5,\n",
    "    \"target_indices\": (2, 5),\n",
    "    \"target_height\": 2.,\n",
    "    \"intensity_bars\": (0., 1.),\n",
    "    \"intensity_target\": 0.5,\n",
    "    \"period\": \"ignore\"\n",
    "}\n",
    "    \n",
    "stim = white(**params)\n",
    "plot_stim(stim)\n",
    "plt.show()"
   ]
  },
  {
   "cell_type": "markdown",
   "metadata": {},
   "source": [
    "# white_two_rows\n",
    "This function is the same as `white_generalized()` with the exception that the user can define top and bottom target indices seperately (using `target_indices_top` and `target_indices_bottom`) given a `target_center_offset`."
   ]
  },
  {
   "cell_type": "code",
   "execution_count": null,
   "metadata": {},
   "outputs": [],
   "source": [
    "from stimuli.illusions.whites import white_two_rows"
   ]
  },
  {
   "cell_type": "markdown",
   "metadata": {},
   "source": [
    "## Parameterization"
   ]
  },
  {
   "cell_type": "code",
   "execution_count": null,
   "metadata": {},
   "outputs": [],
   "source": [
    "params = {\n",
    "    \"visual_size\": (8., 8.),\n",
    "    \"ppd\": 10.0,\n",
    "    \"frequency\": 0.5,\n",
    "    \"target_indices_top\": (1, 3),\n",
    "    \"target_indices_bottom\": (4, 6),\n",
    "    \"target_center_offset\": 1.,\n",
    "    \"target_height\": 1.,\n",
    "    \"intensity_bars\": (0., 1.),\n",
    "    \"intensity_target\": 0.5,\n",
    "    \"period\": \"ignore\"\n",
    "}\n",
    "    \n",
    "stim = white_two_rows(**params)\n",
    "plot_stim(stim)\n",
    "plt.show()"
   ]
  },
  {
   "cell_type": "markdown",
   "metadata": {},
   "source": [
    "# white_anderson\n",
    "\n",
    "Anderson variation of White's stimulus with default target placement.\n",
    "Similar use as `white_two_rows()` but with additional variables for stripes (`stripe_height`, `stripe_center_offset` and `intensity_stripes`)"
   ]
  },
  {
   "cell_type": "code",
   "execution_count": null,
   "metadata": {},
   "outputs": [],
   "source": [
    "from stimuli.illusions.whites import white_anderson"
   ]
  },
  {
   "cell_type": "markdown",
   "metadata": {},
   "source": [
    "## Parameterization"
   ]
  },
  {
   "cell_type": "code",
   "execution_count": null,
   "metadata": {},
   "outputs": [],
   "source": [
    "params = {\n",
    "    \"visual_size\": (10., 10.),\n",
    "    \"ppd\": 10.0,\n",
    "    \"frequency\": 0.5,\n",
    "    \"target_indices_top\": 3,\n",
    "    \"target_indices_bottom\": -4,\n",
    "    \"target_center_offset\": 2.,\n",
    "    \"target_height\": 2.,\n",
    "    \"intensity_bars\": (0., 1.),\n",
    "    \"intensity_target\": 0.5,\n",
    "    \"period\": \"ignore\",\n",
    "    \"stripe_height\": 2.,\n",
    "    \"stripe_center_offset\": 3.,\n",
    "    \"intensity_stripes\": (0., 1.),\n",
    "}\n",
    "    \n",
    "stim = white_anderson(**params)\n",
    "plot_stim(stim)\n",
    "plt.show()"
   ]
  },
  {
   "cell_type": "code",
   "execution_count": null,
   "metadata": {},
   "outputs": [],
   "source": [
    "params = {\n",
    "    \"visual_size\": (10., 10.),\n",
    "    \"ppd\": 10.0,\n",
    "    \"frequency\": 0.5,\n",
    "    \"target_indices_top\": 3,\n",
    "    \"target_indices_bottom\": -4,\n",
    "    \"target_height\": 2.,\n",
    "    \"intensity_bars\": (0., 1.),\n",
    "    \"intensity_target\": 0.5,\n",
    "    \"period\": \"ignore\",\n",
    "    \"intensity_stripes\": (0., 1.),\n",
    "}\n",
    "    \n",
    "stim1 = white_anderson(**params,\n",
    "                       target_center_offset=3.,\n",
    "                       stripe_height=3.,\n",
    "                       stripe_center_offset=2.)\n",
    "\n",
    "stim2 = white_anderson(**params,\n",
    "                       target_center_offset=2.,\n",
    "                       stripe_height=1.,\n",
    "                       stripe_center_offset=2.)\n",
    "\n",
    "\n",
    "plot_stimuli({\"Example 1:\": stim1, \"Example 2:\": stim2})\n",
    "plt.show()"
   ]
  },
  {
   "cell_type": "markdown",
   "metadata": {},
   "source": [
    "# white_howe\n",
    "\n",
    "Howe variation of White's stimulus with default target placement.\n",
    "Same use as `white_anderson()` but with `stripe_height=target_height` and `stripe_center_offset=target_center_offset`."
   ]
  },
  {
   "cell_type": "code",
   "execution_count": null,
   "metadata": {},
   "outputs": [],
   "source": [
    "from stimuli.illusions.whites import white_howe"
   ]
  },
  {
   "cell_type": "markdown",
   "metadata": {},
   "source": [
    "## Parameterization"
   ]
  },
  {
   "cell_type": "code",
   "execution_count": null,
   "metadata": {},
   "outputs": [],
   "source": [
    "params = {\n",
    "    \"visual_size\": (10., 10.),\n",
    "    \"ppd\": 10.0,\n",
    "    \"frequency\": 0.5,\n",
    "    \"target_indices_top\": 3,\n",
    "    \"target_indices_bottom\": -4,\n",
    "    \"target_center_offset\": 2.,\n",
    "    \"target_height\": 2.,\n",
    "    \"intensity_bars\": (0., 1.),\n",
    "    \"intensity_target\": 0.5,\n",
    "    \"period\": \"ignore\",\n",
    "    \"intensity_stripes\": (0., 1.),\n",
    "}\n",
    "    \n",
    "stim = white_howe(**params)\n",
    "plot_stim(stim)\n",
    "plt.show()"
   ]
  },
  {
   "cell_type": "markdown",
   "metadata": {},
   "source": [
    "# white_yazdanbakhsh\n",
    "\n",
    "Yazdanbakhsh variation of White's stimulus with default target placement.\n",
    "Same use as `white_howe()` but with additional parameter `gap_size` which defines the size of the gap between the target and the bar it is placed on both sides of the target in deg."
   ]
  },
  {
   "cell_type": "code",
   "execution_count": null,
   "metadata": {},
   "outputs": [],
   "source": [
    "from stimuli.illusions.whites import white_yazdanbakhsh"
   ]
  },
  {
   "cell_type": "markdown",
   "metadata": {},
   "source": [
    "## Parameterization"
   ]
  },
  {
   "cell_type": "code",
   "execution_count": null,
   "metadata": {},
   "outputs": [],
   "source": [
    "params = {\n",
    "    \"visual_size\": (10., 10.),\n",
    "    \"ppd\": 10.0,\n",
    "    \"frequency\": 0.5,\n",
    "    \"target_indices_top\": 3,\n",
    "    \"target_indices_bottom\": -4,\n",
    "    \"target_center_offset\": 2.,\n",
    "    \"target_height\": 2.,\n",
    "    \"intensity_bars\": (0., 1.),\n",
    "    \"intensity_target\": 0.5,\n",
    "    \"period\": \"ignore\",\n",
    "    \"intensity_stripes\": (0., 1.),\n",
    "    \"gap_size\": 0.5,\n",
    "}\n",
    "    \n",
    "stim = white_yazdanbakhsh(**params)\n",
    "plot_stim(stim)\n",
    "plt.show()"
   ]
  },
  {
   "cell_type": "code",
   "execution_count": null,
   "metadata": {},
   "outputs": [],
   "source": []
  }
 ],
 "metadata": {
  "kernelspec": {
   "display_name": "Python 3 (ipykernel)",
   "language": "python",
   "name": "python3"
  },
  "language_info": {
   "codemirror_mode": {
    "name": "ipython",
    "version": 3
   },
   "file_extension": ".py",
   "mimetype": "text/x-python",
   "name": "python",
   "nbconvert_exporter": "python",
   "pygments_lexer": "ipython3",
   "version": "3.10.6"
  },
  "toc": {
   "base_numbering": 1,
   "nav_menu": {},
   "number_sections": true,
   "sideBar": true,
   "skip_h1_title": false,
   "title_cell": "Table of Contents",
   "title_sidebar": "Contents",
   "toc_cell": false,
   "toc_position": {},
   "toc_section_display": true,
   "toc_window_display": false
  },
  "varInspector": {
   "cols": {
    "lenName": 16,
    "lenType": 16,
    "lenVar": 40
   },
   "kernels_config": {
    "python": {
     "delete_cmd_postfix": "",
     "delete_cmd_prefix": "del ",
     "library": "var_list.py",
     "varRefreshCmd": "print(var_dic_list())"
    },
    "r": {
     "delete_cmd_postfix": ") ",
     "delete_cmd_prefix": "rm(",
     "library": "var_list.r",
     "varRefreshCmd": "cat(var_dic_list()) "
    }
   },
   "types_to_exclude": [
    "module",
    "function",
    "builtin_function_or_method",
    "instance",
    "_Feature"
   ],
   "window_display": false
  },
  "vscode": {
   "interpreter": {
    "hash": "d79f930315d22092267204fc095ece7b80c939bb23fde6f7397d8c6352112825"
   }
  }
 },
 "nbformat": 4,
 "nbformat_minor": 2
}
