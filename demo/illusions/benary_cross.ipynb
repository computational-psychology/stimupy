{
 "cells": [
  {
   "cell_type": "code",
   "execution_count": null,
   "metadata": {},
   "outputs": [],
   "source": [
    "import itertools\n",
    "import pandas as pd\n",
    "import matplotlib.pyplot as plt\n",
    "\n",
    "import IPython\n",
    "import ipywidgets as iw\n",
    "from stimuli.utils import plot_stimuli, plot_stim"
   ]
  },
  {
   "cell_type": "markdown",
   "metadata": {},
   "source": [
    "# benarys_cross_generalized\n",
    "\n",
    "Most general version of the function that creates a Benarys-cross-like stimulus."
   ]
  },
  {
   "cell_type": "code",
   "execution_count": null,
   "metadata": {},
   "outputs": [],
   "source": [
    "from stimuli.illusions.benary_cross import benarys_cross_generalized"
   ]
  },
  {
   "cell_type": "markdown",
   "metadata": {},
   "source": [
    "## Parameterization"
   ]
  },
  {
   "cell_type": "code",
   "execution_count": null,
   "metadata": {},
   "outputs": [],
   "source": [
    "params = {\n",
    "    \"visual_size\": (21., 21.),\n",
    "    \"ppd\": 18.0,\n",
    "    \"cross_thickness\": 5.0,\n",
    "    \"target_size\": (2.0, 2.0),\n",
    "    \"target_type\": \"r\",\n",
    "    \"target_orientation\": 0,\n",
    "    \"target_x\": (6.0, 19.0),\n",
    "    \"target_y\": (6.0, 8.0),\n",
    "    \"intensity_background\": 1.0,\n",
    "    \"intensity_cross\": 0.0,\n",
    "    \"intensity_target\": 0.5,\n",
    "}\n",
    "\n",
    "\n",
    "stim = benarys_cross_generalized(**params)\n",
    "plot_stim(stim)\n",
    "plt.show()"
   ]
  },
  {
   "cell_type": "markdown",
   "metadata": {},
   "source": [
    "The main advantage of `benarys_cross_generalized()` is that you can add as many targets as you like by adding values to the lists that you pass to `target_type`, `target_ori`, `target_posx` and/or `target_posy`.\n",
    "Furthermore, you can either add rectangular targets (`target_type=\"r\"`) or triangular targets (`target_type=\"t\"`).\n",
    "\n",
    "Keep in mind that the number of elements for each of those input variables needs be 1 or you need to have as many elements as you want to have targets.\n",
    "\n",
    "In this most general version of Benarys cross, the user needs to define the target placement (i.e. calculate the values for `target_posy` and `target_posx`)."
   ]
  },
  {
   "cell_type": "code",
   "execution_count": null,
   "metadata": {},
   "outputs": [],
   "source": [
    "params = {\n",
    "    \"visual_size\": (21., 21.),\n",
    "    \"ppd\": 18.0,\n",
    "    \"cross_thickness\": 5.0,\n",
    "    \"target_size\": (2.0, 2.0),\n",
    "    \"intensity_background\": 1.0,\n",
    "    \"intensity_cross\": 0.0,\n",
    "    \"intensity_target\": 0.5,\n",
    "}\n",
    "\n",
    "\n",
    "stim1 = benarys_cross_generalized(**params,\n",
    "                                  target_type=\"r\",\n",
    "                                  target_orientation=0,\n",
    "                                  target_x=(2, 2, 8, 8, 11, 11, 17, 17),\n",
    "                                  target_y=(8, 11, 6, 13, 6, 13, 8, 11),\n",
    "                                 )\n",
    "\n",
    "stim2 = benarys_cross_generalized(**params,\n",
    "                                  target_type=(\"r\", \"r\", \"t\", \"t\", \"t\", \"t\", \"r\", \"r\"),\n",
    "                                  target_orientation=(45, 45, 270, 0, 180, 90, 45, 45),\n",
    "                                  target_x=(2, 2, 8, 8, 11, 11, 17, 17),\n",
    "                                  target_y=(6.7, 11.7, 6, 13, 6, 13, 6.7, 11.7),\n",
    "                                 )\n",
    "\n",
    "plot_stimuli({\"Example 1\": stim1, \"Example 2\": stim2})\n",
    "plt.show()"
   ]
  },
  {
   "cell_type": "markdown",
   "metadata": {},
   "source": [
    "## Interactive"
   ]
  },
  {
   "cell_type": "code",
   "execution_count": null,
   "metadata": {},
   "outputs": [],
   "source": [
    "# Define widgets\n",
    "w_height = iw.IntSlider(value=21, min=10, max=30, description=\"height [deg]\")\n",
    "w_width = iw.IntSlider(value=21, min=10, max=30, description=\"width [deg]\")\n",
    "w_ppd = iw.IntSlider(value=10, min=1, max=32, description=\"ppd\")\n",
    "w_size = iw.HBox([w_height, w_width, w_ppd])\n",
    "w_cross_thickness = iw.IntSlider(value=5, min=1, max=10, description=\"cross thickness [deg]\")\n",
    "w_theight = iw.IntSlider(value=2, min=1, max=4, description=\"target height [deg]\")\n",
    "w_twidth = iw.IntSlider(value=2, min=1, max=4, description=\"target width [deg]\")\n",
    "w_tsize = iw.HBox([w_theight, w_twidth])\n",
    "w_ori = iw.IntSlider(value=0, min=0, max=360, description=\"target orientation [deg]\")\n",
    "w_posx = iw.IntSlider(value=6, min=0, max=10, description=\"target x-position [deg]\")\n",
    "w_posy = iw.IntSlider(value=6, min=0, max=10, description=\"target y-position [deg]\")\n",
    "w_place = iw.HBox([w_posx, w_posy, w_ori])\n",
    "w_iback = iw.FloatSlider(value=1.0, min=0., max=1.0, description=\"intensity background\")\n",
    "w_icross = iw.FloatSlider(value=0.0, min=0., max=1.0, description=\"intensity cross\")\n",
    "w_itarget = iw.FloatSlider(value=0.5, min=0., max=1.0, description=\"intensity target\")\n",
    "w_intensities = iw.HBox([w_iback, w_icross, w_itarget])\n",
    "\n",
    "ui = iw.VBox([w_size, w_cross_thickness, w_tsize, w_place, w_intensities])\n",
    "\n",
    "def show_benary(\n",
    "    height=None,\n",
    "    width=None,\n",
    "    ppd=None,\n",
    "    cross_thickness=None,\n",
    "    target_height=None,\n",
    "    target_width=None,\n",
    "    target_type=\"r\",\n",
    "    target_orientation=None,\n",
    "    target_x=None,\n",
    "    target_y=None,\n",
    "    intensity_background=None,\n",
    "    intensity_cross=None,\n",
    "    intensity_target=None,    \n",
    "):\n",
    "\n",
    "    stim = benarys_cross_generalized(\n",
    "        visual_size=(height, width),\n",
    "        ppd=ppd,\n",
    "        cross_thickness=cross_thickness,\n",
    "        target_size=(target_height, target_width),\n",
    "        target_type=target_type,\n",
    "        target_orientation=[target_orientation],\n",
    "        target_x=target_x,\n",
    "        target_y=target_y,\n",
    "        intensity_background=intensity_background,\n",
    "        intensity_cross=intensity_cross,\n",
    "        intensity_target=intensity_target,   \n",
    "    )\n",
    "    plot_stim(stim)\n",
    "\n",
    "\n",
    "out = iw.interactive_output(show_benary,\n",
    "                            {\n",
    "                                \"height\": w_height,\n",
    "                                \"width\": w_width,\n",
    "                                \"ppd\": w_ppd,\n",
    "                                \"cross_thickness\": w_cross_thickness,\n",
    "                                \"target_height\": w_theight,\n",
    "                                \"target_width\": w_twidth,\n",
    "                                \"target_orientation\": w_ori,\n",
    "                                \"target_x\": w_posx,\n",
    "                                \"target_y\": w_posy,\n",
    "                                \"intensity_background\": w_iback,\n",
    "                                \"intensity_cross\": w_icross,\n",
    "                                \"intensity_target\": w_itarget,\n",
    "                            })\n",
    "\n",
    "display(ui, out)\n"
   ]
  },
  {
   "cell_type": "markdown",
   "metadata": {},
   "source": [
    "# benarys_cross_rectangles\n",
    "\n",
    "More user-friendly version of Benarys cross with two rectangular targets and default placement."
   ]
  },
  {
   "cell_type": "code",
   "execution_count": null,
   "metadata": {},
   "outputs": [],
   "source": [
    "from stimuli.illusions.benary_cross import benarys_cross_rectangles"
   ]
  },
  {
   "cell_type": "markdown",
   "metadata": {},
   "source": [
    "## Parameterization"
   ]
  },
  {
   "cell_type": "code",
   "execution_count": null,
   "metadata": {},
   "outputs": [],
   "source": [
    "params = {\n",
    "    \"visual_size\": (21., 21.),\n",
    "    \"ppd\": 18.0,\n",
    "    \"cross_thickness\": 5.0,\n",
    "    \"target_size\": (2.0, 2.0),\n",
    "    \"intensity_background\": 1.0,\n",
    "    \"intensity_cross\": 0.0,\n",
    "    \"intensity_target\": 0.5,\n",
    "}\n",
    "\n",
    "\n",
    "stim = benarys_cross_rectangles(**params)\n",
    "plot_stim(stim)\n",
    "plt.show()"
   ]
  },
  {
   "cell_type": "markdown",
   "metadata": {},
   "source": [
    "## Interactive"
   ]
  },
  {
   "cell_type": "code",
   "execution_count": null,
   "metadata": {},
   "outputs": [],
   "source": [
    "# Define widgets\n",
    "w_height = iw.IntSlider(value=21, min=10, max=30, description=\"height [deg]\")\n",
    "w_width = iw.IntSlider(value=21, min=10, max=30, description=\"width [deg]\")\n",
    "w_ppd = iw.IntSlider(value=10, min=1, max=32, description=\"ppd\")\n",
    "w_size = iw.HBox([w_height, w_width, w_ppd])\n",
    "w_cross_thickness = iw.IntSlider(value=5, min=1, max=10, description=\"cross thickness [deg]\")\n",
    "w_theight = iw.IntSlider(value=2, min=1, max=4, description=\"target height [deg]\")\n",
    "w_twidth = iw.IntSlider(value=2, min=1, max=4, description=\"target width [deg]\")\n",
    "w_tsize = iw.HBox([w_theight, w_twidth])\n",
    "w_iback = iw.FloatSlider(value=1.0, min=0., max=1.0, description=\"intensity background\")\n",
    "w_icross = iw.FloatSlider(value=0.0, min=0., max=1.0, description=\"intensity cross\")\n",
    "w_itarget = iw.FloatSlider(value=0.5, min=0., max=1.0, description=\"intensity target\")\n",
    "w_intensities = iw.HBox([w_iback, w_icross, w_itarget])\n",
    "\n",
    "ui = iw.VBox([w_size, w_cross_thickness, w_tsize, w_intensities])\n",
    "\n",
    "def show_benary(\n",
    "    height=None,\n",
    "    width=None,\n",
    "    ppd=None,\n",
    "    cross_thickness=None,\n",
    "    target_height=None,\n",
    "    target_width=None,\n",
    "    intensity_background=None,\n",
    "    intensity_cross=None,\n",
    "    intensity_target=None,    \n",
    "):\n",
    "\n",
    "    stim = benarys_cross_rectangles(\n",
    "        visual_size=(height, width),\n",
    "        ppd=ppd,\n",
    "        cross_thickness=cross_thickness,\n",
    "        target_size=(target_height, target_width),\n",
    "        intensity_background=intensity_background,\n",
    "        intensity_cross=intensity_cross,\n",
    "        intensity_target=intensity_target,   \n",
    "    )\n",
    "    plot_stim(stim)\n",
    "\n",
    "\n",
    "out = iw.interactive_output(show_benary,\n",
    "                            {\n",
    "                                \"height\": w_height,\n",
    "                                \"width\": w_width,\n",
    "                                \"ppd\": w_ppd,\n",
    "                                \"cross_thickness\": w_cross_thickness,\n",
    "                                \"target_height\": w_theight,\n",
    "                                \"target_width\": w_twidth,\n",
    "                                \"intensity_background\": w_iback,\n",
    "                                \"intensity_cross\": w_icross,\n",
    "                                \"intensity_target\": w_itarget,\n",
    "                            })\n",
    "\n",
    "display(ui, out)\n"
   ]
  },
  {
   "cell_type": "markdown",
   "metadata": {},
   "source": [
    "# benarys_cross_triangles\n",
    "\n",
    "More user-friendly version of Benarys cross with two triangular targets and default placement."
   ]
  },
  {
   "cell_type": "code",
   "execution_count": null,
   "metadata": {},
   "outputs": [],
   "source": [
    "from stimuli.illusions.benary_cross import benarys_cross_triangles"
   ]
  },
  {
   "cell_type": "markdown",
   "metadata": {},
   "source": [
    "## Parameterization"
   ]
  },
  {
   "cell_type": "code",
   "execution_count": null,
   "metadata": {},
   "outputs": [],
   "source": [
    "params = {\n",
    "    \"visual_size\": (21., 21.),\n",
    "    \"ppd\": 18.0,\n",
    "    \"cross_thickness\": 5.0,\n",
    "    \"target_size\": 3.,\n",
    "    \"intensity_background\": 1.0,\n",
    "    \"intensity_cross\": 0.0,\n",
    "    \"intensity_target\": 0.5,\n",
    "}\n",
    "\n",
    "\n",
    "stim = benarys_cross_triangles(**params)\n",
    "plot_stim(stim)\n",
    "plt.show()"
   ]
  },
  {
   "cell_type": "code",
   "execution_count": null,
   "metadata": {},
   "outputs": [],
   "source": [
    "# Define widgets\n",
    "w_height = iw.IntSlider(value=21, min=10, max=30, description=\"height [deg]\")\n",
    "w_width = iw.IntSlider(value=21, min=10, max=30, description=\"width [deg]\")\n",
    "w_ppd = iw.IntSlider(value=10, min=1, max=32, description=\"ppd\")\n",
    "w_size = iw.HBox([w_height, w_width, w_ppd])\n",
    "w_cross_thickness = iw.IntSlider(value=5, min=1, max=10, description=\"cross thickness [deg]\")\n",
    "w_tsize = iw.IntSlider(value=3, min=1, max=5, description=\"target height [deg]\")\n",
    "w_iback = iw.FloatSlider(value=1.0, min=0., max=1.0, description=\"intensity background\")\n",
    "w_icross = iw.FloatSlider(value=0.0, min=0., max=1.0, description=\"intensity cross\")\n",
    "w_itarget = iw.FloatSlider(value=0.5, min=0., max=1.0, description=\"intensity target\")\n",
    "w_intensities = iw.HBox([w_iback, w_icross, w_itarget])\n",
    "\n",
    "ui = iw.VBox([w_size, w_cross_thickness, w_tsize, w_intensities])\n",
    "\n",
    "def show_benary(\n",
    "    height=None,\n",
    "    width=None,\n",
    "    ppd=None,\n",
    "    cross_thickness=None,\n",
    "    target_size=None,\n",
    "    intensity_background=None,\n",
    "    intensity_cross=None,\n",
    "    intensity_target=None,    \n",
    "):\n",
    "\n",
    "    stim = benarys_cross_triangles(\n",
    "        visual_size=(height, width),\n",
    "        ppd=ppd,\n",
    "        cross_thickness=cross_thickness,\n",
    "        target_size=target_size,\n",
    "        intensity_background=intensity_background,\n",
    "        intensity_cross=intensity_cross,\n",
    "        intensity_target=intensity_target,   \n",
    "    )\n",
    "    plot_stim(stim)\n",
    "\n",
    "\n",
    "out = iw.interactive_output(show_benary,\n",
    "                            {\n",
    "                                \"height\": w_height,\n",
    "                                \"width\": w_width,\n",
    "                                \"ppd\": w_ppd,\n",
    "                                \"cross_thickness\": w_cross_thickness,\n",
    "                                \"target_size\": w_tsize,\n",
    "                                \"intensity_background\": w_iback,\n",
    "                                \"intensity_cross\": w_icross,\n",
    "                                \"intensity_target\": w_itarget,\n",
    "                            })\n",
    "\n",
    "display(ui, out)\n"
   ]
  },
  {
   "cell_type": "markdown",
   "metadata": {},
   "source": [
    "# todorovic_benary_generalized\n",
    "General version of the function that creates Todorovic's variations of Benarys cross.\n",
    "The use of this function is very similar to `benarys_cross_generalized()`."
   ]
  },
  {
   "cell_type": "code",
   "execution_count": null,
   "metadata": {},
   "outputs": [],
   "source": [
    "from stimuli.illusions.benary_cross import todorovic_benary_generalized"
   ]
  },
  {
   "cell_type": "markdown",
   "metadata": {},
   "source": [
    "## Parameterization"
   ]
  },
  {
   "cell_type": "code",
   "execution_count": null,
   "metadata": {},
   "outputs": [],
   "source": [
    "params = {\n",
    "    \"visual_size\": (16., 16.),\n",
    "    \"ppd\": 10.0,\n",
    "    \"L_width\": 2.0,\n",
    "    \"target_size\": (2.0, 2.0),\n",
    "    \"target_type\": \"r\",\n",
    "    \"target_orientation\": 0,\n",
    "    \"target_x\": (2.0, 12.0),\n",
    "    \"target_y\": (6.0, 8.0),\n",
    "    \"intensity_background\": 1.0,\n",
    "    \"intensity_cross\": 0.0,\n",
    "    \"intensity_target\": 0.5,\n",
    "}\n",
    "\n",
    "\n",
    "stim = todorovic_benary_generalized(**params)\n",
    "plot_stim(stim)\n",
    "plt.show()"
   ]
  },
  {
   "cell_type": "markdown",
   "metadata": {},
   "source": [
    "As for `benarys_cross_generalized()`, the main advantage this function is the flexibility of the target placement.\n",
    "You can add as many targets as you like by adapting `target_type`, `target_ori`, `target_posx` and/or `target_posy`.\n",
    "\n",
    "Again, keep in mind that the number of list elements for these input variables needs be 1 or you need to have as many elements as you want to have targets."
   ]
  },
  {
   "cell_type": "code",
   "execution_count": null,
   "metadata": {},
   "outputs": [],
   "source": [
    "params = {\n",
    "    \"visual_size\": (16., 16.),\n",
    "    \"ppd\": 10.0,\n",
    "    \"L_width\": 2.0,\n",
    "    \"target_size\": (2.0, 2.0),\n",
    "    \"intensity_background\": 1.0,\n",
    "    \"intensity_cross\": 0.0,\n",
    "    \"intensity_target\": 0.5,\n",
    "}\n",
    "\n",
    "\n",
    "stim1 = todorovic_benary_generalized(**params,\n",
    "                                     target_type=\"r\",\n",
    "                                     target_orientation=0,\n",
    "                                     target_x=(2, 2, 2, 2, 2, 5.3, 8.6, 12, 12, 12),\n",
    "                                     target_y=(2, 5, 8, 11, 14, 8, 8, 8, 11, 14)\n",
    "                                    )\n",
    "\n",
    "stim2 = todorovic_benary_generalized(**params,\n",
    "                                     target_type=(\"r\", \"t\", \"t\", \"r\"),\n",
    "                                     target_orientation=(0, 45, 225, 0),\n",
    "                                     target_x=(2, 5, 8, 12),\n",
    "                                     target_y=(6, 8, 6.7, 8),\n",
    "                                    )\n",
    "\n",
    "plot_stimuli({\"Example 1\": stim1, \"Example 2\": stim2})\n",
    "plt.show()"
   ]
  },
  {
   "cell_type": "markdown",
   "metadata": {},
   "source": [
    "## Interactive"
   ]
  },
  {
   "cell_type": "code",
   "execution_count": null,
   "metadata": {},
   "outputs": [],
   "source": [
    "# Define widgets\n",
    "w_height = iw.IntSlider(value=20, min=10, max=30, description=\"height [deg]\")\n",
    "w_width = iw.IntSlider(value=20, min=10, max=30, description=\"width [deg]\")\n",
    "w_ppd = iw.IntSlider(value=10, min=1, max=32, description=\"ppd\")\n",
    "w_size = iw.HBox([w_height, w_width, w_ppd])\n",
    "w_lwidth = iw.IntSlider(value=5, min=1, max=10, description=\"L width [deg]\")\n",
    "w_theight = iw.IntSlider(value=3, min=1, max=5, description=\"target height [deg]\")\n",
    "w_twidth = iw.IntSlider(value=3, min=1, max=5, description=\"target width [deg]\")\n",
    "w_tsize = iw.HBox([w_theight, w_twidth])\n",
    "w_ori = iw.IntSlider(value=0, min=0, max=360, description=\"target orientation [deg]\")\n",
    "w_posx = iw.IntSlider(value=5, min=0, max=10, description=\"target x-position [deg]\")\n",
    "w_posy = iw.IntSlider(value=7, min=0, max=10, description=\"target y-position [deg]\")\n",
    "w_place = iw.HBox([w_posx, w_posy, w_ori])\n",
    "w_iback = iw.FloatSlider(value=1.0, min=0., max=1.0, description=\"intensity background\")\n",
    "w_icross = iw.FloatSlider(value=0.0, min=0., max=1.0, description=\"intensity cross\")\n",
    "w_itarget = iw.FloatSlider(value=0.5, min=0., max=1.0, description=\"intensity target\")\n",
    "w_intensities = iw.HBox([w_iback, w_icross, w_itarget])\n",
    "\n",
    "ui = iw.VBox([w_size, w_lwidth, w_tsize, w_place, w_intensities])\n",
    "\n",
    "def show_benary(\n",
    "    height=None,\n",
    "    width=None,\n",
    "    ppd=None,\n",
    "    L_width=None,\n",
    "    target_height=None,\n",
    "    target_width=None,\n",
    "    target_type=\"r\",\n",
    "    target_orientation=None,\n",
    "    target_x=None,\n",
    "    target_y=None,\n",
    "    intensity_background=None,\n",
    "    intensity_cross=None,\n",
    "    intensity_target=None,    \n",
    "):\n",
    "\n",
    "    stim = todorovic_benary_generalized(\n",
    "        visual_size=(height, width),\n",
    "        ppd=ppd,\n",
    "        L_width=L_width,\n",
    "        target_size=(target_height, target_width),\n",
    "        target_type=target_type,\n",
    "        target_orientation=[target_orientation],\n",
    "        target_x=target_x,\n",
    "        target_y=target_y,\n",
    "        intensity_background=intensity_background,\n",
    "        intensity_cross=intensity_cross,\n",
    "        intensity_target=intensity_target,   \n",
    "    )\n",
    "    plot_stim(stim)\n",
    "\n",
    "\n",
    "out = iw.interactive_output(show_benary,\n",
    "                            {\n",
    "                                \"height\": w_height,\n",
    "                                \"width\": w_width,\n",
    "                                \"ppd\": w_ppd,\n",
    "                                \"L_width\": w_lwidth,\n",
    "                                \"target_height\": w_theight,\n",
    "                                \"target_width\": w_twidth,\n",
    "                                \"target_orientation\": w_ori,\n",
    "                                \"target_x\": w_posx,\n",
    "                                \"target_y\": w_posy,\n",
    "                                \"intensity_background\": w_iback,\n",
    "                                \"intensity_cross\": w_icross,\n",
    "                                \"intensity_target\": w_itarget,\n",
    "                            })\n",
    "\n",
    "display(ui, out)\n"
   ]
  },
  {
   "cell_type": "markdown",
   "metadata": {},
   "source": [
    "# todorovic_benary_rectangles\n",
    "\n",
    "More user-friendly version of Todorovic Benary with two rectangular targets and default placement."
   ]
  },
  {
   "cell_type": "code",
   "execution_count": null,
   "metadata": {},
   "outputs": [],
   "source": [
    "from stimuli.illusions.benary_cross import todorovic_benary_rectangles"
   ]
  },
  {
   "cell_type": "markdown",
   "metadata": {},
   "source": [
    "## Parameterization"
   ]
  },
  {
   "cell_type": "code",
   "execution_count": null,
   "metadata": {},
   "outputs": [],
   "source": [
    "params = {\n",
    "    \"visual_size\": (21., 21.),\n",
    "    \"ppd\": 18.0,\n",
    "    \"L_width\": 5.0,\n",
    "    \"target_size\": (3.0, 3.0),\n",
    "    \"intensity_background\": 1.0,\n",
    "    \"intensity_cross\": 0.0,\n",
    "    \"intensity_target\": 0.5,\n",
    "}\n",
    "\n",
    "\n",
    "stim = todorovic_benary_rectangles(**params)\n",
    "plot_stim(stim)\n",
    "plt.show()"
   ]
  },
  {
   "cell_type": "markdown",
   "metadata": {},
   "source": [
    "## Interactive"
   ]
  },
  {
   "cell_type": "code",
   "execution_count": null,
   "metadata": {},
   "outputs": [],
   "source": [
    "# Define widgets\n",
    "w_height = iw.IntSlider(value=21, min=10, max=30, description=\"height [deg]\")\n",
    "w_width = iw.IntSlider(value=21, min=10, max=30, description=\"width [deg]\")\n",
    "w_ppd = iw.IntSlider(value=10, min=1, max=32, description=\"ppd\")\n",
    "w_size = iw.HBox([w_height, w_width, w_ppd])\n",
    "w_lwidth = iw.IntSlider(value=5, min=1, max=10, description=\"L width [deg]\")\n",
    "w_theight = iw.IntSlider(value=3, min=1, max=4, description=\"target height [deg]\")\n",
    "w_twidth = iw.IntSlider(value=3, min=1, max=4, description=\"target width [deg]\")\n",
    "w_tsize = iw.HBox([w_theight, w_twidth])\n",
    "w_iback = iw.FloatSlider(value=1.0, min=0., max=1.0, description=\"intensity background\")\n",
    "w_icross = iw.FloatSlider(value=0.0, min=0., max=1.0, description=\"intensity cross\")\n",
    "w_itarget = iw.FloatSlider(value=0.5, min=0., max=1.0, description=\"intensity target\")\n",
    "w_intensities = iw.HBox([w_iback, w_icross, w_itarget])\n",
    "\n",
    "ui = iw.VBox([w_size, w_lwidth, w_tsize, w_intensities])\n",
    "\n",
    "def show_benary(\n",
    "    height=None,\n",
    "    width=None,\n",
    "    ppd=None,\n",
    "    L_width=None,\n",
    "    target_height=None,\n",
    "    target_width=None,\n",
    "    intensity_background=None,\n",
    "    intensity_cross=None,\n",
    "    intensity_target=None,    \n",
    "):\n",
    "\n",
    "    stim = todorovic_benary_rectangles(\n",
    "        visual_size=(height, width),\n",
    "        ppd=ppd,\n",
    "        L_width=L_width,\n",
    "        target_size=(target_height, target_width),\n",
    "        intensity_background=intensity_background,\n",
    "        intensity_cross=intensity_cross,\n",
    "        intensity_target=intensity_target,   \n",
    "    )\n",
    "    plot_stim(stim)\n",
    "\n",
    "\n",
    "out = iw.interactive_output(show_benary,\n",
    "                            {\n",
    "                                \"height\": w_height,\n",
    "                                \"width\": w_width,\n",
    "                                \"ppd\": w_ppd,\n",
    "                                \"L_width\": w_lwidth,\n",
    "                                \"target_height\": w_theight,\n",
    "                                \"target_width\": w_twidth,\n",
    "                                \"intensity_background\": w_iback,\n",
    "                                \"intensity_cross\": w_icross,\n",
    "                                \"intensity_target\": w_itarget,\n",
    "                            })\n",
    "\n",
    "display(ui, out)\n"
   ]
  },
  {
   "cell_type": "markdown",
   "metadata": {},
   "source": [
    "# todorovic_benary_triangles\n",
    "More user-friendly version of Todorovic Benary with two triangular targets and default placement."
   ]
  },
  {
   "cell_type": "code",
   "execution_count": null,
   "metadata": {},
   "outputs": [],
   "source": [
    "from stimuli.illusions.benary_cross import todorovic_benary_triangles"
   ]
  },
  {
   "cell_type": "markdown",
   "metadata": {},
   "source": [
    "## Parameterization"
   ]
  },
  {
   "cell_type": "code",
   "execution_count": null,
   "metadata": {},
   "outputs": [],
   "source": [
    "params = {\n",
    "    \"visual_size\": (21., 21.),\n",
    "    \"ppd\": 18.0,\n",
    "    \"L_width\": 5.0,\n",
    "    \"target_size\": 3.,\n",
    "    \"intensity_background\": 1.0,\n",
    "    \"intensity_cross\": 0.0,\n",
    "    \"intensity_target\": 0.5,\n",
    "}\n",
    "\n",
    "\n",
    "stim = todorovic_benary_triangles(**params)\n",
    "plot_stim(stim)\n",
    "plt.show()"
   ]
  },
  {
   "cell_type": "markdown",
   "metadata": {},
   "source": [
    "## Interactive"
   ]
  },
  {
   "cell_type": "code",
   "execution_count": null,
   "metadata": {},
   "outputs": [],
   "source": [
    "# Define widgets\n",
    "w_height = iw.IntSlider(value=21, min=10, max=30, description=\"height [deg]\")\n",
    "w_width = iw.IntSlider(value=21, min=10, max=30, description=\"width [deg]\")\n",
    "w_ppd = iw.IntSlider(value=10, min=1, max=32, description=\"ppd\")\n",
    "w_size = iw.HBox([w_height, w_width, w_ppd])\n",
    "w_lwidth = iw.IntSlider(value=5, min=1, max=10, description=\"L width [deg]\")\n",
    "w_tsize = iw.IntSlider(value=3, min=1, max=4, description=\"target size [deg]\")\n",
    "w_iback = iw.FloatSlider(value=1.0, min=0., max=1.0, description=\"intensity background\")\n",
    "w_icross = iw.FloatSlider(value=0.0, min=0., max=1.0, description=\"intensity cross\")\n",
    "w_itarget = iw.FloatSlider(value=0.5, min=0., max=1.0, description=\"intensity target\")\n",
    "w_intensities = iw.HBox([w_iback, w_icross, w_itarget])\n",
    "\n",
    "ui = iw.VBox([w_size, w_lwidth, w_tsize, w_intensities])\n",
    "\n",
    "def show_benary(\n",
    "    height=None,\n",
    "    width=None,\n",
    "    ppd=None,\n",
    "    L_width=None,\n",
    "    target_size=None,\n",
    "    intensity_background=None,\n",
    "    intensity_cross=None,\n",
    "    intensity_target=None,    \n",
    "):\n",
    "\n",
    "    stim = todorovic_benary_triangles(\n",
    "        visual_size=(height, width),\n",
    "        ppd=ppd,\n",
    "        L_width=L_width,\n",
    "        target_size=target_size,\n",
    "        intensity_background=intensity_background,\n",
    "        intensity_cross=intensity_cross,\n",
    "        intensity_target=intensity_target,   \n",
    "    )\n",
    "    plot_stim(stim)\n",
    "\n",
    "\n",
    "out = iw.interactive_output(show_benary,\n",
    "                            {\n",
    "                                \"height\": w_height,\n",
    "                                \"width\": w_width,\n",
    "                                \"ppd\": w_ppd,\n",
    "                                \"L_width\": w_lwidth,\n",
    "                                \"target_size\": w_tsize,\n",
    "                                \"intensity_background\": w_iback,\n",
    "                                \"intensity_cross\": w_icross,\n",
    "                                \"intensity_target\": w_itarget,\n",
    "                            })\n",
    "\n",
    "display(ui, out)\n"
   ]
  }
 ],
 "metadata": {
  "kernelspec": {
   "display_name": "Python 3 (ipykernel)",
   "language": "python",
   "name": "python3"
  },
  "language_info": {
   "codemirror_mode": {
    "name": "ipython",
    "version": 3
   },
   "file_extension": ".py",
   "mimetype": "text/x-python",
   "name": "python",
   "nbconvert_exporter": "python",
   "pygments_lexer": "ipython3",
   "version": "3.10.6"
  },
  "toc": {
   "base_numbering": 1,
   "nav_menu": {},
   "number_sections": true,
   "sideBar": true,
   "skip_h1_title": false,
   "title_cell": "Table of Contents",
   "title_sidebar": "Contents",
   "toc_cell": false,
   "toc_position": {},
   "toc_section_display": true,
   "toc_window_display": false
  },
  "varInspector": {
   "cols": {
    "lenName": 16,
    "lenType": 16,
    "lenVar": 40
   },
   "kernels_config": {
    "python": {
     "delete_cmd_postfix": "",
     "delete_cmd_prefix": "del ",
     "library": "var_list.py",
     "varRefreshCmd": "print(var_dic_list())"
    },
    "r": {
     "delete_cmd_postfix": ") ",
     "delete_cmd_prefix": "rm(",
     "library": "var_list.r",
     "varRefreshCmd": "cat(var_dic_list()) "
    }
   },
   "types_to_exclude": [
    "module",
    "function",
    "builtin_function_or_method",
    "instance",
    "_Feature"
   ],
   "window_display": false
  },
  "vscode": {
   "interpreter": {
    "hash": "d79f930315d22092267204fc095ece7b80c939bb23fde6f7397d8c6352112825"
   }
  }
 },
 "nbformat": 4,
 "nbformat_minor": 2
}
