{
    "cells": [
        {
            "cell_type": "code",
            "execution_count": null,
            "metadata": {},
            "outputs": [],
            "source": [
                "import itertools\n",
                "import pandas as pd\n",
                "import matplotlib.pyplot as plt\n",
                "import numpy as np\n",
                "\n",
                "import IPython\n",
                "import ipywidgets as iw\n",
                "from stimupy.utils import plot_stimuli, plot_stim"
            ]
        },
        {
            "cell_type": "markdown",
            "metadata": {},
            "source": [
                "# simultaneous_contrast_generalized\n",
                "\n",
                "Most general version of the simultaneous brightness contrast with flexible target placement."
            ]
        },
        {
            "cell_type": "code",
            "execution_count": null,
            "metadata": {},
            "outputs": [],
            "source": [
                "from stimupy.illusions.sbc import simultaneous_contrast_generalized"
            ]
        },
        {
            "cell_type": "markdown",
            "metadata": {},
            "source": [
                "## Parameterization"
            ]
        },
        {
            "cell_type": "code",
            "execution_count": null,
            "metadata": {},
            "outputs": [],
            "source": [
                "params = {\n",
                "    \"visual_size\": (6., 6.),\n",
                "    \"ppd\": 10.0,\n",
                "    \"target_size\": (2., 2.),\n",
                "    \"target_position\": (2., 2.),\n",
                "    \"intensity_background\": 0.,\n",
                "    \"intensity_target\": 0.5,\n",
                "}\n",
                "    \n",
                "stim = simultaneous_contrast_generalized(**params)\n",
                "plot_stim(stim)\n",
                "plt.show()"
            ]
        },
        {
            "cell_type": "markdown",
            "metadata": {},
            "source": [
                "## Interactive"
            ]
        },
        {
            "cell_type": "code",
            "execution_count": null,
            "metadata": {},
            "outputs": [],
            "source": [
                "# Define widgets\n",
                "w_height = iw.IntSlider(value=7, min=1, max=16, description=\"height [deg]\")\n",
                "w_width = iw.IntSlider(value=7, min=1, max=16, description=\"width [deg]\")\n",
                "w_ppd = iw.IntSlider(value=10, min=1, max=30, description=\"ppd\")\n",
                "w_size = iw.HBox([w_height, w_width, w_ppd])\n",
                "w_theight = iw.FloatSlider(value=3., min=0.1, max=6.0, description=\"target height\")\n",
                "w_twidth = iw.FloatSlider(value=3., min=0.1, max=6.0, description=\"target width\")\n",
                "w_tsize = iw.HBox([w_theight, w_twidth])\n",
                "w_tposx = iw.FloatSlider(value=2., min=0., max=10.0, description=\"target posx\")\n",
                "w_tposy = iw.FloatSlider(value=2., min=0., max=10.0, description=\"target posy\")\n",
                "w_tpos = iw.HBox([w_tposx, w_tposy])\n",
                "w_iback = iw.FloatSlider(value=0.0, min=0., max=1.0, description=\"intensity background\")\n",
                "w_itarget = iw.FloatSlider(value=0.5, min=0., max=1.0, description=\"intensity target\")\n",
                "w_intensities = iw.HBox([w_iback, w_itarget])\n",
                "\n",
                "ui = iw.VBox([w_size, w_tsize, w_tpos, w_intensities])\n",
                "\n",
                "def show_sbc(\n",
                "    height=None,\n",
                "    width=None,\n",
                "    ppd=None,\n",
                "    target_height=None,\n",
                "    target_width=None,\n",
                "    target_x=None,\n",
                "    target_y=None,\n",
                "    intensity_background=None,\n",
                "    intensity_target=None,\n",
                "):\n",
                "\n",
                "    stim = simultaneous_contrast_generalized(\n",
                "        visual_size=(height, width),\n",
                "        ppd=ppd,\n",
                "        target_size=(target_height, target_width),\n",
                "        target_position=(target_y, target_x),\n",
                "        intensity_background=intensity_background,\n",
                "        intensity_target=intensity_target,\n",
                "    )\n",
                "    plot_stim(stim)\n",
                "\n",
                "\n",
                "out = iw.interactive_output(show_sbc,\n",
                "                            {\n",
                "                                \"height\": w_height,\n",
                "                                \"width\": w_width,\n",
                "                                \"ppd\": w_ppd,\n",
                "                                \"target_height\": w_theight,\n",
                "                                \"target_width\": w_twidth,\n",
                "                                \"target_x\": w_tposx,\n",
                "                                \"target_y\": w_tposy,\n",
                "                                \"intensity_background\": w_iback,\n",
                "                                \"intensity_target\": w_itarget,\n",
                "                            })\n",
                "\n",
                "display(ui, out)\n"
            ]
        },
        {
            "cell_type": "markdown",
            "metadata": {},
            "source": [
                "# simultaneous_contrast\n",
                "\n",
                "Simultaneous brightness contrast with always central target."
            ]
        },
        {
            "cell_type": "code",
            "execution_count": null,
            "metadata": {},
            "outputs": [],
            "source": [
                "from stimupy.illusions.sbc import simultaneous_contrast"
            ]
        },
        {
            "cell_type": "markdown",
            "metadata": {},
            "source": [
                "## Parameterization"
            ]
        },
        {
            "cell_type": "code",
            "execution_count": null,
            "metadata": {},
            "outputs": [],
            "source": [
                "params = {\n",
                "    \"visual_size\": (6., 6.),\n",
                "    \"ppd\": 10.0,\n",
                "    \"target_size\": (2., 2.),\n",
                "    \"intensity_background\": 0.,\n",
                "    \"intensity_target\": 0.5,\n",
                "}\n",
                "    \n",
                "stim = simultaneous_contrast(**params)\n",
                "plot_stim(stim)\n",
                "plt.show()"
            ]
        },
        {
            "cell_type": "markdown",
            "metadata": {},
            "source": [
                "## Interactive"
            ]
        },
        {
            "cell_type": "code",
            "execution_count": null,
            "metadata": {},
            "outputs": [],
            "source": [
                "# Define widgets\n",
                "w_height = iw.IntSlider(value=7, min=1, max=16, description=\"height [deg]\")\n",
                "w_width = iw.IntSlider(value=7, min=1, max=16, description=\"width [deg]\")\n",
                "w_ppd = iw.IntSlider(value=10, min=1, max=30, description=\"ppd\")\n",
                "w_size = iw.HBox([w_height, w_width, w_ppd])\n",
                "w_theight = iw.FloatSlider(value=3., min=0.1, max=6.0, description=\"target height\")\n",
                "w_twidth = iw.FloatSlider(value=3., min=0.1, max=6.0, description=\"target width\")\n",
                "w_tsize = iw.HBox([w_theight, w_twidth])\n",
                "w_iback = iw.FloatSlider(value=0.0, min=0., max=1.0, description=\"intensity background\")\n",
                "w_itarget = iw.FloatSlider(value=0.5, min=0., max=1.0, description=\"intensity target\")\n",
                "w_intensities = iw.HBox([w_iback, w_itarget])\n",
                "\n",
                "ui = iw.VBox([w_size, w_tsize, w_intensities])\n",
                "\n",
                "def show_sbc(\n",
                "    height=None,\n",
                "    width=None,\n",
                "    ppd=None,\n",
                "    target_height=None,\n",
                "    target_width=None,\n",
                "    intensity_background=None,\n",
                "    intensity_target=None,\n",
                "):\n",
                "\n",
                "    stim = simultaneous_contrast(\n",
                "        visual_size=(height, width),\n",
                "        ppd=ppd,\n",
                "        target_size=(target_height, target_width),\n",
                "        intensity_background=intensity_background,\n",
                "        intensity_target=intensity_target,\n",
                "    )\n",
                "    plot_stim(stim)\n",
                "\n",
                "\n",
                "out = iw.interactive_output(show_sbc,\n",
                "                            {\n",
                "                                \"height\": w_height,\n",
                "                                \"width\": w_width,\n",
                "                                \"ppd\": w_ppd,\n",
                "                                \"target_height\": w_theight,\n",
                "                                \"target_width\": w_twidth,\n",
                "                                \"intensity_background\": w_iback,\n",
                "                                \"intensity_target\": w_itarget,\n",
                "                            })\n",
                "\n",
                "display(ui, out)\n"
            ]
        },
        {
            "cell_type": "markdown",
            "metadata": {},
            "source": [
                "# sbc_with_dots"
            ]
        },
        {
            "cell_type": "code",
            "execution_count": null,
            "metadata": {},
            "outputs": [],
            "source": [
                "from stimupy.illusions.sbc import sbc_with_dots"
            ]
        },
        {
            "cell_type": "markdown",
            "metadata": {},
            "source": [
                "## Parameterization"
            ]
        },
        {
            "cell_type": "code",
            "execution_count": null,
            "metadata": {},
            "outputs": [],
            "source": [
                "params = {\n",
                "    \"ppd\": 10.0,\n",
                "    \"n_dots\": (8, 9),\n",
                "    \"dot_radius\": 3.,\n",
                "    \"distance\": 1.,\n",
                "    \"target_shape\": (2., 3.),\n",
                "    \"intensity_background\": 0.,\n",
                "    \"intensity_dots\": 1.,\n",
                "    \"intensity_target\": 0.5,\n",
                "}\n",
                "    \n",
                "stim = sbc_with_dots(**params)\n",
                "plot_stim(stim)\n",
                "plt.show()"
            ]
        },
        {
            "cell_type": "markdown",
            "metadata": {},
            "source": [
                "## Interactive"
            ]
        },
        {
            "cell_type": "code",
            "execution_count": null,
            "metadata": {},
            "outputs": [],
            "source": [
                "# Define widgets\n",
                "w_ppd = iw.IntSlider(value=10, min=1, max=30, description=\"ppd\")\n",
                "w_ndotsy = iw.IntSlider(value=5, min=1, max=10, description=\"n dots y\")\n",
                "w_ndotsx = iw.IntSlider(value=5, min=1, max=10, description=\"n dots x\")\n",
                "w_ndots = iw.HBox([w_ndotsy, w_ndotsx])\n",
                "\n",
                "w_dotradius = iw.FloatSlider(value=3., min=0.1, max=6.0, description=\"dot radius\")\n",
                "w_dotdist = iw.FloatSlider(value=1., min=0.1, max=3.0, description=\"dot distance\")\n",
                "w_dotsize = iw.HBox([w_dotradius, w_dotdist])\n",
                "\n",
                "w_theight = iw.FloatSlider(value=3., min=0.1, max=6.0, description=\"target height\")\n",
                "w_twidth = iw.FloatSlider(value=3., min=0.1, max=6.0, description=\"target width\")\n",
                "w_tsize = iw.HBox([w_theight, w_twidth])\n",
                "\n",
                "w_iback = iw.FloatSlider(value=0.0, min=0., max=1.0, description=\"intensity background\")\n",
                "w_idots = iw.FloatSlider(value=1.0, min=0., max=1.0, description=\"intensity dots\")\n",
                "w_itarget = iw.FloatSlider(value=0.5, min=0., max=1.0, description=\"intensity target\")\n",
                "w_intensities = iw.HBox([w_iback, w_idots, w_itarget])\n",
                "\n",
                "ui = iw.VBox([w_ppd, w_ndots, w_dotsize, w_tsize, w_intensities])\n",
                "\n",
                "def show_sbc(\n",
                "    ppd=None,\n",
                "    ndotsy=None,\n",
                "    ndotsx=None,\n",
                "    dot_radius=None,\n",
                "    dot_distance=None,\n",
                "    target_height=None,\n",
                "    target_width=None,\n",
                "    intensity_background=None,\n",
                "    intensity_dots=None,\n",
                "    intensity_target=None,\n",
                "):\n",
                "\n",
                "    stim = sbc_with_dots(\n",
                "        ppd=ppd,\n",
                "        n_dots=(ndotsy, ndotsx),\n",
                "        dot_radius=dot_radius,\n",
                "        distance=dot_distance,\n",
                "        target_shape=(target_height, target_width),\n",
                "        intensity_background=intensity_background,\n",
                "        intensity_dots=intensity_dots,\n",
                "        intensity_target=intensity_target,\n",
                "    )\n",
                "    plot_stim(stim)\n",
                "\n",
                "\n",
                "out = iw.interactive_output(show_sbc,\n",
                "                            {\n",
                "                                \"ppd\": w_ppd,\n",
                "                                \"ndotsy\": w_ndotsy,\n",
                "                                \"ndotsx\": w_ndotsx,\n",
                "                                \"dot_radius\": w_dotradius,\n",
                "                                \"dot_distance\": w_dotdist,\n",
                "                                \"target_height\": w_theight,\n",
                "                                \"target_width\": w_twidth,\n",
                "                                \"intensity_background\": w_iback,\n",
                "                                \"intensity_dots\": w_idots,\n",
                "                                \"intensity_target\": w_itarget,\n",
                "                            })\n",
                "\n",
                "display(ui, out)\n"
            ]
        },
        {
            "cell_type": "markdown",
            "metadata": {},
            "source": [
                "# dotted_sbc"
            ]
        },
        {
            "cell_type": "code",
            "execution_count": null,
            "metadata": {},
            "outputs": [],
            "source": [
                "from stimupy.illusions.sbc import dotted_sbc"
            ]
        },
        {
            "cell_type": "markdown",
            "metadata": {},
            "source": [
                "## Parameterization"
            ]
        },
        {
            "cell_type": "code",
            "execution_count": null,
            "metadata": {},
            "outputs": [],
            "source": [
                "params = {\n",
                "    \"ppd\": 10.0,\n",
                "    \"n_dots\": (8, 9),\n",
                "    \"dot_radius\": 3.,\n",
                "    \"distance\": 1.,\n",
                "    \"target_shape\": (2., 3.),\n",
                "    \"intensity_background\": 0.,\n",
                "    \"intensity_dots\": 1.,\n",
                "    \"intensity_target\": 0.5,\n",
                "}\n",
                "    \n",
                "stim = dotted_sbc(**params)\n",
                "plot_stim(stim)\n",
                "plt.show()"
            ]
        },
        {
            "cell_type": "markdown",
            "metadata": {},
            "source": [
                "## Interactive"
            ]
        },
        {
            "cell_type": "code",
            "execution_count": null,
            "metadata": {},
            "outputs": [],
            "source": [
                "# Define widgets\n",
                "w_ppd = iw.IntSlider(value=10, min=1, max=30, description=\"ppd\")\n",
                "w_ndotsy = iw.IntSlider(value=5, min=1, max=10, description=\"n dots y\")\n",
                "w_ndotsx = iw.IntSlider(value=5, min=1, max=10, description=\"n dots x\")\n",
                "w_ndots = iw.HBox([w_ndotsy, w_ndotsx])\n",
                "\n",
                "w_dotradius = iw.FloatSlider(value=3., min=0.1, max=6.0, description=\"dot radius\")\n",
                "w_dotdist = iw.FloatSlider(value=1., min=0.1, max=3.0, description=\"dot distance\")\n",
                "w_dotsize = iw.HBox([w_dotradius, w_dotdist])\n",
                "\n",
                "w_theight = iw.FloatSlider(value=3., min=0.1, max=6.0, description=\"target height\")\n",
                "w_twidth = iw.FloatSlider(value=3., min=0.1, max=6.0, description=\"target width\")\n",
                "w_tsize = iw.HBox([w_theight, w_twidth])\n",
                "\n",
                "w_iback = iw.FloatSlider(value=0.0, min=0., max=1.0, description=\"intensity background\")\n",
                "w_idots = iw.FloatSlider(value=1.0, min=0., max=1.0, description=\"intensity dots\")\n",
                "w_itarget = iw.FloatSlider(value=0.5, min=0., max=1.0, description=\"intensity target\")\n",
                "w_intensities = iw.HBox([w_iback, w_idots, w_itarget])\n",
                "\n",
                "ui = iw.VBox([w_ppd, w_ndots, w_dotsize, w_tsize, w_intensities])\n",
                "\n",
                "def show_sbc(\n",
                "    ppd=None,\n",
                "    ndotsy=None,\n",
                "    ndotsx=None,\n",
                "    dot_radius=None,\n",
                "    dot_distance=None,\n",
                "    target_height=None,\n",
                "    target_width=None,\n",
                "    intensity_background=None,\n",
                "    intensity_dots=None,\n",
                "    intensity_target=None,\n",
                "):\n",
                "\n",
                "    stim = dotted_sbc(\n",
                "        ppd=ppd,\n",
                "        n_dots=(ndotsy, ndotsx),\n",
                "        dot_radius=dot_radius,\n",
                "        distance=dot_distance,\n",
                "        target_shape=(target_height, target_width),\n",
                "        intensity_background=intensity_background,\n",
                "        intensity_dots=intensity_dots,\n",
                "        intensity_target=intensity_target,\n",
                "    )\n",
                "    plot_stim(stim)\n",
                "\n",
                "\n",
                "out = iw.interactive_output(show_sbc,\n",
                "                            {\n",
                "                                \"ppd\": w_ppd,\n",
                "                                \"ndotsy\": w_ndotsy,\n",
                "                                \"ndotsx\": w_ndotsx,\n",
                "                                \"dot_radius\": w_dotradius,\n",
                "                                \"dot_distance\": w_dotdist,\n",
                "                                \"target_height\": w_theight,\n",
                "                                \"target_width\": w_twidth,\n",
                "                                \"intensity_background\": w_iback,\n",
                "                                \"intensity_dots\": w_idots,\n",
                "                                \"intensity_target\": w_itarget,\n",
                "                            })\n",
                "\n",
                "display(ui, out)\n"
            ]
        },
        {
            "cell_type": "code",
            "execution_count": null,
            "metadata": {},
            "outputs": [],
            "source": []
        }
    ],
    "metadata": {
        "kernelspec": {
            "display_name": "Python 3 (ipykernel)",
            "language": "python",
            "name": "python3"
        },
        "language_info": {
            "codemirror_mode": {
                "name": "ipython",
                "version": 3
            },
            "file_extension": ".py",
            "mimetype": "text/x-python",
            "name": "python",
            "nbconvert_exporter": "python",
            "pygments_lexer": "ipython3",
            "version": "3.10.6"
        },
        "toc": {
            "base_numbering": 1,
            "nav_menu": {},
            "number_sections": true,
            "sideBar": true,
            "skip_h1_title": false,
            "title_cell": "Table of Contents",
            "title_sidebar": "Contents",
            "toc_cell": false,
            "toc_position": {},
            "toc_section_display": true,
            "toc_window_display": false
        },
        "varInspector": {
            "cols": {
                "lenName": 16,
                "lenType": 16,
                "lenVar": 40
            },
            "kernels_config": {
                "python": {
                    "delete_cmd_postfix": "",
                    "delete_cmd_prefix": "del ",
                    "library": "var_list.py",
                    "varRefreshCmd": "print(var_dic_list())"
                },
                "r": {
                    "delete_cmd_postfix": ") ",
                    "delete_cmd_prefix": "rm(",
                    "library": "var_list.r",
                    "varRefreshCmd": "cat(var_dic_list()) "
                }
            },
            "types_to_exclude": [
                "module",
                "function",
                "builtin_function_or_method",
                "instance",
                "_Feature"
            ],
            "window_display": false
        },
        "vscode": {
            "interpreter": {
                "hash": "d79f930315d22092267204fc095ece7b80c939bb23fde6f7397d8c6352112825"
            }
        }
    },
    "nbformat": 4,
    "nbformat_minor": 2
}