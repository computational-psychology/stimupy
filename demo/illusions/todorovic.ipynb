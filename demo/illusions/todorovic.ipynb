{
 "cells": [
  {
   "cell_type": "code",
   "execution_count": null,
   "metadata": {},
   "outputs": [],
   "source": [
    "import itertools\n",
    "import pandas as pd\n",
    "import matplotlib.pyplot as plt\n",
    "import numpy as np\n",
    "\n",
    "import IPython\n",
    "import ipywidgets as iw\n",
    "from stimuli.utils import plot_stimuli, plot_stim"
   ]
  },
  {
   "cell_type": "markdown",
   "metadata": {},
   "source": [
    "# todorovic_rectangle_generalized\n",
    "\n",
    "General version of the Todorovic stimulus with rectangular target and with flexible target and cover placement."
   ]
  },
  {
   "cell_type": "code",
   "execution_count": null,
   "metadata": {},
   "outputs": [],
   "source": [
    "from stimuli.illusions.todorovic import todorovic_rectangle_generalized"
   ]
  },
  {
   "cell_type": "markdown",
   "metadata": {},
   "source": [
    "## Parameterization"
   ]
  },
  {
   "cell_type": "code",
   "execution_count": null,
   "metadata": {},
   "outputs": [],
   "source": [
    "params = {\n",
    "    \"visual_size\": (10., 10.),\n",
    "    \"ppd\": 10.0,\n",
    "    \"target_size\": (4., 4.),\n",
    "    \"target_position\": (3., 3.),\n",
    "    \"covers_size\": (2., 2.),\n",
    "    \"covers_x\": (2.0, 6.0, 2.0, 6.0),\n",
    "    \"covers_y\": (2.0, 6.0, 6.0, 2.0),\n",
    "    \"intensity_background\": 0.,\n",
    "    \"intensity_target\": 0.5,\n",
    "    \"intensity_covers\": 1.,\n",
    "}\n",
    "    \n",
    "stim = todorovic_rectangle_generalized(**params)\n",
    "plot_stim(stim)\n",
    "plt.show()"
   ]
  },
  {
   "cell_type": "markdown",
   "metadata": {},
   "source": [
    "With this general form of the stimulus, it is possible to add as many covers as desired by adding more cover coordinates in `covers_x` and `covers_y`.\n",
    "\n",
    "Keep in mind that you need as many elements in`covers_x` as in  `covers_y`."
   ]
  },
  {
   "cell_type": "code",
   "execution_count": null,
   "metadata": {},
   "outputs": [],
   "source": [
    "params = {\n",
    "    \"visual_size\": (10., 10.),\n",
    "    \"ppd\": 10.0,\n",
    "    \"target_size\": (4., 4.),\n",
    "    \"target_position\": (3., 3.),\n",
    "    \"covers_size\": (2., 2.),\n",
    "    \"intensity_background\": 0.,\n",
    "    \"intensity_target\": 0.5,\n",
    "    \"intensity_covers\": 1.,\n",
    "}\n",
    "    \n",
    "stim1 = todorovic_rectangle_generalized(**params,\n",
    "                                        covers_x=(1., 4., 7.),\n",
    "                                        covers_y=(1., 4., 7.))\n",
    "\n",
    "stim2 = todorovic_rectangle_generalized(**params,\n",
    "                                        covers_x=(2., 2., 6., 2., 6., 6.),\n",
    "                                        covers_y=(2., 4., 6., 6., 4., 2.))\n",
    "\n",
    "plot_stimuli({\"Example 1:\": stim1, \"Example 2:\": stim2})\n",
    "plt.show()"
   ]
  },
  {
   "cell_type": "markdown",
   "metadata": {},
   "source": [
    "# todorovic_rectangle\n",
    "\n",
    "Todorovic stimulus with rectangular target and central target and cover placement."
   ]
  },
  {
   "cell_type": "code",
   "execution_count": null,
   "metadata": {},
   "outputs": [],
   "source": [
    "from stimuli.illusions.todorovic import todorovic_rectangle"
   ]
  },
  {
   "cell_type": "markdown",
   "metadata": {},
   "source": [
    "## Parameterization"
   ]
  },
  {
   "cell_type": "code",
   "execution_count": null,
   "metadata": {},
   "outputs": [],
   "source": [
    "params = {\n",
    "    \"visual_size\": (10., 10.),\n",
    "    \"ppd\": 10.0,\n",
    "    \"target_size\": (4., 4.),\n",
    "    \"covers_size\": (2., 2.),\n",
    "    \"covers_offset\": (2., 2.),\n",
    "    \"intensity_background\": 0.,\n",
    "    \"intensity_target\": 0.5,\n",
    "    \"intensity_covers\": 1.,\n",
    "}\n",
    "    \n",
    "stim = todorovic_rectangle(**params)\n",
    "plot_stim(stim)\n",
    "plt.show()"
   ]
  },
  {
   "cell_type": "markdown",
   "metadata": {},
   "source": [
    "In case you want everything to be symmetric, it is sufficient to define one element of all size and position-related variables."
   ]
  },
  {
   "cell_type": "code",
   "execution_count": null,
   "metadata": {},
   "outputs": [],
   "source": [
    "params = {\n",
    "    \"visual_size\": 10.,\n",
    "    \"ppd\": 10.0,\n",
    "    \"target_size\": 4.,\n",
    "    \"covers_size\": 2.,\n",
    "    \"covers_offset\": 2.,\n",
    "    \"intensity_background\": 0.,\n",
    "    \"intensity_target\": 0.5,\n",
    "    \"intensity_covers\": 1.,\n",
    "}\n",
    "    \n",
    "stim = todorovic_rectangle(**params)\n",
    "plot_stim(stim)\n",
    "plt.show()"
   ]
  },
  {
   "cell_type": "markdown",
   "metadata": {},
   "source": [
    "## Interactive"
   ]
  },
  {
   "cell_type": "code",
   "execution_count": null,
   "metadata": {},
   "outputs": [],
   "source": [
    "# Define widgets\n",
    "w_height = iw.IntSlider(value=12, min=5, max=16, description=\"height [deg]\")\n",
    "w_width = iw.IntSlider(value=12, min=5, max=16, description=\"width [deg]\")\n",
    "w_ppd = iw.IntSlider(value=10, min=1, max=30, description=\"ppd\")\n",
    "w_size = iw.HBox([w_height, w_width, w_ppd])\n",
    "\n",
    "w_theight = iw.FloatSlider(value=4., min=0.1, max=6.0, description=\"target height\")\n",
    "w_twidth = iw.FloatSlider(value=4., min=0.1, max=6.0, description=\"target width\")\n",
    "w_tsize = iw.HBox([w_theight, w_twidth])\n",
    "\n",
    "w_cheight = iw.FloatSlider(value=3., min=0.1, max=6.0, description=\"cover height\")\n",
    "w_cwidth = iw.FloatSlider(value=3., min=0.1, max=6.0, description=\"cover width\")\n",
    "w_csize = iw.HBox([w_cheight, w_cwidth])\n",
    "\n",
    "w_coffy = iw.FloatSlider(value=2., min=1., max=4.0, description=\"cover offset y\")\n",
    "w_coffx = iw.FloatSlider(value=2., min=1., max=4.0, description=\"cover offset x\")\n",
    "w_coff = iw.HBox([w_coffy, w_coffx])\n",
    "\n",
    "w_iback = iw.FloatSlider(value=0.0, min=0., max=1.0, description=\"intensity background\")\n",
    "w_icovers = iw.FloatSlider(value=1.0, min=0., max=1.0, description=\"intensity covers\")\n",
    "w_itarget = iw.FloatSlider(value=0.5, min=0., max=1.0, description=\"intensity target\")\n",
    "w_intensities = iw.HBox([w_iback, w_icovers, w_itarget])\n",
    "\n",
    "ui = iw.VBox([w_size, w_tsize, w_csize, w_coff, w_intensities])\n",
    "\n",
    "def show_todorovic(\n",
    "    height=None,\n",
    "    width=None,\n",
    "    ppd=None,\n",
    "    target_height=None,\n",
    "    target_width=None,\n",
    "    cover_height=None,\n",
    "    cover_width=None,\n",
    "    cover_offset_y=None,\n",
    "    cover_offset_x=None,\n",
    "    intensity_background=None,\n",
    "    intensity_covers=None,\n",
    "    intensity_target=None,\n",
    "):\n",
    "\n",
    "    stim = todorovic_rectangle(\n",
    "        visual_size=(height, width),\n",
    "        ppd=ppd,\n",
    "        target_size=(target_height, target_width),\n",
    "        covers_size=(cover_height, cover_width),\n",
    "        covers_offset=(cover_offset_y, cover_offset_x),\n",
    "        intensity_background=intensity_background,\n",
    "        intensity_covers=intensity_covers,\n",
    "        intensity_target=intensity_target,\n",
    "    )\n",
    "    plot_stim(stim)\n",
    "\n",
    "\n",
    "out = iw.interactive_output(show_todorovic,\n",
    "                            {\n",
    "                                \"height\": w_height,\n",
    "                                \"width\": w_width,\n",
    "                                \"ppd\": w_ppd,\n",
    "                                \"target_height\": w_theight,\n",
    "                                \"target_width\": w_twidth,\n",
    "                                \"cover_height\": w_cheight,\n",
    "                                \"cover_width\": w_cwidth,\n",
    "                                \"cover_offset_y\": w_coffy,\n",
    "                                \"cover_offset_x\": w_coffx,\n",
    "                                \"intensity_background\": w_iback,\n",
    "                                \"intensity_covers\": w_icovers,\n",
    "                                \"intensity_target\": w_itarget,\n",
    "                            })\n",
    "\n",
    "display(ui, out)\n"
   ]
  },
  {
   "cell_type": "markdown",
   "metadata": {},
   "source": [
    "# todorovic_cross_generalized\n",
    "\n",
    "General version of the Todorovic stimulus with cross-like target and with flexible target and cover placement."
   ]
  },
  {
   "cell_type": "code",
   "execution_count": null,
   "metadata": {},
   "outputs": [],
   "source": [
    "from stimuli.illusions.todorovic import todorovic_cross_generalized"
   ]
  },
  {
   "cell_type": "markdown",
   "metadata": {},
   "source": [
    "## Parameterization"
   ]
  },
  {
   "cell_type": "code",
   "execution_count": null,
   "metadata": {},
   "outputs": [],
   "source": [
    "params = {\n",
    "    \"visual_size\": (10., 10.),\n",
    "    \"ppd\": 10.0,\n",
    "    \"cross_size\": (3., 4.),\n",
    "    \"cross_thickness\": 2.,\n",
    "    \"covers_size\": (2., 2.),\n",
    "    \"covers_x\": (2.0, 6.0, 2.0, 6.0),\n",
    "    \"covers_y\": (2.0, 6.0, 6.0, 2.0),\n",
    "    \"intensity_background\": 0.,\n",
    "    \"intensity_target\": 0.5,\n",
    "    \"intensity_covers\": 1.,\n",
    "}\n",
    "    \n",
    "stim = todorovic_cross_generalized(**params)\n",
    "plot_stim(stim)\n",
    "plt.show()"
   ]
  },
  {
   "cell_type": "code",
   "execution_count": null,
   "metadata": {},
   "outputs": [],
   "source": [
    "params = {\n",
    "    \"visual_size\": 10.,\n",
    "    \"ppd\": 10.0,\n",
    "    \"cross_size\": 4.,\n",
    "    \"cross_thickness\": 2.,\n",
    "    \"covers_size\": 2.,\n",
    "    \"intensity_background\": 0.,\n",
    "    \"intensity_target\": 0.5,\n",
    "    \"intensity_covers\": 1.,\n",
    "}\n",
    "    \n",
    "stim1 = todorovic_cross_generalized(**params,\n",
    "                                    covers_x=(1., 4., 7.),\n",
    "                                    covers_y=(1., 4., 7.))\n",
    "\n",
    "stim2 = todorovic_cross_generalized(**params,\n",
    "                                    covers_x=(2., 2., 6., 2., 6., 6.),\n",
    "                                    covers_y=(2., 4., 6., 6., 4., 2.))\n",
    "\n",
    "plot_stimuli({\"Example 1:\": stim1, \"Example 2:\": stim2})\n",
    "plt.show()"
   ]
  },
  {
   "cell_type": "markdown",
   "metadata": {},
   "source": [
    "# todorovic_cross\n",
    "Todorovic stimulus with cross-like target and central target and cover placement."
   ]
  },
  {
   "cell_type": "code",
   "execution_count": null,
   "metadata": {},
   "outputs": [],
   "source": [
    "from stimuli.illusions.todorovic import todorovic_cross"
   ]
  },
  {
   "cell_type": "markdown",
   "metadata": {},
   "source": [
    "## Parameterization"
   ]
  },
  {
   "cell_type": "code",
   "execution_count": null,
   "metadata": {},
   "outputs": [],
   "source": [
    "params = {\n",
    "    \"visual_size\": (10., 10.),\n",
    "    \"ppd\": 10.0,\n",
    "    \"cross_size\": (4., 3.),\n",
    "    \"cross_thickness\": 2.,\n",
    "    \"covers_size\": (2., 2.),\n",
    "    \"intensity_background\": 0.,\n",
    "    \"intensity_target\": 0.5,\n",
    "    \"intensity_covers\": 1.,\n",
    "}\n",
    "    \n",
    "stim = todorovic_cross(**params)\n",
    "plot_stim(stim)\n",
    "plt.show()"
   ]
  },
  {
   "cell_type": "markdown",
   "metadata": {},
   "source": [
    "## Interactive"
   ]
  },
  {
   "cell_type": "code",
   "execution_count": null,
   "metadata": {},
   "outputs": [],
   "source": [
    "# Define widgets\n",
    "w_height = iw.IntSlider(value=12, min=5, max=16, description=\"height [deg]\")\n",
    "w_width = iw.IntSlider(value=12, min=5, max=16, description=\"width [deg]\")\n",
    "w_ppd = iw.IntSlider(value=10, min=1, max=32, description=\"ppd\")\n",
    "w_size = iw.HBox([w_height, w_width, w_ppd])\n",
    "\n",
    "w_theight = iw.FloatSlider(value=4., min=0.1, max=6.0, description=\"cross height\")\n",
    "w_twidth = iw.FloatSlider(value=4., min=0.1, max=6.0, description=\"cross width\")\n",
    "w_tthick = iw.FloatSlider(value=2., min=0.1, max=3.0, description=\"cross thickness\")\n",
    "w_tsize = iw.HBox([w_theight, w_twidth, w_tthick])\n",
    "\n",
    "w_cheight = iw.FloatSlider(value=3., min=0.1, max=6.0, description=\"cover height\")\n",
    "w_cwidth = iw.FloatSlider(value=3., min=0.1, max=6.0, description=\"cover width\")\n",
    "w_csize = iw.HBox([w_cheight, w_cwidth])\n",
    "\n",
    "w_iback = iw.FloatSlider(value=0.0, min=0., max=1.0, description=\"intensity background\")\n",
    "w_icovers = iw.FloatSlider(value=1.0, min=0., max=1.0, description=\"intensity covers\")\n",
    "w_itarget = iw.FloatSlider(value=0.5, min=0., max=1.0, description=\"intensity target\")\n",
    "w_intensities = iw.HBox([w_iback, w_icovers, w_itarget])\n",
    "\n",
    "ui = iw.VBox([w_size, w_tsize, w_csize, w_intensities])\n",
    "\n",
    "def show_todorovic(\n",
    "    height=None,\n",
    "    width=None,\n",
    "    ppd=None,\n",
    "    cross_height=None,\n",
    "    cross_width=None,\n",
    "    cross_thickness=None,\n",
    "    cover_height=None,\n",
    "    cover_width=None,\n",
    "    intensity_background=None,\n",
    "    intensity_covers=None,\n",
    "    intensity_target=None,\n",
    "):\n",
    "\n",
    "    stim = todorovic_cross(\n",
    "        visual_size=(height, width),\n",
    "        ppd=ppd,\n",
    "        cross_size=(cross_height, cross_width),\n",
    "        cross_thickness=cross_thickness,\n",
    "        covers_size=(cover_height, cover_width),\n",
    "        intensity_background=intensity_background,\n",
    "        intensity_covers=intensity_covers,\n",
    "        intensity_target=intensity_target,\n",
    "    )\n",
    "    plot_stim(stim)\n",
    "\n",
    "\n",
    "out = iw.interactive_output(show_todorovic,\n",
    "                            {\n",
    "                                \"height\": w_height,\n",
    "                                \"width\": w_width,\n",
    "                                \"ppd\": w_ppd,\n",
    "                                \"cross_height\": w_theight,\n",
    "                                \"cross_width\": w_twidth,\n",
    "                                \"cross_thickness\": w_tthick,\n",
    "                                \"cover_height\": w_cheight,\n",
    "                                \"cover_width\": w_cwidth,\n",
    "                                \"intensity_background\": w_iback,\n",
    "                                \"intensity_covers\": w_icovers,\n",
    "                                \"intensity_target\": w_itarget,\n",
    "                            })\n",
    "\n",
    "display(ui, out)\n"
   ]
  },
  {
   "cell_type": "code",
   "execution_count": null,
   "metadata": {},
   "outputs": [],
   "source": []
  }
 ],
 "metadata": {
  "kernelspec": {
   "display_name": "Python 3 (ipykernel)",
   "language": "python",
   "name": "python3"
  },
  "language_info": {
   "codemirror_mode": {
    "name": "ipython",
    "version": 3
   },
   "file_extension": ".py",
   "mimetype": "text/x-python",
   "name": "python",
   "nbconvert_exporter": "python",
   "pygments_lexer": "ipython3",
   "version": "3.10.6"
  },
  "toc": {
   "base_numbering": 1,
   "nav_menu": {},
   "number_sections": true,
   "sideBar": true,
   "skip_h1_title": false,
   "title_cell": "Table of Contents",
   "title_sidebar": "Contents",
   "toc_cell": false,
   "toc_position": {},
   "toc_section_display": true,
   "toc_window_display": false
  },
  "varInspector": {
   "cols": {
    "lenName": 16,
    "lenType": 16,
    "lenVar": 40
   },
   "kernels_config": {
    "python": {
     "delete_cmd_postfix": "",
     "delete_cmd_prefix": "del ",
     "library": "var_list.py",
     "varRefreshCmd": "print(var_dic_list())"
    },
    "r": {
     "delete_cmd_postfix": ") ",
     "delete_cmd_prefix": "rm(",
     "library": "var_list.r",
     "varRefreshCmd": "cat(var_dic_list()) "
    }
   },
   "types_to_exclude": [
    "module",
    "function",
    "builtin_function_or_method",
    "instance",
    "_Feature"
   ],
   "window_display": false
  },
  "vscode": {
   "interpreter": {
    "hash": "d79f930315d22092267204fc095ece7b80c939bb23fde6f7397d8c6352112825"
   }
  }
 },
 "nbformat": 4,
 "nbformat_minor": 2
}
